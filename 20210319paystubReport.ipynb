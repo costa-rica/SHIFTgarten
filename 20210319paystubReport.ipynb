{
 "cells": [
  {
   "cell_type": "code",
   "execution_count": 1,
   "metadata": {},
   "outputs": [
    {
     "name": "stderr",
     "output_type": "stream",
     "text": [
      "C:\\tools\\miniconda3\\envs\\dmrAppConda\\lib\\site-packages\\flask_sqlalchemy\\__init__.py:833: FSADeprecationWarning: SQLALCHEMY_TRACK_MODIFICATIONS adds significant overhead and will be disabled by default in the future.  Set it to True or False to suppress this warning.\n",
      "  warnings.warn(FSADeprecationWarning(\n"
     ]
    }
   ],
   "source": [
    "from dmrApp import create_app, db\n",
    "from dmrApp.models import Dmrs, Employees, Employeeroles, Post, Restaurants, Shifts, User, Standardwages\n",
    "from dmrApp.main.utils import shiftDataReport, payrollReportUtil, dmrDataReport, shiftDataLists,shiftDataLists2,formatExcelHeader\n",
    "import numpy as np\n",
    "from datetime import date, datetime\n",
    "from datetime import timedelta\n",
    "import datetime\n",
    "from sqlalchemy import func\n",
    "import pandas as pd\n",
    "import os\n",
    "proxyApp=create_app()\n",
    "ctx=proxyApp.app_context()\n",
    "ctx.push()\n",
    "import xlsxwriter"
   ]
  },
  {
   "cell_type": "code",
   "execution_count": 2,
   "metadata": {},
   "outputs": [],
   "source": [
    "#dateFrom, dateTo are datetime objects\n",
    "def shiftDataPayStubReport(dateFrom,dateTo, resId, colNamesShifts):\n",
    "    shiftData = Shifts.query\n",
    "    if dateFrom:\n",
    "        shiftData = shiftData.filter(Shifts.shiftDate>=dateFrom)\n",
    "    if dateTo:\n",
    "        shiftData = shiftData.filter(Shifts.shiftDate<=dateTo)\n",
    "    if resId:\n",
    "        shiftData = shiftData.filter(Shifts.restaurantId==resId)\n",
    "\n",
    "    uniqueEmpIdList = shiftData.with_entities(Shifts.empId).distinct().all()\n",
    "    dfList=[]\n",
    "    employeeCharMax=10\n",
    "    for i in uniqueEmpIdList:\n",
    "        shiftReportColumns = list(shiftDataLists2(shiftData.filter(Shifts.empId==i[0])))\n",
    "        if len(max(shiftReportColumns[1], key = len))>employeeCharMax:\n",
    "            employeeCharMax =len(max(shiftReportColumns[1], key = len))\n",
    "        dfShifts = pd.DataFrame(list(zip(shiftReportColumns[0],shiftReportColumns[1],\n",
    "            shiftReportColumns[2],shiftReportColumns[3],shiftReportColumns[4],shiftReportColumns[5],\n",
    "            shiftReportColumns[6],shiftReportColumns[7],shiftReportColumns[8],shiftReportColumns[9],\n",
    "            shiftReportColumns[10],shiftReportColumns[11])), columns=colNamesShifts)\n",
    "        dfList.append(dfShifts)\n",
    "    return (dfList, employeeCharMax)"
   ]
  },
  {
   "cell_type": "code",
   "execution_count": 18,
   "metadata": {},
   "outputs": [],
   "source": [
    "dateFrom='2021-01-11'\n",
    "dateTo='2021-01-21'\n",
    "dateFromForName = datetime.datetime.strptime(dateFrom,'%Y-%m-%d') #converts string to datetime object\n",
    "dateFromForName = dateFromForName.strftime('%m.%d.%y')\n",
    "dateToForName = datetime.datetime.strptime(dateTo,'%Y-%m-%d') #converts string to datetime object\n",
    "dateToForName = dateToForName.strftime('%m.%d.%y')\n",
    "\n",
    "reportName=f\"Test--MultipleRestaurants{dateFromForName}-{dateToForName}.xlsx\"\n",
    "\n",
    "excelObj=pd.ExcelWriter(os.path.join(proxyApp.root_path, 'static/reports/', reportName))\n",
    "workbook=excelObj.book\n",
    "formatDecimals = workbook.add_format({'num_format': '#,##0.00'})\n",
    "\n",
    "sheetName='Payroll Stubs'\n",
    "resId=7\n",
    "colNamesShifts =['Date','Name','Restaurant','Role','Scheduled time','Start time',\n",
    "    'Off time','Hours worked','Tips', 'Wages', 'Tips + Wages','Tips/Hour']\n",
    "colNamesShiftsStub =['Date','Restaurant','Role','Scheduled time','Start time',\n",
    "    'Off time','Hours worked','Tips', 'Wages', 'Tips + Wages','Tips/Hour']"
   ]
  },
  {
   "cell_type": "code",
   "execution_count": 19,
   "metadata": {},
   "outputs": [],
   "source": [
    "payrollStubsDf, employeeCharMax=shiftDataPayStubReport(dateFrom,dateTo, resId, colNamesShifts)\n",
    "startRow=1\n",
    "# payrollStubsDf[0].to_excel(excelObj,sheet_name=sheetName, startrow=startRow,header=False, index=False)"
   ]
  },
  {
   "cell_type": "code",
   "execution_count": 20,
   "metadata": {},
   "outputs": [
    {
     "ename": "KeyError",
     "evalue": "'Sheet1'",
     "output_type": "error",
     "traceback": [
      "\u001b[1;31m---------------------------------------------------------------------------\u001b[0m",
      "\u001b[1;31mKeyError\u001b[0m                                  Traceback (most recent call last)",
      "\u001b[1;32m<ipython-input-20-0f60b29abd55>\u001b[0m in \u001b[0;36m<module>\u001b[1;34m\u001b[0m\n\u001b[0;32m      1\u001b[0m \u001b[0mstartRow\u001b[0m\u001b[1;33m=\u001b[0m\u001b[1;36m1\u001b[0m\u001b[1;33m\u001b[0m\u001b[1;33m\u001b[0m\u001b[0m\n\u001b[0;32m      2\u001b[0m \u001b[1;33m\u001b[0m\u001b[0m\n\u001b[1;32m----> 3\u001b[1;33m \u001b[0mdfStubSheet\u001b[0m\u001b[1;33m=\u001b[0m\u001b[0mexcelObj\u001b[0m\u001b[1;33m.\u001b[0m\u001b[0msheets\u001b[0m\u001b[1;33m[\u001b[0m\u001b[1;34m'Sheet1'\u001b[0m\u001b[1;33m]\u001b[0m\u001b[1;33m\u001b[0m\u001b[1;33m\u001b[0m\u001b[0m\n\u001b[0m\u001b[0;32m      4\u001b[0m \u001b[0mpayrollStubsDfTemp\u001b[0m\u001b[1;33m=\u001b[0m\u001b[0mpayrollStubsDf\u001b[0m\u001b[1;33m[\u001b[0m\u001b[1;36m0\u001b[0m\u001b[1;33m]\u001b[0m\u001b[1;33m[\u001b[0m\u001b[0mcolNamesShiftsStub\u001b[0m\u001b[1;33m]\u001b[0m\u001b[1;33m.\u001b[0m\u001b[0mcopy\u001b[0m\u001b[1;33m(\u001b[0m\u001b[1;33m)\u001b[0m\u001b[1;33m\u001b[0m\u001b[1;33m\u001b[0m\u001b[0m\n\u001b[0;32m      5\u001b[0m \u001b[0mstubName\u001b[0m\u001b[1;33m=\u001b[0m\u001b[0mpayrollStubsDf\u001b[0m\u001b[1;33m[\u001b[0m\u001b[1;36m0\u001b[0m\u001b[1;33m]\u001b[0m\u001b[1;33m.\u001b[0m\u001b[0miloc\u001b[0m\u001b[1;33m[\u001b[0m\u001b[1;36m0\u001b[0m\u001b[1;33m,\u001b[0m\u001b[1;36m1\u001b[0m\u001b[1;33m]\u001b[0m\u001b[1;33m\u001b[0m\u001b[1;33m\u001b[0m\u001b[0m\n",
      "\u001b[1;31mKeyError\u001b[0m: 'Sheet1'"
     ]
    }
   ],
   "source": [
    "startRow=1\n",
    "\n",
    "dfStubSheet=excelObj.sheets[sheetName]\n",
    "payrollStubsDfTemp=payrollStubsDf[0][colNamesShiftsStub].copy()\n",
    "stubName=payrollStubsDf[0].iloc[0,1]\n",
    "dfStubSheet.write(startRow, 0,stubName)\n",
    "formatExcelHeader(workbook,dfStubSheet, payrollStubsDfTemp, startRow)\n",
    "\n",
    "\n",
    "excelObj.close()"
   ]
  },
  {
   "cell_type": "code",
   "execution_count": null,
   "metadata": {},
   "outputs": [],
   "source": []
  },
  {
   "cell_type": "code",
   "execution_count": 5,
   "metadata": {},
   "outputs": [],
   "source": [
    "payrollStubsDfTemp=payrollStubsDf[0][colNamesShiftsStub].copy()"
   ]
  },
  {
   "cell_type": "code",
   "execution_count": 6,
   "metadata": {},
   "outputs": [
    {
     "data": {
      "text/html": [
       "<div>\n",
       "<style scoped>\n",
       "    .dataframe tbody tr th:only-of-type {\n",
       "        vertical-align: middle;\n",
       "    }\n",
       "\n",
       "    .dataframe tbody tr th {\n",
       "        vertical-align: top;\n",
       "    }\n",
       "\n",
       "    .dataframe thead th {\n",
       "        text-align: right;\n",
       "    }\n",
       "</style>\n",
       "<table border=\"1\" class=\"dataframe\">\n",
       "  <thead>\n",
       "    <tr style=\"text-align: right;\">\n",
       "      <th></th>\n",
       "      <th>Date</th>\n",
       "      <th>Restaurant</th>\n",
       "      <th>Role</th>\n",
       "      <th>Scheduled time</th>\n",
       "      <th>Start time</th>\n",
       "      <th>Off time</th>\n",
       "      <th>Hours worked</th>\n",
       "      <th>Tips</th>\n",
       "      <th>Wages</th>\n",
       "      <th>Tips + Wages</th>\n",
       "      <th>Tips/Hour</th>\n",
       "    </tr>\n",
       "  </thead>\n",
       "  <tbody>\n",
       "    <tr>\n",
       "      <th>0</th>\n",
       "      <td>2021-01-18</td>\n",
       "      <td>Hops N Shine</td>\n",
       "      <td>Bartender</td>\n",
       "      <td>None</td>\n",
       "      <td>10:38 AM</td>\n",
       "      <td>09:52 PM</td>\n",
       "      <td>11.233333</td>\n",
       "      <td>405.930000</td>\n",
       "      <td>23.9270</td>\n",
       "      <td>429.857000</td>\n",
       "      <td>36.136202</td>\n",
       "    </tr>\n",
       "    <tr>\n",
       "      <th>1</th>\n",
       "      <td>2021-01-19</td>\n",
       "      <td>Hops N Shine</td>\n",
       "      <td>Bartender</td>\n",
       "      <td>None</td>\n",
       "      <td>05:07 PM</td>\n",
       "      <td>10:26 PM</td>\n",
       "      <td>5.316667</td>\n",
       "      <td>107.682741</td>\n",
       "      <td>11.3245</td>\n",
       "      <td>119.007241</td>\n",
       "      <td>20.253807</td>\n",
       "    </tr>\n",
       "  </tbody>\n",
       "</table>\n",
       "</div>"
      ],
      "text/plain": [
       "         Date    Restaurant       Role Scheduled time Start time  Off time  \\\n",
       "0  2021-01-18  Hops N Shine  Bartender           None   10:38 AM  09:52 PM   \n",
       "1  2021-01-19  Hops N Shine  Bartender           None   05:07 PM  10:26 PM   \n",
       "\n",
       "   Hours worked        Tips    Wages  Tips + Wages  Tips/Hour  \n",
       "0     11.233333  405.930000  23.9270    429.857000  36.136202  \n",
       "1      5.316667  107.682741  11.3245    119.007241  20.253807  "
      ]
     },
     "execution_count": 6,
     "metadata": {},
     "output_type": "execute_result"
    }
   ],
   "source": [
    "payrollStubsDfTemp"
   ]
  },
  {
   "cell_type": "code",
   "execution_count": null,
   "metadata": {},
   "outputs": [],
   "source": []
  },
  {
   "cell_type": "code",
   "execution_count": null,
   "metadata": {},
   "outputs": [],
   "source": []
  },
  {
   "cell_type": "code",
   "execution_count": null,
   "metadata": {},
   "outputs": [],
   "source": []
  },
  {
   "cell_type": "code",
   "execution_count": null,
   "metadata": {},
   "outputs": [],
   "source": []
  },
  {
   "cell_type": "code",
   "execution_count": null,
   "metadata": {},
   "outputs": [],
   "source": []
  },
  {
   "cell_type": "code",
   "execution_count": null,
   "metadata": {},
   "outputs": [],
   "source": []
  },
  {
   "cell_type": "code",
   "execution_count": null,
   "metadata": {},
   "outputs": [],
   "source": []
  }
 ],
 "metadata": {
  "kernelspec": {
   "display_name": "Python 3",
   "language": "python",
   "name": "python3"
  },
  "language_info": {
   "codemirror_mode": {
    "name": "ipython",
    "version": 3
   },
   "file_extension": ".py",
   "mimetype": "text/x-python",
   "name": "python",
   "nbconvert_exporter": "python",
   "pygments_lexer": "ipython3",
   "version": "3.8.5"
  }
 },
 "nbformat": 4,
 "nbformat_minor": 4
}
