{
 "cells": [
  {
   "cell_type": "code",
   "execution_count": 1,
   "metadata": {},
   "outputs": [
    {
     "name": "stderr",
     "output_type": "stream",
     "text": [
      "C:\\tools\\miniconda3\\envs\\dmrAppConda\\lib\\site-packages\\flask_sqlalchemy\\__init__.py:833: FSADeprecationWarning: SQLALCHEMY_TRACK_MODIFICATIONS adds significant overhead and will be disabled by default in the future.  Set it to True or False to suppress this warning.\n",
      "  warnings.warn(FSADeprecationWarning(\n"
     ]
    }
   ],
   "source": [
    "from dmrApp import create_app, db\n",
    "from dmrApp.models import Dmrs, Employees, Employeeroles, Post, Restaurants, Shifts, User, Standardwages\n",
    "from dmrApp.main.utils import shiftDataReport, payrollReportUtil, dmrDataReport, shiftDataLists\n",
    "import numpy as np\n",
    "from datetime import date, datetime\n",
    "from datetime import timedelta\n",
    "import datetime\n",
    "from sqlalchemy import func\n",
    "import pandas as pd\n",
    "import os\n",
    "proxyApp=create_app()\n",
    "ctx=proxyApp.app_context()\n",
    "ctx.push()"
   ]
  },
  {
   "cell_type": "code",
   "execution_count": null,
   "metadata": {},
   "outputs": [],
   "source": [
    "empName='Zane'\n",
    "db.session.query(Employees).filter(\n",
    "                (Employees.name==empName)).all()"
   ]
  },
  {
   "cell_type": "code",
   "execution_count": null,
   "metadata": {},
   "outputs": [],
   "source": [
    "dmrDateObj=date(2021,1,21)\n",
    "resId=7\n",
    "shiftDataAdd=Shifts.query.filter_by(shiftDate=dmrDateObj,restaurantId=resId)"
   ]
  },
  {
   "cell_type": "code",
   "execution_count": null,
   "metadata": {},
   "outputs": [],
   "source": [
    "shiftDataAdd.with_entities(Shifts.hoursWorked).all()"
   ]
  },
  {
   "cell_type": "code",
   "execution_count": null,
   "metadata": {},
   "outputs": [],
   "source": [
    "dateFrom=date(2021,1,21)\n",
    "dateTo=date(2021,1,21)\n",
    "resId=7\n",
    "shiftData = Shifts.query\n",
    "if dateFrom:\n",
    "    shiftData = shiftData.filter(Shifts.shiftDate>=dateFrom)\n",
    "if dateTo:\n",
    "    shiftData = shiftData.filter(Shifts.shiftDate<=dateTo)\n",
    "if resId:\n",
    "    shiftData = shiftData.filter(Shifts.restaurantId==resId)\n",
    "len(shiftData.all())"
   ]
  },
  {
   "cell_type": "code",
   "execution_count": null,
   "metadata": {},
   "outputs": [],
   "source": [
    "shiftTipsPerHourList=[]\n",
    "for i in shiftData:\n",
    "#     print(i.restaurant.id,i.shiftDate)\n",
    "#     print(i.employeerole.role)\n",
    "    if i.employeerole.role == 'Bartender':\n",
    "        shiftTipsPerHour=db.session.query(func.max(Dmrs.id),Dmrs.bartenderTipsPerHour,Dmrs.appTipsPerHour\n",
    "                          ).filter_by(restaurantId=i.restaurant.id,dmrDate=i.shiftDate).first()[1]\n",
    "    if i.employeerole.role == 'Apprentice':\n",
    "        shiftTipsPerHour=db.session.query(func.max(Dmrs.id),Dmrs.bartenderTipsPerHour,Dmrs.appTipsPerHour\n",
    "                          ).filter_by(restaurantId=i.restaurant.id,dmrDate=i.shiftDate).first()[2]\n",
    "    shiftTipsPerHourList.append(shiftTipsPerHour)\n",
    "#     print(db.session.query(func.max(Dmrs.id),Dmrs.bartenderTipsPerHour,Dmrs.appTipsPerHour\n",
    "#                           ).filter_by(restaurantId=i.restaurant.id,dmrDate=i.shiftDate).first())\n",
    "#     print(Dmrs.query.filter_by(restaurantId=i.restaurant.id,dmrDate=i.shiftDate).first().numHoursWorked)\n",
    "# bartenderTipsForEachShift="
   ]
  },
  {
   "cell_type": "code",
   "execution_count": 6,
   "metadata": {},
   "outputs": [],
   "source": [
    "import numbers\n",
    "import decimal"
   ]
  },
  {
   "cell_type": "code",
   "execution_count": 12,
   "metadata": {},
   "outputs": [
    {
     "data": {
      "text/plain": [
       "'15,555.55'"
      ]
     },
     "execution_count": 12,
     "metadata": {},
     "output_type": "execute_result"
    }
   ],
   "source": [
    "\"{0:,.2f}\".format(15555.552)"
   ]
  },
  {
   "cell_type": "code",
   "execution_count": 14,
   "metadata": {},
   "outputs": [
    {
     "data": {
      "text/plain": [
       "[{'Employee': 'Amir-Bartender',\n",
       "  'Restaurant Name': 'Hops N Shine',\n",
       "  'Hours Week1': 24.216666666666665,\n",
       "  'Hours Week2': 12.966666666666667,\n",
       "  'Total Hours': 37.18333333333333,\n",
       "  'Wages Week1': 51.581500000000005,\n",
       "  'Wages Week2': 27.619,\n",
       "  'Total Wages': 79.2005,\n",
       "  'Tips Week1': 492.5962897860154,\n",
       "  'Tips Week2': 323.87434529251607,\n",
       "  'Total Tips': 816.4706350785315,\n",
       "  'Tips+Wages Week1': 544.1777897860154,\n",
       "  'Tips+Wages Week2': 351.4933452925161,\n",
       "  'Total Tips+Wages': 895.6711350785315},\n",
       " {'Employee': 'Anya-Bartender',\n",
       "  'Restaurant Name': 'Hops N Shine',\n",
       "  'Hours Week1': 27.7,\n",
       "  'Hours Week2': 16.166666666666664,\n",
       "  'Total Hours': 43.86666666666666,\n",
       "  'Wages Week1': 59.001000000000005,\n",
       "  'Wages Week2': 34.435,\n",
       "  'Total Wages': 93.436,\n",
       "  'Tips Week1': 560.0495981912687,\n",
       "  'Tips Week2': 420.5636827915444,\n",
       "  'Total Tips': 980.6132809828132,\n",
       "  'Tips+Wages Week1': 619.0505981912687,\n",
       "  'Tips+Wages Week2': 454.9986827915444,\n",
       "  'Total Tips+Wages': 1074.0492809828131},\n",
       " {'Employee': 'Danny-Bartender',\n",
       "  'Restaurant Name': 'Hops N Shine',\n",
       "  'Hours Week1': 7.983333333333333,\n",
       "  'Hours Week2': 0.0,\n",
       "  'Total Hours': 7.983333333333333,\n",
       "  'Wages Week1': 17.0045,\n",
       "  'Wages Week2': 0.0,\n",
       "  'Total Wages': 17.0045,\n",
       "  'Tips Week1': 126.3922906403941,\n",
       "  'Tips Week2': 0.0,\n",
       "  'Total Tips': 126.3922906403941,\n",
       "  'Tips+Wages Week1': 143.3967906403941,\n",
       "  'Tips+Wages Week2': 0.0,\n",
       "  'Total Tips+Wages': 143.3967906403941},\n",
       " {'Employee': 'Milton-Bartender',\n",
       "  'Restaurant Name': 'Hops N Shine',\n",
       "  'Hours Week1': 18.7,\n",
       "  'Hours Week2': 14.433333333333334,\n",
       "  'Total Hours': 33.13333333333333,\n",
       "  'Wages Week1': 39.831,\n",
       "  'Wages Week2': 30.743000000000002,\n",
       "  'Total Wages': 70.57400000000001,\n",
       "  'Tips Week1': 459.2086650189972,\n",
       "  'Tips Week2': 375.89060292274144,\n",
       "  'Total Tips': 835.0992679417386,\n",
       "  'Tips+Wages Week1': 499.0396650189972,\n",
       "  'Tips+Wages Week2': 406.63360292274143,\n",
       "  'Total Tips+Wages': 905.6732679417387},\n",
       " {'Employee': 'Philip-Bartender',\n",
       "  'Restaurant Name': 'Hops N Shine',\n",
       "  'Hours Week1': 6.4,\n",
       "  'Hours Week2': 0.0,\n",
       "  'Total Hours': 6.4,\n",
       "  'Wages Week1': 13.632,\n",
       "  'Wages Week2': 0.0,\n",
       "  'Total Wages': 13.632,\n",
       "  'Tips Week1': 169.8622189992748,\n",
       "  'Tips Week2': 0.0,\n",
       "  'Total Tips': 169.8622189992748,\n",
       "  'Tips+Wages Week1': 183.4942189992748,\n",
       "  'Tips+Wages Week2': 0.0,\n",
       "  'Total Tips+Wages': 183.4942189992748},\n",
       " {'Employee': 'Shayan-Bartender',\n",
       "  'Restaurant Name': 'Hops N Shine',\n",
       "  'Hours Week1': 20.666666666666664,\n",
       "  'Hours Week2': 18.833333333333336,\n",
       "  'Total Hours': 39.5,\n",
       "  'Wages Week1': 44.019999999999996,\n",
       "  'Wages Week2': 40.114999999999995,\n",
       "  'Total Wages': 84.13499999999999,\n",
       "  'Tips Week1': 539.9109373640497,\n",
       "  'Tips Week2': 474.7113689931982,\n",
       "  'Total Tips': 1014.6223063572479,\n",
       "  'Tips+Wages Week1': 583.9309373640497,\n",
       "  'Tips+Wages Week2': 514.8263689931982,\n",
       "  'Total Tips+Wages': 1098.757306357248}]"
      ]
     },
     "execution_count": 14,
     "metadata": {},
     "output_type": "execute_result"
    }
   ],
   "source": [
    "payrollReportDf"
   ]
  },
  {
   "cell_type": "code",
   "execution_count": 16,
   "metadata": {},
   "outputs": [
    {
     "name": "stdout",
     "output_type": "stream",
     "text": [
      "payrollReport Completed Successfully\n"
     ]
    },
    {
     "data": {
      "text/plain": [
       "[{'Employee': 'Amir-Bartender',\n",
       "  'Restaurant Name': 'Hops N Shine',\n",
       "  'Hours Week1': '24.22',\n",
       "  'Hours Week2': '12.97',\n",
       "  'Total Hours': '37.18',\n",
       "  'Wages Week1': '51.58',\n",
       "  'Wages Week2': '27.62',\n",
       "  'Total Wages': '79.20',\n",
       "  'Tips Week1': '492.60',\n",
       "  'Tips Week2': '323.87',\n",
       "  'Total Tips': '816.47',\n",
       "  'Tips+Wages Week1': '544.18',\n",
       "  'Tips+Wages Week2': '351.49',\n",
       "  'Total Tips+Wages': '895.67'},\n",
       " {'Employee': 'Anya-Bartender',\n",
       "  'Restaurant Name': 'Hops N Shine',\n",
       "  'Hours Week1': '27.70',\n",
       "  'Hours Week2': '16.17',\n",
       "  'Total Hours': '43.87',\n",
       "  'Wages Week1': '59.00',\n",
       "  'Wages Week2': '34.44',\n",
       "  'Total Wages': '93.44',\n",
       "  'Tips Week1': '560.05',\n",
       "  'Tips Week2': '420.56',\n",
       "  'Total Tips': '980.61',\n",
       "  'Tips+Wages Week1': '619.05',\n",
       "  'Tips+Wages Week2': '455.00',\n",
       "  'Total Tips+Wages': '1,074.05'},\n",
       " {'Employee': 'Danny-Bartender',\n",
       "  'Restaurant Name': 'Hops N Shine',\n",
       "  'Hours Week1': '7.98',\n",
       "  'Hours Week2': '0.00',\n",
       "  'Total Hours': '7.98',\n",
       "  'Wages Week1': '17.00',\n",
       "  'Wages Week2': '0.00',\n",
       "  'Total Wages': '17.00',\n",
       "  'Tips Week1': '126.39',\n",
       "  'Tips Week2': '0.00',\n",
       "  'Total Tips': '126.39',\n",
       "  'Tips+Wages Week1': '143.40',\n",
       "  'Tips+Wages Week2': '0.00',\n",
       "  'Total Tips+Wages': '143.40'},\n",
       " {'Employee': 'Milton-Bartender',\n",
       "  'Restaurant Name': 'Hops N Shine',\n",
       "  'Hours Week1': '18.70',\n",
       "  'Hours Week2': '14.43',\n",
       "  'Total Hours': '33.13',\n",
       "  'Wages Week1': '39.83',\n",
       "  'Wages Week2': '30.74',\n",
       "  'Total Wages': '70.57',\n",
       "  'Tips Week1': '459.21',\n",
       "  'Tips Week2': '375.89',\n",
       "  'Total Tips': '835.10',\n",
       "  'Tips+Wages Week1': '499.04',\n",
       "  'Tips+Wages Week2': '406.63',\n",
       "  'Total Tips+Wages': '905.67'},\n",
       " {'Employee': 'Philip-Bartender',\n",
       "  'Restaurant Name': 'Hops N Shine',\n",
       "  'Hours Week1': '6.40',\n",
       "  'Hours Week2': '0.00',\n",
       "  'Total Hours': '6.40',\n",
       "  'Wages Week1': '13.63',\n",
       "  'Wages Week2': '0.00',\n",
       "  'Total Wages': '13.63',\n",
       "  'Tips Week1': '169.86',\n",
       "  'Tips Week2': '0.00',\n",
       "  'Total Tips': '169.86',\n",
       "  'Tips+Wages Week1': '183.49',\n",
       "  'Tips+Wages Week2': '0.00',\n",
       "  'Total Tips+Wages': '183.49'},\n",
       " {'Employee': 'Shayan-Bartender',\n",
       "  'Restaurant Name': 'Hops N Shine',\n",
       "  'Hours Week1': '20.67',\n",
       "  'Hours Week2': '18.83',\n",
       "  'Total Hours': '39.50',\n",
       "  'Wages Week1': '44.02',\n",
       "  'Wages Week2': '40.11',\n",
       "  'Total Wages': '84.13',\n",
       "  'Tips Week1': '539.91',\n",
       "  'Tips Week2': '474.71',\n",
       "  'Total Tips': '1,014.62',\n",
       "  'Tips+Wages Week1': '583.93',\n",
       "  'Tips+Wages Week2': '514.83',\n",
       "  'Total Tips+Wages': '1,098.76'}]"
      ]
     },
     "execution_count": 16,
     "metadata": {},
     "output_type": "execute_result"
    }
   ],
   "source": [
    "dateTo=''\n",
    "dateFrom='2021-01-21'\n",
    "resId=7\n",
    "payrollReport=payrollReportUtil(dateFrom,dateTo,resId)\n",
    "payrollReportDf=payrollReport[0].to_dict('records')\n",
    "for i in payrollReportDf:\n",
    "    for j,k in i.items():\n",
    "        if isinstance(k, numbers.Number):\n",
    "            i[j]=\"{0:,.2f}\".format(k)\n",
    "payrollReportDf"
   ]
  },
  {
   "cell_type": "code",
   "execution_count": null,
   "metadata": {},
   "outputs": [],
   "source": []
  },
  {
   "cell_type": "code",
   "execution_count": 2,
   "metadata": {},
   "outputs": [],
   "source": [
    "dateTo='2021-01-21'\n",
    "dateFrom='2021-01-21'\n",
    "resId=7\n",
    "colNamesShifts =['Date','Employee','Restaurant','Scheduled time','Start time',\n",
    "    'Off time','Hours worked','Tips', 'Wages', 'Tips + Wages','Tips/Hour']\n",
    "\n",
    "shiftData = Shifts.query\n",
    "if dateFrom:\n",
    "    shiftData = shiftData.filter(Shifts.shiftDate>=dateFrom)\n",
    "if dateTo:\n",
    "    shiftData = shiftData.filter(Shifts.shiftDate<=dateTo)\n",
    "if resId:\n",
    "    shiftData = shiftData.filter(Shifts.restaurantId==resId)\n",
    "\n",
    "uniqueEmpIdList = shiftData.with_entities(Shifts.empId).distinct().all()\n",
    "\n",
    "dfList=[]\n",
    "for i in uniqueEmpIdList:\n",
    "    shiftReportColumns = list(shiftDataLists(shiftData.filter(Shifts.empId==i[0])))\n",
    "    res = max(shiftReportColumns[1], key = len)\n",
    "#     print('max length', len(res))\n",
    "    dfShifts = pd.DataFrame(list(zip(shiftReportColumns[0],shiftReportColumns[1],\n",
    "                           shiftReportColumns[2],shiftReportColumns[3],\n",
    "                           shiftReportColumns[4],shiftReportColumns[5],\n",
    "                           shiftReportColumns[6],shiftReportColumns[7],\n",
    "                           shiftReportColumns[8],shiftReportColumns[9],\n",
    "                           shiftReportColumns[10]\n",
    "                           )), columns=colNamesShifts)\n",
    "    dfList.append(dfShifts)\n",
    "# dfList"
   ]
  },
  {
   "cell_type": "code",
   "execution_count": 4,
   "metadata": {},
   "outputs": [
    {
     "data": {
      "text/plain": [
       "Index(['Date', 'Employee', 'Restaurant', 'Scheduled time', 'Start time',\n",
       "       'Off time', 'Hours worked', 'Tips', 'Wages', 'Tips + Wages',\n",
       "       'Tips/Hour'],\n",
       "      dtype='object')"
      ]
     },
     "execution_count": 4,
     "metadata": {},
     "output_type": "execute_result"
    }
   ],
   "source": [
    "dfList[1].columns"
   ]
  },
  {
   "cell_type": "code",
   "execution_count": 49,
   "metadata": {},
   "outputs": [
    {
     "data": {
      "text/plain": [
       "[(3), (6)]"
      ]
     },
     "execution_count": 49,
     "metadata": {},
     "output_type": "execute_result"
    }
   ],
   "source": [
    "uniqueEmpIdList = shiftData.with_entities(Shifts.empId).distinct().all()"
   ]
  },
  {
   "cell_type": "code",
   "execution_count": null,
   "metadata": {},
   "outputs": [],
   "source": []
  },
  {
   "cell_type": "code",
   "execution_count": null,
   "metadata": {},
   "outputs": [],
   "source": []
  },
  {
   "cell_type": "code",
   "execution_count": null,
   "metadata": {},
   "outputs": [],
   "source": []
  }
 ],
 "metadata": {
  "kernelspec": {
   "display_name": "Python 3",
   "language": "python",
   "name": "python3"
  },
  "language_info": {
   "codemirror_mode": {
    "name": "ipython",
    "version": 3
   },
   "file_extension": ".py",
   "mimetype": "text/x-python",
   "name": "python",
   "nbconvert_exporter": "python",
   "pygments_lexer": "ipython3",
   "version": "3.8.5"
  }
 },
 "nbformat": 4,
 "nbformat_minor": 4
}
