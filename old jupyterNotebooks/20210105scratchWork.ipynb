{
 "cells": [
  {
   "cell_type": "code",
   "execution_count": 101,
   "metadata": {},
   "outputs": [
    {
     "name": "stderr",
     "output_type": "stream",
     "text": [
      "C:\\tools\\miniconda3\\envs\\dmrAppConda\\lib\\site-packages\\flask_sqlalchemy\\__init__.py:833: FSADeprecationWarning: SQLALCHEMY_TRACK_MODIFICATIONS adds significant overhead and will be disabled by default in the future.  Set it to True or False to suppress this warning.\n",
      "  warnings.warn(FSADeprecationWarning(\n"
     ]
    }
   ],
   "source": [
    "from dmrApp import create_app, db\n",
    "from dmrApp.models import Dmrs, Employees, Employeeroles, Post, Restaurants, Shifts, \\\n",
    "    User, Standardwages\n",
    "import numpy as np\n",
    "from datetime import date, datetime\n",
    "from sqlalchemy import func\n",
    "proxyApp=create_app()\n",
    "ctx=proxyApp.app_context()\n",
    "ctx.push()"
   ]
  },
  {
   "cell_type": "code",
   "execution_count": 100,
   "metadata": {},
   "outputs": [],
   "source": [
    "ctx.pop()"
   ]
  },
  {
   "cell_type": "code",
   "execution_count": null,
   "metadata": {},
   "outputs": [],
   "source": []
  },
  {
   "cell_type": "code",
   "execution_count": 5,
   "metadata": {},
   "outputs": [],
   "source": [
    "dmrDateObj=date(2020,12,31)\n",
    "restaurantGroupId=1\n",
    "resId=3\n",
    "shiftData = Shifts.query.filter_by(restaurantId=resId, shiftDate=dmrDateObj)\n",
    "dmrDataDelete = db.session.query(Dmrs,func.max(Dmrs.id)).filter_by(restaurantId=resId, dmrDate=dmrDateObj).first()[0]"
   ]
  },
  {
   "cell_type": "code",
   "execution_count": 10,
   "metadata": {},
   "outputs": [
    {
     "data": {
      "text/plain": [
       "Dmr('58','2020-12-31','3','Tysons Biergarten')"
      ]
     },
     "execution_count": 10,
     "metadata": {},
     "output_type": "execute_result"
    }
   ],
   "source": [
    "dmrDataDelete"
   ]
  },
  {
   "cell_type": "code",
   "execution_count": 14,
   "metadata": {},
   "outputs": [],
   "source": [
    "dmrDataDelete.bartenderTipsPerHour=3.0\n",
    "db.session.commit()"
   ]
  },
  {
   "cell_type": "code",
   "execution_count": 13,
   "metadata": {},
   "outputs": [
    {
     "data": {
      "text/plain": [
       "0.0"
      ]
     },
     "execution_count": 13,
     "metadata": {},
     "output_type": "execute_result"
    }
   ],
   "source": [
    "dmrDataDelete.bartenderTipsPerHour"
   ]
  },
  {
   "cell_type": "code",
   "execution_count": 24,
   "metadata": {},
   "outputs": [],
   "source": [
    "fullTipOutHours=None\n",
    "fullTipOutHours=0 if fullTipOutHours==None or fullTipOutHours=='' else fullTipOutHours"
   ]
  },
  {
   "cell_type": "code",
   "execution_count": 23,
   "metadata": {},
   "outputs": [
    {
     "data": {
      "text/plain": [
       "0"
      ]
     },
     "execution_count": 23,
     "metadata": {},
     "output_type": "execute_result"
    }
   ],
   "source": [
    "fullTipOutHours"
   ]
  },
  {
   "cell_type": "code",
   "execution_count": 27,
   "metadata": {},
   "outputs": [],
   "source": [
    "def calcHoursRes(resId, dmrDateObj):\n",
    "    #get Restaurant hoursWorked\n",
    "    shiftData = Shifts.query.filter_by(restaurantId=resId, shiftDate=dmrDateObj)\n",
    "    tipOutFullShiftIdList=[i.id for i in shiftData if i.employeerole.tipPercentage==1.0]\n",
    "    tipOutHalfShiftIdList=[i.id for i in shiftData if i.employeerole.tipPercentage==0.5]\n",
    "    fullTipOutHours=sum([Shifts.query.get(i).hoursWorked for i in tipOutFullShiftIdList])\n",
    "    halfTipOutHours=sum([Shifts.query.get(i).hoursWorked for i in tipOutHalfShiftIdList])\n",
    "    fullTipOutHours=0 if fullTipOutHours==None or fullTipOutHours=='' else fullTipOutHours\n",
    "    halfTipOutHours=0 if halfTipOutHours==None or halfTipOutHours=='' else halfTipOutHours\n",
    "    if resId in [3,4,5,6]:\n",
    "        shiftData = Shifts.query.filter_by(restaurantGroupId=1, shiftDate=dmrDateObj)\n",
    "        tipOutFullShiftIdListG=[i.id for i in shiftData if i.employeerole.tipPercentage==1.0]\n",
    "        tipOutHalfShiftIdListG=[i.id for i in shiftData if i.employeerole.tipPercentage==0.5]\n",
    "        fullTipOutHoursG=sum([Shifts.query.get(i).hoursWorked for i in tipOutFullShiftIdListG])\n",
    "        halfTipOutHoursG=sum([Shifts.query.get(i).hoursWorked for i in tipOutHalfShiftIdListG])\n",
    "        fullTipOutHoursG=0 if fullTipOutHoursG==None or fullTipOutHoursG=='' else fullTipOutHoursG\n",
    "        halfTipOutHoursG=0 if halfTipOutHoursG==None or halfTipOutHoursG=='' else halfTipOutHoursG\n",
    "        return (fullTipOutHours,halfTipOutHours,fullTipOutHoursG,halfTipOutHoursG)\n",
    "    return (fullTipOutHours,halfTipOutHours)"
   ]
  },
  {
   "cell_type": "code",
   "execution_count": 28,
   "metadata": {},
   "outputs": [],
   "source": [
    "hours=calcHoursRes(resId, dmrDateObj)"
   ]
  },
  {
   "cell_type": "code",
   "execution_count": 29,
   "metadata": {},
   "outputs": [
    {
     "data": {
      "text/plain": [
       "(2.0, 0, 2.0, 0)"
      ]
     },
     "execution_count": 29,
     "metadata": {},
     "output_type": "execute_result"
    }
   ],
   "source": [
    "hours"
   ]
  },
  {
   "cell_type": "code",
   "execution_count": 31,
   "metadata": {},
   "outputs": [],
   "source": [
    "tipG=db.session.query(Dmrs.tip,func.max(Dmrs.id)).filter_by(dmrDate=dmrDateObj,restaurantGroupId=1).first()[0]"
   ]
  },
  {
   "cell_type": "code",
   "execution_count": 32,
   "metadata": {},
   "outputs": [
    {
     "data": {
      "text/plain": [
       "3.0"
      ]
     },
     "execution_count": 32,
     "metadata": {},
     "output_type": "execute_result"
    }
   ],
   "source": [
    "tipG"
   ]
  },
  {
   "cell_type": "code",
   "execution_count": 34,
   "metadata": {},
   "outputs": [],
   "source": [
    "shiftGroupDataDelete = Shifts.query.filter_by(restaurantGroupId=1, shiftDate=dmrDateObj)"
   ]
  },
  {
   "cell_type": "code",
   "execution_count": 37,
   "metadata": {},
   "outputs": [
    {
     "name": "stdout",
     "output_type": "stream",
     "text": [
      "1.0\n",
      "1.0\n"
     ]
    }
   ],
   "source": [
    "for i in shiftGroupDataDelete:\n",
    "    print(i.employeerole.tipPercentage)"
   ]
  },
  {
   "cell_type": "code",
   "execution_count": 40,
   "metadata": {},
   "outputs": [],
   "source": [
    "dmrDataDelete = db.session.query(Dmrs,func.max(Dmrs.id)).filter_by(restaurantId=resId).first()[0]"
   ]
  },
  {
   "cell_type": "code",
   "execution_count": 41,
   "metadata": {},
   "outputs": [
    {
     "data": {
      "text/plain": [
       "Dmr('61','2020-12-31','3','Tysons Biergarten')"
      ]
     },
     "execution_count": 41,
     "metadata": {},
     "output_type": "execute_result"
    }
   ],
   "source": [
    "dmrDataDelete"
   ]
  },
  {
   "cell_type": "code",
   "execution_count": null,
   "metadata": {},
   "outputs": [],
   "source": [
    "#delete old dmr records\n",
    "dateFrom=date(2021,1,6)\n",
    "dateTo=date(2020,1,1)\n",
    "Dmrs.query.filter_by(dmrDate<)\n"
   ]
  },
  {
   "cell_type": "code",
   "execution_count": 48,
   "metadata": {},
   "outputs": [],
   "source": [
    "currentDmrs=[i[0] for i in db.session.query(func.max(Dmrs.id)).group_by(Dmrs.restaurantId).all()]"
   ]
  },
  {
   "cell_type": "code",
   "execution_count": 49,
   "metadata": {},
   "outputs": [
    {
     "data": {
      "text/plain": [
       "[59, 76, 9, 13]"
      ]
     },
     "execution_count": 49,
     "metadata": {},
     "output_type": "execute_result"
    }
   ],
   "source": [
    "currentDmrs"
   ]
  },
  {
   "cell_type": "code",
   "execution_count": 50,
   "metadata": {},
   "outputs": [
    {
     "name": "stdout",
     "output_type": "stream",
     "text": [
      "CBC Restaurants\n",
      "Tysons Biergarten\n",
      "RollBar\n",
      "Chalkboard BBQ\n"
     ]
    }
   ],
   "source": [
    "for i in currentDmrs:\n",
    "    print(Dmrs.query.get(i).restaurant.name)"
   ]
  },
  {
   "cell_type": "code",
   "execution_count": null,
   "metadata": {},
   "outputs": [],
   "source": []
  },
  {
   "cell_type": "code",
   "execution_count": null,
   "metadata": {},
   "outputs": [],
   "source": [
    "#start 1/7/2021"
   ]
  },
  {
   "cell_type": "code",
   "execution_count": 51,
   "metadata": {},
   "outputs": [],
   "source": [
    "def calcHours(resId, dmrDateObj):\n",
    "    shiftData = Shifts.query.filter_by(restaurantId=resId, shiftDate=dmrDateObj)\n",
    "    tipOutFullShiftIdList=[i.id for i in shiftData if i.employeerole.tipPercentage==1.0]\n",
    "    tipOutHalfShiftIdList=[i.id for i in shiftData if i.employeerole.tipPercentage==0.5]\n",
    "    fullTipOutHours=sum([Shifts.query.get(i).hoursWorked for i in tipOutFullShiftIdList])\n",
    "    halfTipOutHours=sum([Shifts.query.get(i).hoursWorked for i in tipOutHalfShiftIdList])\n",
    "    fullTipOutHours=0 if fullTipOutHours==None or fullTipOutHours=='' else fullTipOutHours\n",
    "    halfTipOutHours=0 if halfTipOutHours==None or halfTipOutHours=='' else halfTipOutHours\n",
    "    \n",
    "    shiftDataCbc = Shifts.query.filter_by(shiftDate=dmrDateObj)\n",
    "    tipOutFullShiftIdListCbc=[i.id for i in shiftData if i.employeerole.tipPercentage==1.0]\n",
    "    tipOutHalfShiftIdListCbc=[i.id for i in shiftData if i.employeerole.tipPercentage==0.5]\n",
    "    fullTipOutHoursCbc=sum([Shifts.query.get(i).hoursWorked for i in tipOutFullShiftIdListCbc])\n",
    "    halfTipOutHoursCbc=sum([Shifts.query.get(i).hoursWorked for i in tipOutHalfShiftIdListCbc])\n",
    "    fullTipOutHoursCbc=0 if fullTipOutHoursCbc==None or fullTipOutHoursCbc=='' else fullTipOutHoursCbc\n",
    "    halfTipOutHoursCbc=0 if halfTipOutHoursCbc==None or halfTipOutHoursCbc=='' else halfTipOutHoursCbc\n",
    "    \n",
    "    \n",
    "    if resId in [3,4,5,6]:\n",
    "        shiftData = Shifts.query.filter_by(restaurantGroupId=2, shiftDate=dmrDateObj)\n",
    "        tipOutFullShiftIdListG=[i.id for i in shiftData if i.employeerole.tipPercentage==1.0]\n",
    "        tipOutHalfShiftIdListG=[i.id for i in shiftData if i.employeerole.tipPercentage==0.5]\n",
    "        fullTipOutHoursG=sum([Shifts.query.get(i).hoursWorked for i in tipOutFullShiftIdListG])\n",
    "        halfTipOutHoursG=sum([Shifts.query.get(i).hoursWorked for i in tipOutHalfShiftIdListG])\n",
    "        fullTipOutHoursG=0 if fullTipOutHoursG==None or fullTipOutHoursG=='' else fullTipOutHoursG\n",
    "        halfTipOutHoursG=0 if halfTipOutHoursG==None or halfTipOutHoursG=='' else halfTipOutHoursG\n",
    "        return (fullTipOutHours,halfTipOutHours,fullTipOutHoursCbc,halfTipOutHoursCbc,fullTipOutHoursG,halfTipOutHoursG)\n",
    "    return (fullTipOutHours,halfTipOutHours,fullTipOutHoursCbc,halfTipOutHoursCbc)"
   ]
  },
  {
   "cell_type": "code",
   "execution_count": 59,
   "metadata": {},
   "outputs": [],
   "source": [
    "def resAvgTips(resId, dmrDateObj, resHoursTuple):\n",
    "    tip=db.session.query(Dmrs.tip,func.max(Dmrs.id)).filter_by(restaurantId=resId,dmrDate=dmrDateObj).first()[0]\n",
    "    if sum(list(resHoursTuple[0:3])) ==0:\n",
    "        bartenderTipsPerHour=0\n",
    "        appTipsPerHour=0\n",
    "    elif resHoursTuple[0]>0 and resHoursTuple[1]==0:\n",
    "        bartenderTipsPerHour = tip / resHoursTuple[0]\n",
    "        appTipsPerHour=0\n",
    "    elif resHoursTuple[0]==0 and resHoursTuple[1]>0:\n",
    "        appTipsPerHour = tip / resHoursTuple[1]\n",
    "        bartenderTipsPerHour=0\n",
    "    else:\n",
    "        bartenderTipsPerHour = tip / (resHoursTuple[0] + resHoursTuple[1] * .5)\n",
    "        appTipsPerHour = tip / (resHoursTuple[0] * 2 + resHoursTuple[1])\n",
    "    return(bartenderTipsPerHour,appTipsPerHour)"
   ]
  },
  {
   "cell_type": "code",
   "execution_count": 53,
   "metadata": {},
   "outputs": [],
   "source": [
    "resId=4\n",
    "resHoursTuple=calcHours(resId, dmrDateObj)"
   ]
  },
  {
   "cell_type": "code",
   "execution_count": 54,
   "metadata": {},
   "outputs": [
    {
     "data": {
      "text/plain": [
       "(0, 0, 0, 0, 0, 0)"
      ]
     },
     "execution_count": 54,
     "metadata": {},
     "output_type": "execute_result"
    }
   ],
   "source": [
    "resHoursTuple"
   ]
  },
  {
   "cell_type": "code",
   "execution_count": 60,
   "metadata": {},
   "outputs": [],
   "source": [
    "avgTips=resAvgTips(resId, dmrDateObj, resHoursTuple)"
   ]
  },
  {
   "cell_type": "code",
   "execution_count": 63,
   "metadata": {},
   "outputs": [
    {
     "data": {
      "text/plain": [
       "[0]"
      ]
     },
     "execution_count": 63,
     "metadata": {},
     "output_type": "execute_result"
    }
   ],
   "source": [
    "list(resHoursTuple[0:1])"
   ]
  },
  {
   "cell_type": "code",
   "execution_count": 61,
   "metadata": {},
   "outputs": [
    {
     "data": {
      "text/plain": [
       "(0, 0)"
      ]
     },
     "execution_count": 61,
     "metadata": {},
     "output_type": "execute_result"
    }
   ],
   "source": [
    "avgTips"
   ]
  },
  {
   "cell_type": "code",
   "execution_count": 80,
   "metadata": {},
   "outputs": [],
   "source": [
    "dmrData=db.session.query(Dmrs,func.max(Dmrs.id)).filter_by(dmrDate=dmrDateObj, restaurantId=resId).first()[0]"
   ]
  },
  {
   "cell_type": "code",
   "execution_count": 82,
   "metadata": {},
   "outputs": [],
   "source": [
    "dmrDataCbc=db.session.query(Dmrs,func.max(Dmrs.id)).filter_by(dmrDate=dmrDateObj, restaurantId=5).first()[0]"
   ]
  },
  {
   "cell_type": "code",
   "execution_count": 81,
   "metadata": {},
   "outputs": [
    {
     "data": {
      "text/plain": [
       "1.0"
      ]
     },
     "execution_count": 81,
     "metadata": {},
     "output_type": "execute_result"
    }
   ],
   "source": [
    "dmrData.startCash"
   ]
  },
  {
   "cell_type": "code",
   "execution_count": 84,
   "metadata": {},
   "outputs": [],
   "source": [
    "dmrDataCbc.startCash=dmrDataCbc.startCash +dmrData.startCash"
   ]
  },
  {
   "cell_type": "code",
   "execution_count": 85,
   "metadata": {},
   "outputs": [],
   "source": [
    "db.session.commit()"
   ]
  },
  {
   "cell_type": "code",
   "execution_count": 93,
   "metadata": {},
   "outputs": [],
   "source": [
    "if not db.session.query(Dmrs).filter_by(dmrDate=dmrDateObj,restaurantId=4).first():\n",
    "    print('fire!')"
   ]
  },
  {
   "cell_type": "code",
   "execution_count": 91,
   "metadata": {},
   "outputs": [
    {
     "data": {
      "text/plain": [
       "Dmr('9','2020-12-31','4','RollBar')"
      ]
     },
     "execution_count": 91,
     "metadata": {},
     "output_type": "execute_result"
    }
   ],
   "source": [
    "dmrCheck"
   ]
  },
  {
   "cell_type": "code",
   "execution_count": 94,
   "metadata": {},
   "outputs": [],
   "source": [
    "dmrDataCbc=db.session.query(Dmrs,func.max(Dmrs.id)).filter_by(dmrDate=dmrDateObj, restaurantId=1).first()[0]"
   ]
  },
  {
   "cell_type": "code",
   "execution_count": 97,
   "metadata": {},
   "outputs": [
    {
     "name": "stdout",
     "output_type": "stream",
     "text": [
      "None\n"
     ]
    }
   ],
   "source": [
    "print(dmrDataCbc.tip)"
   ]
  },
  {
   "cell_type": "code",
   "execution_count": 104,
   "metadata": {},
   "outputs": [],
   "source": [
    "tipCbc=db.session.query(func.max(Dmrs.id)).filter_by(\n",
    "    dmrDate=dmrDateObj,restaurantGroupId=1).first()[0]"
   ]
  },
  {
   "cell_type": "code",
   "execution_count": 106,
   "metadata": {},
   "outputs": [
    {
     "data": {
      "text/plain": [
       "datetime.date(2020, 12, 31)"
      ]
     },
     "execution_count": 106,
     "metadata": {},
     "output_type": "execute_result"
    }
   ],
   "source": [
    "dmrDateObj"
   ]
  },
  {
   "cell_type": "code",
   "execution_count": 107,
   "metadata": {},
   "outputs": [],
   "source": [
    "resIds=db.session.query(func.max(Dmrs.id)).filter(\n",
    "    Dmrs.dmrDate==dmrDateObj,Dmrs.restaurantId!=1,Dmrs.restaurantId!=2).group_by(\n",
    "    Dmrs.restaurantId).all()"
   ]
  },
  {
   "cell_type": "code",
   "execution_count": 108,
   "metadata": {},
   "outputs": [
    {
     "data": {
      "text/plain": [
       "[(7)]"
      ]
     },
     "execution_count": 108,
     "metadata": {},
     "output_type": "execute_result"
    }
   ],
   "source": [
    "resIds"
   ]
  },
  {
   "cell_type": "code",
   "execution_count": 111,
   "metadata": {},
   "outputs": [],
   "source": [
    "dmrDataCbc=db.session.query(Dmrs,func.max(Dmrs.id)).filter_by(\n",
    "    dmrDate=dmrDateObj, restaurantId=1).first()[0]"
   ]
  },
  {
   "cell_type": "code",
   "execution_count": 112,
   "metadata": {},
   "outputs": [
    {
     "data": {
      "text/plain": [
       "Dmr('2','2020-12-31','1','CBC Restaurants')"
      ]
     },
     "execution_count": 112,
     "metadata": {},
     "output_type": "execute_result"
    }
   ],
   "source": [
    "dmrDataCbc"
   ]
  },
  {
   "cell_type": "code",
   "execution_count": 114,
   "metadata": {},
   "outputs": [
    {
     "data": {
      "text/plain": [
       "[Shift('1','afternoon','empId: 1','Nick','Tysons Biergarten')]"
      ]
     },
     "execution_count": 114,
     "metadata": {},
     "output_type": "execute_result"
    }
   ],
   "source": [
    "resId=1\n",
    "shiftData = Shifts.query.filter_by(shiftDate=dmrDateObj)\n",
    "shiftData.all()"
   ]
  },
  {
   "cell_type": "code",
   "execution_count": 115,
   "metadata": {},
   "outputs": [
    {
     "data": {
      "text/plain": [
       "['Nick']"
      ]
     },
     "execution_count": 115,
     "metadata": {},
     "output_type": "execute_result"
    }
   ],
   "source": [
    "shiftNamesList=[i.employee.name for i in shiftData]\n",
    "shiftNamesList"
   ]
  },
  {
   "cell_type": "code",
   "execution_count": 116,
   "metadata": {},
   "outputs": [],
   "source": [
    "resIds=db.session.query(func.max(Dmrs.id)).filter(\n",
    "    Dmrs.dmrDate==dmrDateObj, Dmrs.restaurantGroupId==1).group_by(\n",
    "    Dmrs.restaurantId).all()\n",
    "\n",
    "\n",
    "dmrDataShipgarten=db.session.query(Dmrs,func.max(Dmrs.id)).filter_by(\n",
    "    dmrDate=dmrDateObj,restaurantId=2).first()[0]\n",
    "\n"
   ]
  },
  {
   "cell_type": "code",
   "execution_count": 117,
   "metadata": {},
   "outputs": [
    {
     "data": {
      "text/plain": [
       "[]"
      ]
     },
     "execution_count": 117,
     "metadata": {},
     "output_type": "execute_result"
    }
   ],
   "source": [
    "resIds"
   ]
  },
  {
   "cell_type": "code",
   "execution_count": null,
   "metadata": {},
   "outputs": [],
   "source": [
    "dmrDataShipgarten.startCash=sum(db.session.query(\n",
    "    Dmrs.startCash).filter(Dmrs.id==i[0]).first()[0] for i in resIds)"
   ]
  },
  {
   "cell_type": "code",
   "execution_count": null,
   "metadata": {},
   "outputs": [],
   "source": []
  }
 ],
 "metadata": {
  "kernelspec": {
   "display_name": "Python 3",
   "language": "python",
   "name": "python3"
  },
  "language_info": {
   "codemirror_mode": {
    "name": "ipython",
    "version": 3
   },
   "file_extension": ".py",
   "mimetype": "text/x-python",
   "name": "python",
   "nbconvert_exporter": "python",
   "pygments_lexer": "ipython3",
   "version": "3.8.5"
  }
 },
 "nbformat": 4,
 "nbformat_minor": 4
}
