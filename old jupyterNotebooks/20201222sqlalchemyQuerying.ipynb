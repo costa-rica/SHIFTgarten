{
 "cells": [
  {
   "cell_type": "code",
   "execution_count": 11,
   "metadata": {},
   "outputs": [],
   "source": [
    "from dmrApp import db\n",
    "from dmrApp.models import Restaurants, Employees, Dmrs, Employeetypes, User, Shifts\n",
    "from datetime import date\n",
    "from sqlalchemy import func, desc"
   ]
  },
  {
   "cell_type": "code",
   "execution_count": 4,
   "metadata": {},
   "outputs": [
    {
     "data": {
      "text/plain": [
       "Dmr('183','2020-11-23','1','Shipgarten')"
      ]
     },
     "execution_count": 4,
     "metadata": {},
     "output_type": "execute_result"
    }
   ],
   "source": [
    "db.session.query(Dmrs).group_by(Dmrs.restaurantId, Dmrs.dmrDate).first()"
   ]
  },
  {
   "cell_type": "code",
   "execution_count": 7,
   "metadata": {},
   "outputs": [],
   "source": [
    "dateFrom=date(2020,12,21)\n",
    "dateTo=date(2020,12,22)\n",
    "\n",
    "# This bottom line doesn't seem to be useful with the syntax used in this notebook\n",
    "dmrData = Dmrs.query.filter(Dmrs.dmrDate>=dateFrom, Dmrs.dmrDate<=dateTo)"
   ]
  },
  {
   "cell_type": "code",
   "execution_count": 10,
   "metadata": {},
   "outputs": [
    {
     "data": {
      "text/plain": [
       "[Dmr('239','2020-12-21','2','Roll Bar'),\n",
       " Dmr('241','2020-12-21','3','Chalkboard')]"
      ]
     },
     "execution_count": 10,
     "metadata": {},
     "output_type": "execute_result"
    }
   ],
   "source": [
    "db.session.query(Dmrs).filter(Dmrs.dmrDate>=dateFrom, Dmrs.dmrDate<=dateTo).group_by(Dmrs.restaurantId, Dmrs.dmrDate).all()"
   ]
  },
  {
   "cell_type": "code",
   "execution_count": 12,
   "metadata": {},
   "outputs": [
    {
     "data": {
      "text/plain": [
       "[(Dmr('240','2020-12-21','2','Roll Bar'), 240),\n",
       " (Dmr('242','2020-12-21','3','Chalkboard'), 242)]"
      ]
     },
     "execution_count": 12,
     "metadata": {},
     "output_type": "execute_result"
    }
   ],
   "source": [
    "db.session.query(Dmrs, func.max(Dmrs.id)).filter(Dmrs.dmrDate>=dateFrom, Dmrs.dmrDate<=dateTo).group_by(Dmrs.restaurantId, Dmrs.dmrDate).all()"
   ]
  },
  {
   "cell_type": "code",
   "execution_count": 17,
   "metadata": {},
   "outputs": [],
   "source": [
    "dmrDataReport= db.session.query(Dmrs, func.max(Dmrs.id)).filter(Dmrs.dmrDate>=dateFrom, Dmrs.dmrDate<=dateTo).group_by(Dmrs.restaurantId, Dmrs.dmrDate).all()"
   ]
  },
  {
   "cell_type": "code",
   "execution_count": 18,
   "metadata": {},
   "outputs": [
    {
     "data": {
      "text/plain": [
       "[(Dmr('240','2020-12-21','2','Roll Bar'), 240),\n",
       " (Dmr('242','2020-12-21','3','Chalkboard'), 242)]"
      ]
     },
     "execution_count": 18,
     "metadata": {},
     "output_type": "execute_result"
    }
   ],
   "source": [
    "dmrDataReport"
   ]
  },
  {
   "cell_type": "code",
   "execution_count": 24,
   "metadata": {},
   "outputs": [
    {
     "name": "stdout",
     "output_type": "stream",
     "text": [
      "1.0\n",
      "None\n"
     ]
    }
   ],
   "source": [
    "for i in dmrDataReport:\n",
    "    print(i[0].startCash)"
   ]
  }
 ],
 "metadata": {
  "kernelspec": {
   "display_name": "Python 3",
   "language": "python",
   "name": "python3"
  },
  "language_info": {
   "codemirror_mode": {
    "name": "ipython",
    "version": 3
   },
   "file_extension": ".py",
   "mimetype": "text/x-python",
   "name": "python",
   "nbconvert_exporter": "python",
   "pygments_lexer": "ipython3",
   "version": "3.8.5"
  }
 },
 "nbformat": 4,
 "nbformat_minor": 4
}
