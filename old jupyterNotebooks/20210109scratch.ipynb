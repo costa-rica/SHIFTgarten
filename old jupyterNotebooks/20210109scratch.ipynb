{
 "cells": [
  {
   "cell_type": "code",
   "execution_count": 1,
   "metadata": {},
   "outputs": [
    {
     "name": "stderr",
     "output_type": "stream",
     "text": [
      "C:\\tools\\miniconda3\\envs\\dmrAppConda\\lib\\site-packages\\flask_sqlalchemy\\__init__.py:833: FSADeprecationWarning: SQLALCHEMY_TRACK_MODIFICATIONS adds significant overhead and will be disabled by default in the future.  Set it to True or False to suppress this warning.\n",
      "  warnings.warn(FSADeprecationWarning(\n"
     ]
    }
   ],
   "source": [
    "from dmrApp import create_app, db\n",
    "from dmrApp.models import Dmrs, Employees, Employeeroles, Post, Restaurants, Shifts, \\\n",
    "    User, Standardwages\n",
    "import numpy as np\n",
    "from datetime import date, datetime\n",
    "from sqlalchemy import func\n",
    "proxyApp=create_app()\n",
    "ctx=proxyApp.app_context()\n",
    "ctx.push()"
   ]
  },
  {
   "cell_type": "code",
   "execution_count": 2,
   "metadata": {},
   "outputs": [],
   "source": [
    "import pandas as pd\n",
    "import os\n",
    "from flask import current_app"
   ]
  },
  {
   "cell_type": "code",
   "execution_count": 3,
   "metadata": {},
   "outputs": [],
   "source": [
    "db.create_all()"
   ]
  },
  {
   "cell_type": "code",
   "execution_count": 49,
   "metadata": {},
   "outputs": [],
   "source": [
    "ctx.pop()"
   ]
  },
  {
   "cell_type": "code",
   "execution_count": 5,
   "metadata": {},
   "outputs": [],
   "source": [
    "dmrDateObj=date(2021,1,9)\n",
    "resId=3"
   ]
  },
  {
   "cell_type": "code",
   "execution_count": 5,
   "metadata": {},
   "outputs": [
    {
     "name": "stdout",
     "output_type": "stream",
     "text": [
      "0.6666666666666666\n",
      "0.3333333333333333\n",
      "0.6666666666666666\n",
      "0.3333333333333333\n",
      "1.0\n",
      "0.0\n"
     ]
    }
   ],
   "source": [
    "#for each shift in shifts\n",
    "shiftDataAdd=Shifts.query.filter_by(shiftDate=dmrDateObj,restaurantGroupId=2)\n",
    "for i in shiftDataAdd:\n",
    "    resFullTipRate=db.session.query(Dmrs.bartenderTipsPerHour,func.max(Dmrs.id)).filter_by(restaurantId=i.restaurant.id, dmrDate=dmrDateObj).first()[0]\n",
    "    resHalfTipRate=db.session.query(Dmrs.appTipsPerHour,func.max(Dmrs.id)).filter_by(restaurantId=i.restaurant.id, dmrDate=dmrDateObj).first()[0]\n",
    "#get the shift's restaurant's tips"
   ]
  },
  {
   "cell_type": "code",
   "execution_count": 7,
   "metadata": {},
   "outputs": [],
   "source": [
    "dateFrom=date(2020,1,1)\n",
    "dateTo=date(2021,1,21)\n",
    "shiftData = Shifts.query.filter(Shifts.shiftDate>=dateFrom,Shifts.shiftDate<=dateTo)"
   ]
  },
  {
   "cell_type": "code",
   "execution_count": 11,
   "metadata": {},
   "outputs": [
    {
     "name": "stdout",
     "output_type": "stream",
     "text": [
      "0.67\n",
      "0.33\n",
      "0.67\n",
      "0.33\n",
      "1.0\n"
     ]
    }
   ],
   "source": [
    "for i in shiftData:\n",
    "    print(\"{:.2f}\".format(i.shiftTipsShipgarten) if i.restaurant.id in [3,4,5,6] else i.shiftTips)"
   ]
  },
  {
   "cell_type": "code",
   "execution_count": 12,
   "metadata": {},
   "outputs": [
    {
     "name": "stdout",
     "output_type": "stream",
     "text": [
      "2.13\n",
      "2.13\n",
      "2.13\n",
      "2.13\n",
      "2.13\n"
     ]
    }
   ],
   "source": [
    "for i in shiftData:\n",
    "    print(i.employeerole.standardwage.wage)"
   ]
  },
  {
   "cell_type": "code",
   "execution_count": 6,
   "metadata": {},
   "outputs": [],
   "source": []
  },
  {
   "cell_type": "code",
   "execution_count": 7,
   "metadata": {},
   "outputs": [],
   "source": [
    "engine=create_engine(r'sqlite:///D:\\databases\\dmrApp.db').connect()"
   ]
  },
  {
   "cell_type": "code",
   "execution_count": 22,
   "metadata": {},
   "outputs": [],
   "source": [
    "df=pd.read_sql_table('standardwages', db.engine)"
   ]
  },
  {
   "cell_type": "code",
   "execution_count": 19,
   "metadata": {},
   "outputs": [
    {
     "name": "stdout",
     "output_type": "stream",
     "text": [
      "['alembic_version', 'dmrs', 'employeeroles', 'employees', 'post', 'restaurants', 'shifts', 'standardwages', 'user']\n"
     ]
    }
   ],
   "source": [
    "#get list of tables\n",
    "db.engine.table_names()"
   ]
  },
  {
   "cell_type": "code",
   "execution_count": 21,
   "metadata": {},
   "outputs": [
    {
     "name": "stdout",
     "output_type": "stream",
     "text": [
      "Engine(sqlite:///D:\\databases\\dmrApp.db)\n"
     ]
    }
   ],
   "source": [
    "print(db.engine)"
   ]
  },
  {
   "cell_type": "code",
   "execution_count": 40,
   "metadata": {},
   "outputs": [],
   "source": [
    "formDict={'dmrs': 'True', 'employeeroles': 'True', 'employees': 'True', 'downloadTables': 'True'}"
   ]
  },
  {
   "cell_type": "code",
   "execution_count": 42,
   "metadata": {},
   "outputs": [
    {
     "data": {
      "text/plain": [
       "['dmrs', 'employeeroles', 'employees']"
      ]
     },
     "execution_count": 42,
     "metadata": {},
     "output_type": "execute_result"
    }
   ],
   "source": [
    "list(formDict.keys())[:-1]"
   ]
  },
  {
   "cell_type": "code",
   "execution_count": 26,
   "metadata": {},
   "outputs": [],
   "source": [
    "dfDictionary={h : pd.read_sql_table(h, db.engine) for h in formDict}"
   ]
  },
  {
   "cell_type": "code",
   "execution_count": 43,
   "metadata": {},
   "outputs": [
    {
     "name": "stdout",
     "output_type": "stream",
     "text": [
      "26\n",
      "6\n",
      "4\n"
     ]
    }
   ],
   "source": [
    "for h, i in dfDictionary.items():\n",
    "    print(len(i))"
   ]
  },
  {
   "cell_type": "code",
   "execution_count": 30,
   "metadata": {},
   "outputs": [
    {
     "data": {
      "text/html": [
       "<div>\n",
       "<style scoped>\n",
       "    .dataframe tbody tr th:only-of-type {\n",
       "        vertical-align: middle;\n",
       "    }\n",
       "\n",
       "    .dataframe tbody tr th {\n",
       "        vertical-align: top;\n",
       "    }\n",
       "\n",
       "    .dataframe thead th {\n",
       "        text-align: right;\n",
       "    }\n",
       "</style>\n",
       "<table border=\"1\" class=\"dataframe\">\n",
       "  <thead>\n",
       "    <tr style=\"text-align: right;\">\n",
       "      <th></th>\n",
       "      <th>id</th>\n",
       "      <th>role</th>\n",
       "      <th>wage</th>\n",
       "      <th>tipPercentage</th>\n",
       "      <th>notes</th>\n",
       "      <th>standardWageFlag</th>\n",
       "      <th>createdBy</th>\n",
       "      <th>restaurantId</th>\n",
       "      <th>standardWageId</th>\n",
       "      <th>empId</th>\n",
       "    </tr>\n",
       "  </thead>\n",
       "  <tbody>\n",
       "    <tr>\n",
       "      <th>0</th>\n",
       "      <td>1</td>\n",
       "      <td>bartender</td>\n",
       "      <td>2.13</td>\n",
       "      <td>1.0</td>\n",
       "      <td>None</td>\n",
       "      <td>True</td>\n",
       "      <td>1</td>\n",
       "      <td>3</td>\n",
       "      <td>1</td>\n",
       "      <td>1</td>\n",
       "    </tr>\n",
       "    <tr>\n",
       "      <th>1</th>\n",
       "      <td>2</td>\n",
       "      <td>security</td>\n",
       "      <td>12.00</td>\n",
       "      <td>0.0</td>\n",
       "      <td>None</td>\n",
       "      <td>True</td>\n",
       "      <td>1</td>\n",
       "      <td>3</td>\n",
       "      <td>3</td>\n",
       "      <td>1</td>\n",
       "    </tr>\n",
       "    <tr>\n",
       "      <th>2</th>\n",
       "      <td>3</td>\n",
       "      <td>bartender</td>\n",
       "      <td>2.13</td>\n",
       "      <td>1.0</td>\n",
       "      <td>None</td>\n",
       "      <td>True</td>\n",
       "      <td>1</td>\n",
       "      <td>3</td>\n",
       "      <td>1</td>\n",
       "      <td>2</td>\n",
       "    </tr>\n",
       "    <tr>\n",
       "      <th>3</th>\n",
       "      <td>4</td>\n",
       "      <td>kitchen</td>\n",
       "      <td>12.00</td>\n",
       "      <td>0.0</td>\n",
       "      <td>None</td>\n",
       "      <td>True</td>\n",
       "      <td>1</td>\n",
       "      <td>3</td>\n",
       "      <td>5</td>\n",
       "      <td>2</td>\n",
       "    </tr>\n",
       "    <tr>\n",
       "      <th>4</th>\n",
       "      <td>5</td>\n",
       "      <td>apprentice</td>\n",
       "      <td>2.13</td>\n",
       "      <td>0.5</td>\n",
       "      <td>None</td>\n",
       "      <td>True</td>\n",
       "      <td>1</td>\n",
       "      <td>3</td>\n",
       "      <td>2</td>\n",
       "      <td>3</td>\n",
       "    </tr>\n",
       "    <tr>\n",
       "      <th>5</th>\n",
       "      <td>6</td>\n",
       "      <td>apprentice</td>\n",
       "      <td>2.13</td>\n",
       "      <td>0.5</td>\n",
       "      <td>None</td>\n",
       "      <td>True</td>\n",
       "      <td>1</td>\n",
       "      <td>4</td>\n",
       "      <td>2</td>\n",
       "      <td>4</td>\n",
       "    </tr>\n",
       "  </tbody>\n",
       "</table>\n",
       "</div>"
      ],
      "text/plain": [
       "   id        role   wage  tipPercentage notes  standardWageFlag  createdBy  \\\n",
       "0   1   bartender   2.13            1.0  None              True          1   \n",
       "1   2    security  12.00            0.0  None              True          1   \n",
       "2   3   bartender   2.13            1.0  None              True          1   \n",
       "3   4     kitchen  12.00            0.0  None              True          1   \n",
       "4   5  apprentice   2.13            0.5  None              True          1   \n",
       "5   6  apprentice   2.13            0.5  None              True          1   \n",
       "\n",
       "   restaurantId  standardWageId  empId  \n",
       "0             3               1      1  \n",
       "1             3               3      1  \n",
       "2             3               1      2  \n",
       "3             3               5      2  \n",
       "4             3               2      3  \n",
       "5             4               2      4  "
      ]
     },
     "execution_count": 30,
     "metadata": {},
     "output_type": "execute_result"
    }
   ],
   "source": [
    "dfDictionary['employeeroles']"
   ]
  },
  {
   "cell_type": "code",
   "execution_count": 14,
   "metadata": {},
   "outputs": [],
   "source": [
    "path=r'C:\\Users\\captian2020\\Downloads'"
   ]
  },
  {
   "cell_type": "code",
   "execution_count": 20,
   "metadata": {},
   "outputs": [],
   "source": [
    "postUpload=pd.read_excel(os.path.join(path,\"databaseTablesDownload.xlsx\"),engine='openpyxl',sheet_name='post')"
   ]
  },
  {
   "cell_type": "code",
   "execution_count": 39,
   "metadata": {},
   "outputs": [],
   "source": [
    "postUpload2=pd.read_excel(os.path.join(path,\"databaseTablesDownload.xlsx\"),engine='openpyxl')"
   ]
  },
  {
   "cell_type": "code",
   "execution_count": 23,
   "metadata": {},
   "outputs": [],
   "source": [
    "postUpload.to_sql('post',con=db.engine, if_exists='append', index=False)"
   ]
  },
  {
   "cell_type": "code",
   "execution_count": 25,
   "metadata": {},
   "outputs": [
    {
     "data": {
      "text/html": [
       "<div>\n",
       "<style scoped>\n",
       "    .dataframe tbody tr th:only-of-type {\n",
       "        vertical-align: middle;\n",
       "    }\n",
       "\n",
       "    .dataframe tbody tr th {\n",
       "        vertical-align: top;\n",
       "    }\n",
       "\n",
       "    .dataframe thead th {\n",
       "        text-align: right;\n",
       "    }\n",
       "</style>\n",
       "<table border=\"1\" class=\"dataframe\">\n",
       "  <thead>\n",
       "    <tr style=\"text-align: right;\">\n",
       "      <th></th>\n",
       "      <th>id</th>\n",
       "      <th>title</th>\n",
       "      <th>date_posted</th>\n",
       "      <th>content</th>\n",
       "      <th>user_id</th>\n",
       "    </tr>\n",
       "  </thead>\n",
       "  <tbody>\n",
       "    <tr>\n",
       "      <th>0</th>\n",
       "      <td>5</td>\n",
       "      <td>version test upload</td>\n",
       "      <td>2021-01-09 16:31:55.274568</td>\n",
       "      <td>test</td>\n",
       "      <td>1</td>\n",
       "    </tr>\n",
       "  </tbody>\n",
       "</table>\n",
       "</div>"
      ],
      "text/plain": [
       "   id                title                date_posted content  user_id\n",
       "0   5  version test upload 2021-01-09 16:31:55.274568    test        1"
      ]
     },
     "execution_count": 25,
     "metadata": {},
     "output_type": "execute_result"
    }
   ],
   "source": [
    "postUpload"
   ]
  },
  {
   "cell_type": "code",
   "execution_count": 40,
   "metadata": {},
   "outputs": [
    {
     "data": {
      "text/plain": [
       "Index(['id', 'title', 'date_posted', 'content', 'user_id'], dtype='object')"
      ]
     },
     "execution_count": 40,
     "metadata": {},
     "output_type": "execute_result"
    }
   ],
   "source": [
    "postUpload2.keys()"
   ]
  },
  {
   "cell_type": "code",
   "execution_count": 35,
   "metadata": {},
   "outputs": [
    {
     "ename": "NameError",
     "evalue": "name 'none' is not defined",
     "output_type": "error",
     "traceback": [
      "\u001b[1;31m---------------------------------------------------------------------------\u001b[0m",
      "\u001b[1;31mNameError\u001b[0m                                 Traceback (most recent call last)",
      "\u001b[1;32m<ipython-input-35-840c8e751a27>\u001b[0m in \u001b[0;36m<module>\u001b[1;34m\u001b[0m\n\u001b[1;32m----> 1\u001b[1;33m \u001b[0mdfPost\u001b[0m\u001b[1;33m=\u001b[0m\u001b[0mpd\u001b[0m\u001b[1;33m.\u001b[0m\u001b[0mread_excel\u001b[0m\u001b[1;33m(\u001b[0m\u001b[0mos\u001b[0m\u001b[1;33m.\u001b[0m\u001b[0mpath\u001b[0m\u001b[1;33m.\u001b[0m\u001b[0mjoin\u001b[0m\u001b[1;33m(\u001b[0m\u001b[0mpath\u001b[0m\u001b[1;33m,\u001b[0m\u001b[1;34m\"databaseTablesDownload.xlsx\"\u001b[0m\u001b[1;33m)\u001b[0m\u001b[1;33m,\u001b[0m\u001b[0mnone\u001b[0m\u001b[1;33m)\u001b[0m\u001b[1;33m\u001b[0m\u001b[1;33m\u001b[0m\u001b[0m\n\u001b[0m",
      "\u001b[1;31mNameError\u001b[0m: name 'none' is not defined"
     ]
    }
   ],
   "source": [
    "dfPost=pd.read_excel(os.path.join(path,\"databaseTablesDownload.xlsx\"),none)"
   ]
  },
  {
   "cell_type": "code",
   "execution_count": 42,
   "metadata": {},
   "outputs": [],
   "source": [
    "import openpyxl\n",
    "wb = openpyxl.load_workbook(os.path.join(path,\"databaseTablesDownload.xlsx\")) "
   ]
  },
  {
   "cell_type": "code",
   "execution_count": 61,
   "metadata": {},
   "outputs": [
    {
     "data": {
      "text/plain": [
       "['post', 'Sheet1']"
      ]
     },
     "execution_count": 61,
     "metadata": {},
     "output_type": "execute_result"
    }
   ],
   "source": [
    "sheetNames=wb.sheetnames\n",
    "sheetNames"
   ]
  },
  {
   "cell_type": "code",
   "execution_count": 46,
   "metadata": {},
   "outputs": [],
   "source": [
    "uploadDict={i: pd.read_excel(os.path.join(\n",
    "    path,\"databaseTablesDownload.xlsx\"),engine='openpyxl',sheet_name=i) for i in sheetNames}"
   ]
  },
  {
   "cell_type": "code",
   "execution_count": 47,
   "metadata": {},
   "outputs": [
    {
     "data": {
      "text/html": [
       "<div>\n",
       "<style scoped>\n",
       "    .dataframe tbody tr th:only-of-type {\n",
       "        vertical-align: middle;\n",
       "    }\n",
       "\n",
       "    .dataframe tbody tr th {\n",
       "        vertical-align: top;\n",
       "    }\n",
       "\n",
       "    .dataframe thead th {\n",
       "        text-align: right;\n",
       "    }\n",
       "</style>\n",
       "<table border=\"1\" class=\"dataframe\">\n",
       "  <thead>\n",
       "    <tr style=\"text-align: right;\">\n",
       "      <th></th>\n",
       "      <th>id</th>\n",
       "      <th>title</th>\n",
       "      <th>date_posted</th>\n",
       "      <th>content</th>\n",
       "      <th>user_id</th>\n",
       "    </tr>\n",
       "  </thead>\n",
       "  <tbody>\n",
       "    <tr>\n",
       "      <th>0</th>\n",
       "      <td>5</td>\n",
       "      <td>version test upload</td>\n",
       "      <td>2021-01-09 16:31:55.274568</td>\n",
       "      <td>test</td>\n",
       "      <td>1</td>\n",
       "    </tr>\n",
       "  </tbody>\n",
       "</table>\n",
       "</div>"
      ],
      "text/plain": [
       "   id                title                date_posted content  user_id\n",
       "0   5  version test upload 2021-01-09 16:31:55.274568    test        1"
      ]
     },
     "execution_count": 47,
     "metadata": {},
     "output_type": "execute_result"
    }
   ],
   "source": [
    "uploadDict['post']"
   ]
  },
  {
   "cell_type": "code",
   "execution_count": 48,
   "metadata": {},
   "outputs": [],
   "source": [
    "tableDict={'employees':''}"
   ]
  },
  {
   "cell_type": "code",
   "execution_count": 55,
   "metadata": {},
   "outputs": [],
   "source": [
    "dfDictionary={h : pd.read_sql_table(h, db.engine) for h in tableDict}"
   ]
  },
  {
   "cell_type": "code",
   "execution_count": 56,
   "metadata": {},
   "outputs": [
    {
     "name": "stdout",
     "output_type": "stream",
     "text": [
      "   id         name                  timeStamp  createdBy\n",
      "0   1         Nick 2021-01-01 11:57:35.891261          1\n",
      "1   2       Shayan 2021-01-02 19:19:10.107122          1\n",
      "2   3  apprentice1 2021-01-08 14:44:25.560039          1\n",
      "3   4  apprentice2 2021-01-08 14:47:01.874884          1\n"
     ]
    }
   ],
   "source": [
    "print(dfDictionary.get('employees'))"
   ]
  },
  {
   "cell_type": "code",
   "execution_count": 59,
   "metadata": {},
   "outputs": [],
   "source": [
    "dfDictionary2={h : dfDictionary.get(h).reset_index(drop=True, inplace=True) for h in dfDictionary}"
   ]
  },
  {
   "cell_type": "code",
   "execution_count": 60,
   "metadata": {},
   "outputs": [],
   "source": [
    "dfDictionary2.get('employees')"
   ]
  },
  {
   "cell_type": "code",
   "execution_count": 63,
   "metadata": {},
   "outputs": [
    {
     "data": {
      "text/plain": [
       "'employees'"
      ]
     },
     "execution_count": 63,
     "metadata": {},
     "output_type": "execute_result"
    }
   ],
   "source": [
    "tableNamesList= db.engine.table_names()\n",
    "tableNamesList[3]"
   ]
  },
  {
   "cell_type": "code",
   "execution_count": 72,
   "metadata": {},
   "outputs": [],
   "source": [
    "db.session.query(dbModelsList[3]).delete()\n",
    "db.session.commit()"
   ]
  },
  {
   "cell_type": "code",
   "execution_count": 74,
   "metadata": {},
   "outputs": [],
   "source": [
    "# dbTest = current_app.extensions['sqlalchemy'].db\n",
    "\n",
    "dbModelsList= [cls for cls in db.Model._decl_class_registry.values() if isinstance(cls, type) and issubclass(cls, db.Model)]"
   ]
  },
  {
   "cell_type": "code",
   "execution_count": 76,
   "metadata": {},
   "outputs": [
    {
     "data": {
      "text/plain": [
       "[dmrApp.models.Dmrs,\n",
       " dmrApp.models.Shifts,\n",
       " dmrApp.models.Restaurants,\n",
       " dmrApp.models.Employees,\n",
       " dmrApp.models.Employeeroles,\n",
       " dmrApp.models.Standardwages,\n",
       " dmrApp.models.User,\n",
       " dmrApp.models.Post]"
      ]
     },
     "execution_count": 76,
     "metadata": {},
     "output_type": "execute_result"
    }
   ],
   "source": [
    "dbModelsList"
   ]
  },
  {
   "cell_type": "code",
   "execution_count": 83,
   "metadata": {},
   "outputs": [],
   "source": [
    "dbModelsDict={str(h)[22:-2]:h for h in dbModelsList}"
   ]
  },
  {
   "cell_type": "code",
   "execution_count": 84,
   "metadata": {},
   "outputs": [
    {
     "data": {
      "text/plain": [
       "{'Dmrs': dmrApp.models.Dmrs,\n",
       " 'Shifts': dmrApp.models.Shifts,\n",
       " 'Restaurants': dmrApp.models.Restaurants,\n",
       " 'Employees': dmrApp.models.Employees,\n",
       " 'Employeeroles': dmrApp.models.Employeeroles,\n",
       " 'Standardwages': dmrApp.models.Standardwages,\n",
       " 'User': dmrApp.models.User,\n",
       " 'Post': dmrApp.models.Post}"
      ]
     },
     "execution_count": 84,
     "metadata": {},
     "output_type": "execute_result"
    }
   ],
   "source": [
    "dbModelsDict"
   ]
  },
  {
   "cell_type": "code",
   "execution_count": null,
   "metadata": {},
   "outputs": [],
   "source": []
  },
  {
   "cell_type": "code",
   "execution_count": 30,
   "metadata": {},
   "outputs": [],
   "source": [
    "dmrDateObj=date(2021,1,9)"
   ]
  },
  {
   "cell_type": "code",
   "execution_count": 28,
   "metadata": {},
   "outputs": [
    {
     "data": {
      "text/plain": [
       "Dmr('3','2021-01-09','2','Shipgarten')"
      ]
     },
     "execution_count": 28,
     "metadata": {},
     "output_type": "execute_result"
    }
   ],
   "source": [
    "    dmrIdSg = Dmrs.query.filter(Dmrs.restaurantId==2,Dmrs.dmrDate>date(2020,1,1)).order_by(Dmrs.id.desc()).first()\n",
    "    dmrIdSg"
   ]
  },
  {
   "cell_type": "code",
   "execution_count": 16,
   "metadata": {},
   "outputs": [
    {
     "data": {
      "text/plain": [
       "datetime.date"
      ]
     },
     "execution_count": 16,
     "metadata": {},
     "output_type": "execute_result"
    }
   ],
   "source": [
    "type(dmrIdSg.dmrDate)"
   ]
  },
  {
   "cell_type": "code",
   "execution_count": 17,
   "metadata": {},
   "outputs": [
    {
     "data": {
      "text/plain": [
       "datetime.date"
      ]
     },
     "execution_count": 17,
     "metadata": {},
     "output_type": "execute_result"
    }
   ],
   "source": [
    "type(dmrDateObj)"
   ]
  },
  {
   "cell_type": "code",
   "execution_count": 21,
   "metadata": {},
   "outputs": [],
   "source": [
    "dateCheck=dmrIdSg.dmrDate"
   ]
  },
  {
   "cell_type": "code",
   "execution_count": null,
   "metadata": {},
   "outputs": [],
   "source": []
  },
  {
   "cell_type": "code",
   "execution_count": 33,
   "metadata": {},
   "outputs": [
    {
     "data": {
      "text/plain": [
       "3"
      ]
     },
     "execution_count": 33,
     "metadata": {},
     "output_type": "execute_result"
    }
   ],
   "source": [
    "Dmrs.query.filter(Dmrs.restaurantId==2,Dmrs.dmrDatedmrDateObj).with_entities(\n",
    "Dmrs.id).order_by(Dmrs.id.desc()).first()[0]"
   ]
  },
  {
   "cell_type": "code",
   "execution_count": 35,
   "metadata": {},
   "outputs": [],
   "source": [
    "db.session.commit()"
   ]
  },
  {
   "cell_type": "code",
   "execution_count": 36,
   "metadata": {},
   "outputs": [],
   "source": [
    "colNamesShifts =['Date','Role','Restaurant','Name','Scheduled time','Start time',\n",
    "    'Off time','Hours worked','Tips', 'Wages', 'Tips + Wages']\n",
    "dateFrom=date(2021,1,1)\n",
    "dateTo=date(2021,2,1)"
   ]
  },
  {
   "cell_type": "code",
   "execution_count": null,
   "metadata": {},
   "outputs": [],
   "source": []
  },
  {
   "cell_type": "code",
   "execution_count": 37,
   "metadata": {},
   "outputs": [],
   "source": [
    "def shiftDataReport(dateFrom,dateTo, colNamesShifts):\n",
    "    shiftData = Shifts.query.filter(Shifts.shiftDate>=dateFrom,\n",
    "                                    Shifts.shiftDate<=dateTo)\n",
    "    shiftReportColumns = list(shiftDataLists(shiftData))\n",
    "    dfShifts = pd.DataFrame(list(zip(shiftReportColumns[0],shiftReportColumns[1],\n",
    "                               shiftReportColumns[2],shiftReportColumns[3],\n",
    "                               shiftReportColumns[4],shiftReportColumns[5],\n",
    "                               shiftReportColumns[6],shiftReportColumns[7],\n",
    "                               shiftReportColumns[8]\n",
    "                               )), columns=colNamesShifts)\n",
    "    return dfShifts"
   ]
  },
  {
   "cell_type": "code",
   "execution_count": 38,
   "metadata": {},
   "outputs": [
    {
     "ename": "NameError",
     "evalue": "name 'shiftDataLists' is not defined",
     "output_type": "error",
     "traceback": [
      "\u001b[1;31m---------------------------------------------------------------------------\u001b[0m",
      "\u001b[1;31mNameError\u001b[0m                                 Traceback (most recent call last)",
      "\u001b[1;32m<ipython-input-38-6ed0a2a1cfdf>\u001b[0m in \u001b[0;36m<module>\u001b[1;34m\u001b[0m\n\u001b[1;32m----> 1\u001b[1;33m \u001b[0mshiftDataReport\u001b[0m\u001b[1;33m(\u001b[0m\u001b[0mdateFrom\u001b[0m\u001b[1;33m,\u001b[0m\u001b[0mdateTo\u001b[0m\u001b[1;33m,\u001b[0m \u001b[0mcolNamesShifts\u001b[0m\u001b[1;33m)\u001b[0m\u001b[1;33m\u001b[0m\u001b[1;33m\u001b[0m\u001b[0m\n\u001b[0m",
      "\u001b[1;32m<ipython-input-37-e2bbe5cbac93>\u001b[0m in \u001b[0;36mshiftDataReport\u001b[1;34m(dateFrom, dateTo, colNamesShifts)\u001b[0m\n\u001b[0;32m      2\u001b[0m     shiftData = Shifts.query.filter(Shifts.shiftDate>=dateFrom,\n\u001b[0;32m      3\u001b[0m                                     Shifts.shiftDate<=dateTo)\n\u001b[1;32m----> 4\u001b[1;33m     \u001b[0mshiftReportColumns\u001b[0m \u001b[1;33m=\u001b[0m \u001b[0mlist\u001b[0m\u001b[1;33m(\u001b[0m\u001b[0mshiftDataLists\u001b[0m\u001b[1;33m(\u001b[0m\u001b[0mshiftData\u001b[0m\u001b[1;33m)\u001b[0m\u001b[1;33m)\u001b[0m\u001b[1;33m\u001b[0m\u001b[1;33m\u001b[0m\u001b[0m\n\u001b[0m\u001b[0;32m      5\u001b[0m     dfShifts = pd.DataFrame(list(zip(shiftReportColumns[0],shiftReportColumns[1],\n\u001b[0;32m      6\u001b[0m                                \u001b[0mshiftReportColumns\u001b[0m\u001b[1;33m[\u001b[0m\u001b[1;36m2\u001b[0m\u001b[1;33m]\u001b[0m\u001b[1;33m,\u001b[0m\u001b[0mshiftReportColumns\u001b[0m\u001b[1;33m[\u001b[0m\u001b[1;36m3\u001b[0m\u001b[1;33m]\u001b[0m\u001b[1;33m,\u001b[0m\u001b[1;33m\u001b[0m\u001b[1;33m\u001b[0m\u001b[0m\n",
      "\u001b[1;31mNameError\u001b[0m: name 'shiftDataLists' is not defined"
     ]
    }
   ],
   "source": [
    "shiftDataReport(dateFrom,dateTo, colNamesShifts)"
   ]
  },
  {
   "cell_type": "code",
   "execution_count": 40,
   "metadata": {},
   "outputs": [
    {
     "data": {
      "text/plain": [
       "datetime.datetime(2021, 1, 12, 12, 53, 1, 23185)"
      ]
     },
     "execution_count": 40,
     "metadata": {},
     "output_type": "execute_result"
    }
   ],
   "source": [
    "datetime.now()"
   ]
  },
  {
   "cell_type": "code",
   "execution_count": 41,
   "metadata": {},
   "outputs": [],
   "source": [
    "shiftData = Shifts.query.filter(Shifts.shiftDate>=dateFrom,Shifts.shiftDate<=dateTo)"
   ]
  },
  {
   "cell_type": "code",
   "execution_count": 42,
   "metadata": {},
   "outputs": [
    {
     "data": {
      "text/plain": [
       "[Shift('1','','empId: 1','Nick','Tysons Biergarten'),\n",
       " Shift('2','','empId: 2','Shayan','Tysons Biergarten'),\n",
       " Shift('3','','empId: 3','apprentice1','Tysons Biergarten'),\n",
       " Shift('4','','empId: 3','apprentice1','Salamati Grill')]"
      ]
     },
     "execution_count": 42,
     "metadata": {},
     "output_type": "execute_result"
    }
   ],
   "source": [
    "shiftData.all()"
   ]
  },
  {
   "cell_type": "code",
   "execution_count": 51,
   "metadata": {},
   "outputs": [
    {
     "data": {
      "text/plain": [
       "[(1), (2), (3)]"
      ]
     },
     "execution_count": 51,
     "metadata": {},
     "output_type": "execute_result"
    }
   ],
   "source": [
    "shiftEmpIdList=shiftData.with_entities(Shifts.empId).distinct()\n",
    "shiftEmpIdList.all()"
   ]
  },
  {
   "cell_type": "code",
   "execution_count": 45,
   "metadata": {},
   "outputs": [
    {
     "data": {
      "text/plain": [
       "[(1.0), (0.3333333333333333), (1.6666666666666665)]"
      ]
     },
     "execution_count": 45,
     "metadata": {},
     "output_type": "execute_result"
    }
   ],
   "source": [
    "\n",
    "db.session.query(Shifts).group_by(Shifts.empId).with_entities(func.sum(Shifts.shiftTips)).all()"
   ]
  },
  {
   "cell_type": "code",
   "execution_count": null,
   "metadata": {},
   "outputs": [],
   "source": []
  },
  {
   "cell_type": "code",
   "execution_count": null,
   "metadata": {},
   "outputs": [],
   "source": []
  }
 ],
 "metadata": {
  "kernelspec": {
   "display_name": "Python 3",
   "language": "python",
   "name": "python3"
  },
  "language_info": {
   "codemirror_mode": {
    "name": "ipython",
    "version": 3
   },
   "file_extension": ".py",
   "mimetype": "text/x-python",
   "name": "python",
   "nbconvert_exporter": "python",
   "pygments_lexer": "ipython3",
   "version": "3.8.5"
  }
 },
 "nbformat": 4,
 "nbformat_minor": 4
}
