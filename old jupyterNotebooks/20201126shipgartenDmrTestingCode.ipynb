{
 "cells": [
  {
   "cell_type": "code",
   "execution_count": 2,
   "metadata": {},
   "outputs": [
    {
     "name": "stderr",
     "output_type": "stream",
     "text": [
      "C:\\Users\\Nick\\miniconda3\\lib\\site-packages\\flask_sqlalchemy\\__init__.py:833: FSADeprecationWarning: SQLALCHEMY_TRACK_MODIFICATIONS adds significant overhead and will be disabled by default in the future.  Set it to True or False to suppress this warning.\n",
      "  warnings.warn(FSADeprecationWarning(\n"
     ]
    }
   ],
   "source": [
    "import pandas as pd\n",
    "import flask_script\n",
    "from dmrApp import db\n",
    "from dmrApp.models import Restaurants, Employees, Dmrs, Employeetypes, User, Shifts\n",
    "from datetime import datetime, date, time\n",
    "from sqlalchemy import func"
   ]
  },
  {
   "cell_type": "code",
   "execution_count": 6,
   "metadata": {},
   "outputs": [
    {
     "name": "stdout",
     "output_type": "stream",
     "text": [
      "145\n",
      "156\n"
     ]
    }
   ],
   "source": [
    "restList = Restaurants.query.with_entities(Restaurants.id).all()\n",
    "date1 = date(2020,11,26)\n",
    "restListDmr=[]\n",
    "for i in restList:\n",
    "    dmrData1 = Dmrs.query.filter_by(restaurantId=i[0], dmrDate=date1).order_by(Dmrs.id.desc()).first()\n",
    "    try:\n",
    "        print(dmrData1.id)\n",
    "        restListDmr.append(dmrData1.id)\n",
    "    except:\n",
    "        pass"
   ]
  },
  {
   "cell_type": "code",
   "execution_count": 41,
   "metadata": {},
   "outputs": [
    {
     "name": "stdout",
     "output_type": "stream",
     "text": [
      "1.0\n",
      "1.0\n"
     ]
    }
   ],
   "source": [
    "startCash=0\n",
    "for i in restListDmr:\n",
    "    query = Dmrs.query.filter_by(id=i).with_entities(Dmrs.startCash).first()\n",
    "    print(query[0])\n",
    "    test = test + int(query[0])"
   ]
  },
  {
   "cell_type": "code",
   "execution_count": 42,
   "metadata": {},
   "outputs": [
    {
     "data": {
      "text/plain": [
       "2"
      ]
     },
     "execution_count": 42,
     "metadata": {},
     "output_type": "execute_result"
    }
   ],
   "source": [
    "test"
   ]
  },
  {
   "cell_type": "code",
   "execution_count": 59,
   "metadata": {},
   "outputs": [],
   "source": [
    "salesDmrList = [Dmrs.query.filter_by(id=i).with_entities(Dmrs.sales).first() for i in restListDmr]"
   ]
  },
  {
   "cell_type": "code",
   "execution_count": 60,
   "metadata": {},
   "outputs": [
    {
     "data": {
      "text/plain": [
       "[(1.0), (1.0)]"
      ]
     },
     "execution_count": 60,
     "metadata": {},
     "output_type": "execute_result"
    }
   ],
   "source": [
    "salesDmrList"
   ]
  },
  {
   "cell_type": "code",
   "execution_count": 63,
   "metadata": {},
   "outputs": [
    {
     "data": {
      "text/plain": [
       "[1.0, 2.0]"
      ]
     },
     "execution_count": 63,
     "metadata": {},
     "output_type": "execute_result"
    }
   ],
   "source": [
    "sales =0\n",
    "[sales := sales + x[0] for x in salesDmrList]"
   ]
  },
  {
   "cell_type": "code",
   "execution_count": 64,
   "metadata": {},
   "outputs": [
    {
     "data": {
      "text/plain": [
       "2.0"
      ]
     },
     "execution_count": 64,
     "metadata": {},
     "output_type": "execute_result"
    }
   ],
   "source": [
    "sales"
   ]
  },
  {
   "cell_type": "code",
   "execution_count": 44,
   "metadata": {},
   "outputs": [
    {
     "data": {
      "text/plain": [
       "list"
      ]
     },
     "execution_count": 44,
     "metadata": {},
     "output_type": "execute_result"
    }
   ],
   "source": [
    "type(query)"
   ]
  },
  {
   "cell_type": "code",
   "execution_count": 48,
   "metadata": {},
   "outputs": [
    {
     "data": {
      "text/plain": [
       "float"
      ]
     },
     "execution_count": 48,
     "metadata": {},
     "output_type": "execute_result"
    }
   ],
   "source": [
    "type(query[0][0])"
   ]
  },
  {
   "cell_type": "code",
   "execution_count": null,
   "metadata": {},
   "outputs": [],
   "source": []
  },
  {
   "cell_type": "code",
   "execution_count": null,
   "metadata": {},
   "outputs": [],
   "source": [
    "[total := total + x for x in [1, 2, 3, 4, 5]]"
   ]
  },
  {
   "cell_type": "code",
   "execution_count": null,
   "metadata": {},
   "outputs": [],
   "source": []
  },
  {
   "cell_type": "code",
   "execution_count": null,
   "metadata": {},
   "outputs": [],
   "source": []
  },
  {
   "cell_type": "code",
   "execution_count": 27,
   "metadata": {},
   "outputs": [
    {
     "name": "stdout",
     "output_type": "stream",
     "text": [
      "106\n"
     ]
    }
   ],
   "source": [
    "dmrData1 = Dmrs.query.filter_by(restaurantId=3, dmrDate=date1).order_by(Dmrs.id.desc()).first()\n",
    "print(dmrData1.id)"
   ]
  },
  {
   "cell_type": "code",
   "execution_count": 68,
   "metadata": {},
   "outputs": [],
   "source": [
    "shiftData = Shifts.query.filter_by(shiftDate=date1)\n",
    "shiftRolesList = [Employeetypes.query.filter_by(id=i.employeeTypesId).with_entities(Employeetypes.role).first() \n",
    "                  for i in shiftData.all()] "
   ]
  },
  {
   "cell_type": "code",
   "execution_count": 69,
   "metadata": {},
   "outputs": [
    {
     "data": {
      "text/plain": [
       "[('Bartender'), ('Apprentice')]"
      ]
     },
     "execution_count": 69,
     "metadata": {},
     "output_type": "execute_result"
    }
   ],
   "source": [
    "shiftRolesList"
   ]
  },
  {
   "cell_type": "code",
   "execution_count": 17,
   "metadata": {},
   "outputs": [],
   "source": [
    "date1 = \"2020-11-26\"\n",
    "dmrDateVar = date(int(date1[0:4]), int(date1[5:7]), int(date1[8:10]))\n",
    "dmrHoursByRole = Shifts.query.with_entities(func.sum(Shifts.hoursWorked)).group_by(\n",
    "    Shifts.employeeTypesId).filter_by(\n",
    "    shiftDate=dmrDateVar).all()"
   ]
  },
  {
   "cell_type": "code",
   "execution_count": 18,
   "metadata": {},
   "outputs": [
    {
     "data": {
      "text/plain": [
       "[(2.0), (1.0)]"
      ]
     },
     "execution_count": 18,
     "metadata": {},
     "output_type": "execute_result"
    }
   ],
   "source": [
    "dmrHoursByRole"
   ]
  },
  {
   "cell_type": "code",
   "execution_count": 14,
   "metadata": {},
   "outputs": [],
   "source": [
    "shiftRolesList = [i.employeetype.role for i in shiftData.all()]"
   ]
  },
  {
   "cell_type": "code",
   "execution_count": 15,
   "metadata": {},
   "outputs": [
    {
     "data": {
      "text/plain": [
       "['Bartender', 'Apprentice']"
      ]
     },
     "execution_count": 15,
     "metadata": {},
     "output_type": "execute_result"
    }
   ],
   "source": [
    "shiftRolesList"
   ]
  },
  {
   "cell_type": "code",
   "execution_count": 77,
   "metadata": {},
   "outputs": [],
   "source": [
    "restListDmr = []\n",
    "for i in restList:\n",
    "    dmrData1 = Dmrs.query.filter_by(restaurantId=i[0], dmrDate=date1).order_by(Dmrs.id.desc()).first()\n",
    "    try:\n",
    "        restListDmr.append(dmrData1.id)\n",
    "    except:\n",
    "        pass"
   ]
  },
  {
   "cell_type": "code",
   "execution_count": 78,
   "metadata": {},
   "outputs": [
    {
     "data": {
      "text/plain": [
       "[145, 148]"
      ]
     },
     "execution_count": 78,
     "metadata": {},
     "output_type": "execute_result"
    }
   ],
   "source": [
    "restListDmr"
   ]
  },
  {
   "cell_type": "code",
   "execution_count": 20,
   "metadata": {},
   "outputs": [
    {
     "data": {
      "text/plain": [
       "[2.0, 6.0]"
      ]
     },
     "execution_count": 20,
     "metadata": {},
     "output_type": "execute_result"
    }
   ],
   "source": [
    "restList = Restaurants.query.with_entities(Restaurants.id).all()\n",
    "tipDmrList = [Dmrs.query.filter_by(id=i).with_entities(Dmrs.tip).first() for i in restListDmr]\n",
    "tip = 0\n",
    "[tip := tip + x[0] for x in tipDmrList]"
   ]
  },
  {
   "cell_type": "code",
   "execution_count": 88,
   "metadata": {},
   "outputs": [
    {
     "data": {
      "text/plain": [
       "[(2.0), (4.0)]"
      ]
     },
     "execution_count": 88,
     "metadata": {},
     "output_type": "execute_result"
    }
   ],
   "source": [
    "tipDmrList"
   ]
  },
  {
   "cell_type": "code",
   "execution_count": 21,
   "metadata": {},
   "outputs": [],
   "source": [
    "if 'Bartender' in shiftRolesList and 'Apprentice' not in shiftRolesList:\n",
    "    bartenderHours = dmrHoursByRole[0][0]\n",
    "    # apprenticeHours = 0\n",
    "    bartenderWagePerHour = tip / bartenderHours if tip != None else None\n",
    "    # appWagePerHour = 0\n",
    "elif 'Bartender' not in shiftRolesList and 'Apprentice' in shiftRolesList:\n",
    "    # bartenderHours = 0\n",
    "    apprenticeHours = dmrHoursByRole[0][0]\n",
    "    # bartenderWagePerHour = 0\n",
    "    appWagePerHour = tip / apprenticeHours if tip != None else None\n",
    "else:\n",
    "    bartenderHours = dmrHoursByRole[0][0]\n",
    "    apprenticeHours = dmrHoursByRole[1][0]\n",
    "    bartenderWagePerHour = tip / (bartenderHours + apprenticeHours * .5) if tip != None else None\n",
    "    appWagePerHour = tip / (bartenderHours * 2 + apprenticeHours) if tip != None else None\n"
   ]
  },
  {
   "cell_type": "code",
   "execution_count": 90,
   "metadata": {},
   "outputs": [
    {
     "data": {
      "text/plain": [
       "2.4"
      ]
     },
     "execution_count": 90,
     "metadata": {},
     "output_type": "execute_result"
    }
   ],
   "source": [
    "bartenderWagePerHour"
   ]
  },
  {
   "cell_type": "code",
   "execution_count": 93,
   "metadata": {},
   "outputs": [
    {
     "data": {
      "text/plain": [
       "1.2"
      ]
     },
     "execution_count": 93,
     "metadata": {},
     "output_type": "execute_result"
    }
   ],
   "source": [
    "appWagePerHour"
   ]
  },
  {
   "cell_type": "code",
   "execution_count": 26,
   "metadata": {},
   "outputs": [
    {
     "name": "stdout",
     "output_type": "stream",
     "text": [
      "Bartender 4.8 2.0\n",
      "Apprentice 1.2 2.0\n"
     ]
    }
   ],
   "source": [
    "shiftData = Shifts.query.filter_by(shiftDate=date(2020,11,26))\n",
    "for i in shiftData.all():\n",
    "    print(i.employeetype.role, i.shiftTipsShipgarten, i.shiftTips)"
   ]
  },
  {
   "cell_type": "code",
   "execution_count": 25,
   "metadata": {},
   "outputs": [],
   "source": [
    "shiftData = Shifts.query.filter_by(shiftDate=date(2020,11,26))\n",
    "for i in shiftData.all():\n",
    "    if i.employeetype.role =='Bartender':\n",
    "        i.shiftTipsShipgarten = bartenderWagePerHour * i.hoursWorked\n",
    "    else:\n",
    "        i.shiftTipsShipgarten = appWagePerHour * i.hoursWorked\n",
    "    db.session.commit()"
   ]
  },
  {
   "cell_type": "code",
   "execution_count": 48,
   "metadata": {},
   "outputs": [],
   "source": [
    "    restListDmr = []\n",
    "    restNames =''\n",
    "    for i in restList:\n",
    "        dmrData1 = Dmrs.query.filter_by(restaurantId=i[0], dmrDate=date1).order_by(Dmrs.id.desc()).first()\n",
    "        try:\n",
    "            restListDmr.append(dmrData1.id)\n",
    "            restNames+= dmrData1.restaurant.name + ', '\n",
    "        except:\n",
    "            pass\n",
    "    \n",
    "    restNames = restNames[:-1]"
   ]
  },
  {
   "cell_type": "code",
   "execution_count": 49,
   "metadata": {},
   "outputs": [
    {
     "data": {
      "text/plain": [
       "'Roll Bar, Chalkboard,'"
      ]
     },
     "execution_count": 49,
     "metadata": {},
     "output_type": "execute_result"
    }
   ],
   "source": [
    "restNames"
   ]
  },
  {
   "cell_type": "code",
   "execution_count": 41,
   "metadata": {},
   "outputs": [
    {
     "name": "stdout",
     "output_type": "stream",
     "text": [
      "Restaurants('2','Roll Bar')\n"
     ]
    }
   ],
   "source": [
    "dmrData1 = Dmrs.query.filter_by(restaurantId=2, dmrDate=date1).order_by(Dmrs.id.desc()).first()\n",
    "print(dmrData1.restaurant)"
   ]
  },
  {
   "cell_type": "code",
   "execution_count": 53,
   "metadata": {},
   "outputs": [
    {
     "data": {
      "text/plain": [
       "[(1), (2), (3), (4)]"
      ]
     },
     "execution_count": 53,
     "metadata": {},
     "output_type": "execute_result"
    }
   ],
   "source": [
    "restList"
   ]
  },
  {
   "cell_type": "code",
   "execution_count": 54,
   "metadata": {},
   "outputs": [
    {
     "name": "stdout",
     "output_type": "stream",
     "text": [
      "Dmr('154','2020-11-26','1','Shipgarten')\n",
      "Dmr('145','2020-11-26','2','Roll Bar')\n",
      "Dmr('148','2020-11-26','3','Chalkboard')\n",
      "None\n"
     ]
    }
   ],
   "source": [
    "for i in restList:\n",
    "    dmrData1 = Dmrs.query.filter_by(restaurantId=i[0], dmrDate=date1).order_by(Dmrs.id.desc()).first()\n",
    "    print(dmrData1)"
   ]
  },
  {
   "cell_type": "code",
   "execution_count": 66,
   "metadata": {},
   "outputs": [
    {
     "name": "stdout",
     "output_type": "stream",
     "text": [
      "Roll Bar\n",
      "Chalkboard\n"
     ]
    }
   ],
   "source": [
    "\n",
    "dmrData2 = Dmrs.query.filter(Dmrs.dmrDate==date1, Dmrs.restaurantId!=1)\n",
    "for i in restList:\n",
    "    dmrData1 = dmrData2.filter(Dmrs.restaurantId==i[0]).order_by(Dmrs.id.desc()).first()\n",
    "    if dmrData1 != None:\n",
    "        print(dmrData1.restaurant.name)"
   ]
  },
  {
   "cell_type": "code",
   "execution_count": null,
   "metadata": {},
   "outputs": [],
   "source": [
    "\n",
    "startCashDmrList = [Dmrs.query.filter(Dmrs.id==i).filter(Dmrs.id!=1).with_entities(Dmrs.startCash).first() for i in restListDmr\n",
    "                        if ]\n",
    "startCash = 0\n",
    "[startCash := startCash + x[0] for x in startCashDmrList]\n",
    "form.startCash.data = startCash"
   ]
  },
  {
   "cell_type": "code",
   "execution_count": 67,
   "metadata": {},
   "outputs": [
    {
     "data": {
      "text/plain": [
       "[Shift('39','morning','empId: 1','Nick','Roll Bar'),\n",
       " Shift('40','afternoon','empId: 3','Thomas','Chalkboard')]"
      ]
     },
     "execution_count": 67,
     "metadata": {},
     "output_type": "execute_result"
    }
   ],
   "source": [
    "shiftData.all()"
   ]
  },
  {
   "cell_type": "code",
   "execution_count": 75,
   "metadata": {},
   "outputs": [
    {
     "name": "stdout",
     "output_type": "stream",
     "text": [
      "('Bartender',) Roll Bar\n",
      "('Apprentice',) Chalkboard\n"
     ]
    }
   ],
   "source": [
    "shiftRolesList=[]\n",
    "for i in shiftData.all():\n",
    "    shiftRole = Employeetypes.query.filter_by(id=i.employeeTypesId).with_entities(Employeetypes.role).first()\n",
    "    shiftRestaurant = i.restaurant\n",
    "    shiftRolesList.append(shiftRole[0] +\" - \" + shiftRestaurant.name)"
   ]
  },
  {
   "cell_type": "code",
   "execution_count": 76,
   "metadata": {},
   "outputs": [
    {
     "data": {
      "text/plain": [
       "['Bartender - Roll Bar', 'Apprentice - Chalkboard']"
      ]
     },
     "execution_count": 76,
     "metadata": {},
     "output_type": "execute_result"
    }
   ],
   "source": [
    "shiftRolesList"
   ]
  },
  {
   "cell_type": "code",
   "execution_count": 81,
   "metadata": {},
   "outputs": [],
   "source": [
    "shiftData = Shifts.query.filter(Shifts.restaurantId==2, Shifts.shiftDate<date1, Shifts.shiftDate>date(2020,11,23))"
   ]
  },
  {
   "cell_type": "code",
   "execution_count": 82,
   "metadata": {},
   "outputs": [
    {
     "data": {
      "text/plain": [
       "[Shift('27','morning','empId: 1','Nick','Roll Bar'),\n",
       " Shift('28','morning','empId: 3','Thomas','Roll Bar')]"
      ]
     },
     "execution_count": 82,
     "metadata": {},
     "output_type": "execute_result"
    }
   ],
   "source": [
    "shiftData.all()"
   ]
  },
  {
   "cell_type": "code",
   "execution_count": 83,
   "metadata": {},
   "outputs": [],
   "source": [
    "shift1=shiftData.first()"
   ]
  },
  {
   "cell_type": "code",
   "execution_count": 86,
   "metadata": {},
   "outputs": [
    {
     "data": {
      "text/plain": [
       "'Bartender'"
      ]
     },
     "execution_count": 86,
     "metadata": {},
     "output_type": "execute_result"
    }
   ],
   "source": [
    "shift1.employeetype.role"
   ]
  },
  {
   "cell_type": "code",
   "execution_count": 88,
   "metadata": {},
   "outputs": [],
   "source": [
    "shiftRestaurants = shiftData.all()\n",
    "shiftRestaurantList = [i.restaurant.name for i in shiftRestaurants]"
   ]
  },
  {
   "cell_type": "code",
   "execution_count": 89,
   "metadata": {},
   "outputs": [
    {
     "data": {
      "text/plain": [
       "['Roll Bar', 'Roll Bar']"
      ]
     },
     "execution_count": 89,
     "metadata": {},
     "output_type": "execute_result"
    }
   ],
   "source": [
    "shiftRestaurantList"
   ]
  },
  {
   "cell_type": "code",
   "execution_count": 3,
   "metadata": {},
   "outputs": [],
   "source": [
    "employees=Employees.query.all()\n",
    "employees1=Employees.query.with_entities(Employees.name).all()"
   ]
  },
  {
   "cell_type": "code",
   "execution_count": 5,
   "metadata": {},
   "outputs": [
    {
     "data": {
      "text/plain": [
       "[('Nick'), ('Molly'), ('Thomas'), ('Someone else')]"
      ]
     },
     "execution_count": 5,
     "metadata": {},
     "output_type": "execute_result"
    }
   ],
   "source": [
    "employees1"
   ]
  },
  {
   "cell_type": "code",
   "execution_count": 6,
   "metadata": {},
   "outputs": [
    {
     "data": {
      "text/plain": [
       "[Employee('1','Nick','[Shift('3','morning','empId: 1','Nick','Chalkboard'), Shift('29','morning','empId: 1','Nick','Chalkboard'), Shift('30','afternoon','empId: 1','Nick','Chalkboard'), Shift('31','afternoon','empId: 1','Nick','Chalkboard'), Shift('32','afternoon','empId: 1','Nick','Chalkboard'), Shift('33','afternoon','empId: 1','Nick','Chalkboard'), Shift('34','afternoon','empId: 1','Nick','Chalkboard'), Shift('35','afternoon','empId: 1','Nick','Chalkboard'), Shift('39','morning','empId: 1','Nick','Roll Bar'), Shift('42','morning','empId: 1','Nick','Roll Bar')]'),\n",
       " Employee('2','Molly','[]'),\n",
       " Employee('3','Thomas','[Shift('19','morning','empId: 3','Thomas','Chalkboard'), Shift('25','morning','empId: 3','Thomas','Chalkboard'), Shift('40','afternoon','empId: 3','Thomas','Chalkboard'), Shift('41','morning','empId: 3','Thomas','Salamati')]'),\n",
       " Employee('4','Someone else','[]')]"
      ]
     },
     "execution_count": 6,
     "metadata": {},
     "output_type": "execute_result"
    }
   ],
   "source": [
    "employees"
   ]
  },
  {
   "cell_type": "code",
   "execution_count": 7,
   "metadata": {},
   "outputs": [],
   "source": [
    "employees2=Employees.query.with_entities(Employees.id, Employees.name).all()"
   ]
  },
  {
   "cell_type": "code",
   "execution_count": 8,
   "metadata": {},
   "outputs": [
    {
     "data": {
      "text/plain": [
       "[('Nick', 1), ('Molly', 2), ('Thomas', 3), ('Someone else', 4)]"
      ]
     },
     "execution_count": 8,
     "metadata": {},
     "output_type": "execute_result"
    }
   ],
   "source": [
    "employees2"
   ]
  },
  {
   "cell_type": "code",
   "execution_count": null,
   "metadata": {},
   "outputs": [],
   "source": []
  },
  {
   "cell_type": "code",
   "execution_count": null,
   "metadata": {},
   "outputs": [],
   "source": []
  }
 ],
 "metadata": {
  "kernelspec": {
   "display_name": "Python 3",
   "language": "python",
   "name": "python3"
  },
  "language_info": {
   "codemirror_mode": {
    "name": "ipython",
    "version": 3
   },
   "file_extension": ".py",
   "mimetype": "text/x-python",
   "name": "python",
   "nbconvert_exporter": "python",
   "pygments_lexer": "ipython3",
   "version": "3.8.5"
  }
 },
 "nbformat": 4,
 "nbformat_minor": 4
}
