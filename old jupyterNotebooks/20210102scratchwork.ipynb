{
 "cells": [
  {
   "cell_type": "code",
   "execution_count": 1,
   "metadata": {},
   "outputs": [
    {
     "name": "stderr",
     "output_type": "stream",
     "text": [
      "C:\\tools\\miniconda3\\envs\\dmrAppConda\\lib\\site-packages\\flask_sqlalchemy\\__init__.py:833: FSADeprecationWarning: SQLALCHEMY_TRACK_MODIFICATIONS adds significant overhead and will be disabled by default in the future.  Set it to True or False to suppress this warning.\n",
      "  warnings.warn(FSADeprecationWarning(\n"
     ]
    }
   ],
   "source": [
    "from dmrApp import create_app, db\n",
    "from dmrApp.models import Dmrs, Employees, Employeeroles, Post, Restaurants, Shifts, \\\n",
    "    User, Standardwages\n",
    "import numpy as np\n",
    "from datetime import date, datetime\n",
    "from sqlalchemy import func\n",
    "proxyApp=create_app()\n",
    "ctx=proxyApp.app_context()\n",
    "ctx.push()"
   ]
  },
  {
   "cell_type": "code",
   "execution_count": 42,
   "metadata": {},
   "outputs": [],
   "source": [
    "ctx.pop()"
   ]
  },
  {
   "cell_type": "code",
   "execution_count": null,
   "metadata": {},
   "outputs": [],
   "source": []
  },
  {
   "cell_type": "code",
   "execution_count": 3,
   "metadata": {},
   "outputs": [],
   "source": [
    "dmrDateVar='2020-12-31'\n",
    "restaurantGroupId=1\n",
    "restaurants_id=3\n",
    "shiftData = Shifts.query.filter_by(restaurantId=restaurants_id, shiftDate=dmrDateVar)"
   ]
  },
  {
   "cell_type": "code",
   "execution_count": 13,
   "metadata": {},
   "outputs": [
    {
     "data": {
      "text/plain": [
       "[Shift('1','afternoon','empId: 1','Nick','Tysons Biergarten')]"
      ]
     },
     "execution_count": 13,
     "metadata": {},
     "output_type": "execute_result"
    }
   ],
   "source": [
    "shiftData.all()"
   ]
  },
  {
   "cell_type": "code",
   "execution_count": 19,
   "metadata": {},
   "outputs": [],
   "source": [
    "# tipOutFullShiftIdList=[]\n",
    "# for i in shiftData:\n",
    "tipOutFullShiftIdList=[i.id for i in shiftData if i.employeerole.tipPercentage==1.0]\n",
    "tipOutHalfShiftIdList=[i.id for i in shiftData if i.employeerole.tipPercentage==0.5]"
   ]
  },
  {
   "cell_type": "code",
   "execution_count": 18,
   "metadata": {},
   "outputs": [
    {
     "data": {
      "text/plain": [
       "[1]"
      ]
     },
     "execution_count": 18,
     "metadata": {},
     "output_type": "execute_result"
    }
   ],
   "source": [
    "tipOutFullShiftIdList"
   ]
  },
  {
   "cell_type": "code",
   "execution_count": 22,
   "metadata": {},
   "outputs": [],
   "source": [
    "#sum hours of shifts by tipout list\n",
    "# for i in tipOutFullShiftIdList:\n",
    "fullTipOutHours=sum([Shifts.query.get(i).hoursWorked for i in tipOutFullShiftIdList])\n",
    "halfTipOutHours=sum([Shifts.query.get(i).hoursWorked for i in tipOutHalfShiftIdList])"
   ]
  },
  {
   "cell_type": "code",
   "execution_count": 23,
   "metadata": {},
   "outputs": [
    {
     "data": {
      "text/plain": [
       "0"
      ]
     },
     "execution_count": 23,
     "metadata": {},
     "output_type": "execute_result"
    }
   ],
   "source": [
    "halfTipOutHours"
   ]
  },
  {
   "cell_type": "code",
   "execution_count": 25,
   "metadata": {},
   "outputs": [],
   "source": [
    "def calcHoursRes(restaurants_id, dmrDateVar):\n",
    "    shiftData = Shifts.query.filter_by(restaurantId=restaurants_id, shiftDate=dmrDateVar)\n",
    "    tipOutFullShiftIdList=[i.id for i in shiftData if i.employeerole.tipPercentage==1.0]\n",
    "    tipOutHalfShiftIdList=[i.id for i in shiftData if i.employeerole.tipPercentage==0.5]\n",
    "    fullTipOutHours=sum([Shifts.query.get(i).hoursWorked for i in tipOutFullShiftIdList])\n",
    "    halfTipOutHours=sum([Shifts.query.get(i).hoursWorked for i in tipOutHalfShiftIdList])\n",
    "    return (fullTipOutHours,halfTipOutHours)"
   ]
  },
  {
   "cell_type": "code",
   "execution_count": null,
   "metadata": {},
   "outputs": [],
   "source": []
  },
  {
   "cell_type": "code",
   "execution_count": 26,
   "metadata": {},
   "outputs": [
    {
     "data": {
      "text/plain": [
       "1.0"
      ]
     },
     "execution_count": 26,
     "metadata": {},
     "output_type": "execute_result"
    }
   ],
   "source": [
    "sum(calcHoursRes(restaurants_id, dmrDateVar))"
   ]
  },
  {
   "cell_type": "code",
   "execution_count": 28,
   "metadata": {},
   "outputs": [
    {
     "ename": "AttributeError",
     "evalue": "'BaseQuery' object has no attribute 'shifts'",
     "output_type": "error",
     "traceback": [
      "\u001b[1;31m---------------------------------------------------------------------------\u001b[0m",
      "\u001b[1;31mAttributeError\u001b[0m                            Traceback (most recent call last)",
      "\u001b[1;32m<ipython-input-28-13dd8e50287f>\u001b[0m in \u001b[0;36m<module>\u001b[1;34m\u001b[0m\n\u001b[1;32m----> 1\u001b[1;33m \u001b[0mdb\u001b[0m\u001b[1;33m.\u001b[0m\u001b[0msession\u001b[0m\u001b[1;33m.\u001b[0m\u001b[0mquery\u001b[0m\u001b[1;33m(\u001b[0m\u001b[0mDmrs\u001b[0m\u001b[1;33m)\u001b[0m\u001b[1;33m.\u001b[0m\u001b[0mfilter_by\u001b[0m\u001b[1;33m(\u001b[0m\u001b[0mrestaurantId\u001b[0m\u001b[1;33m=\u001b[0m\u001b[0mrestaurants_id\u001b[0m\u001b[1;33m,\u001b[0m \u001b[0mdmrDate\u001b[0m\u001b[1;33m=\u001b[0m\u001b[0mdmrDateVar\u001b[0m\u001b[1;33m)\u001b[0m\u001b[1;33m.\u001b[0m\u001b[0mshifts\u001b[0m\u001b[1;33m\u001b[0m\u001b[1;33m\u001b[0m\u001b[0m\n\u001b[0m",
      "\u001b[1;31mAttributeError\u001b[0m: 'BaseQuery' object has no attribute 'shifts'"
     ]
    }
   ],
   "source": [
    "db.session.query(Dmrs).filter_by(restaurantId=restaurants_id, dmrDate=dmrDateVar).shifts"
   ]
  },
  {
   "cell_type": "code",
   "execution_count": 3,
   "metadata": {},
   "outputs": [],
   "source": [
    "shiftData=Shifts.query.filter_by(shiftDate=dmrDateVar,restaurantGroupId=1)"
   ]
  },
  {
   "cell_type": "code",
   "execution_count": null,
   "metadata": {},
   "outputs": [],
   "source": []
  },
  {
   "cell_type": "code",
   "execution_count": 4,
   "metadata": {},
   "outputs": [
    {
     "data": {
      "text/plain": [
       "1"
      ]
     },
     "execution_count": 4,
     "metadata": {},
     "output_type": "execute_result"
    }
   ],
   "source": [
    "len(shiftData.all())"
   ]
  },
  {
   "cell_type": "code",
   "execution_count": null,
   "metadata": {},
   "outputs": [],
   "source": []
  },
  {
   "cell_type": "code",
   "execution_count": null,
   "metadata": {},
   "outputs": [],
   "source": []
  },
  {
   "cell_type": "code",
   "execution_count": 5,
   "metadata": {},
   "outputs": [],
   "source": [
    "\n",
    "def resAvgTips(restaurants_id, dmrDateVar, tip, resHoursTuple):\n",
    "    if resHoursTuple[0]==0 :\n",
    "        bartenderTipsPerHour = tip / resHoursTuple[0]\n",
    "    elif resHoursTuple[1]>0:\n",
    "        appTipsPerHour = tip / resHoursTuple[1]\n",
    "    else:\n",
    "        bartenderTipsPerHour = tip / (resHoursTuple[0] + resHoursTuple[1] * .5)\n",
    "        appTipsPerHour = tip / (resHoursTuple[0] * 2 + resHoursTuple[1])\n",
    "    return(bartenderTipsPerHour,appTipsPerHour)"
   ]
  },
  {
   "cell_type": "code",
   "execution_count": 8,
   "metadata": {},
   "outputs": [
    {
     "data": {
      "text/plain": [
       "(3.0, 1.5)"
      ]
     },
     "execution_count": 8,
     "metadata": {},
     "output_type": "execute_result"
    }
   ],
   "source": [
    "resAvgTips(restaurants_id, dmrDateVar, 3,(1.0,0))"
   ]
  },
  {
   "cell_type": "code",
   "execution_count": 9,
   "metadata": {},
   "outputs": [],
   "source": [
    "startCashG=sum(db.session.query(\n",
    "    Dmrs.startCash).filter(Dmrs.id==i[0]).first()[0] for i in resIds)+float(startCash)"
   ]
  },
  {
   "cell_type": "code",
   "execution_count": 34,
   "metadata": {},
   "outputs": [],
   "source": [
    "dmrDictList1={'startCash':0,'payout':0,'sales':0}"
   ]
  },
  {
   "cell_type": "code",
   "execution_count": 31,
   "metadata": {},
   "outputs": [],
   "source": [
    "def flagDmrEntry(dmrDictList1):\n",
    "    for h,i in dmrDictList1.items():\n",
    "        if i==None or i=='':\n",
    "            return h\n",
    "        \n",
    "        "
   ]
  },
  {
   "cell_type": "code",
   "execution_count": 35,
   "metadata": {},
   "outputs": [
    {
     "name": "stdout",
     "output_type": "stream",
     "text": [
      "None\n"
     ]
    }
   ],
   "source": [
    "print(flagDmrEntry(dmrDictList1))"
   ]
  },
  {
   "cell_type": "code",
   "execution_count": 36,
   "metadata": {},
   "outputs": [],
   "source": []
  },
  {
   "cell_type": "code",
   "execution_count": null,
   "metadata": {},
   "outputs": [],
   "source": []
  },
  {
   "cell_type": "code",
   "execution_count": 13,
   "metadata": {},
   "outputs": [],
   "source": [
    "#update restaurant DMR\n",
    "resId=3\n",
    "dmrForUpdate=db.session.query(Dmrs,func.max(Dmrs.id)).filter_by(restaurantId=resId, dmrDate=dmrDateVar).first()"
   ]
  },
  {
   "cell_type": "code",
   "execution_count": 42,
   "metadata": {},
   "outputs": [],
   "source": [
    "dmrForUpdate.numHoursWorked = 0"
   ]
  },
  {
   "cell_type": "code",
   "execution_count": 48,
   "metadata": {},
   "outputs": [],
   "source": []
  },
  {
   "cell_type": "code",
   "execution_count": 18,
   "metadata": {},
   "outputs": [],
   "source": [
    "dmrForUpdate[0].numHoursWorked = 0\n",
    "db.session.commit()"
   ]
  },
  {
   "cell_type": "code",
   "execution_count": 15,
   "metadata": {},
   "outputs": [
    {
     "data": {
      "text/plain": [
       "(Dmr('58','2020-12-31','3','Tysons Biergarten'), 58)"
      ]
     },
     "execution_count": 15,
     "metadata": {},
     "output_type": "execute_result"
    }
   ],
   "source": [
    "dmrForUpdate"
   ]
  },
  {
   "cell_type": "code",
   "execution_count": 19,
   "metadata": {},
   "outputs": [
    {
     "data": {
      "text/plain": [
       "59"
      ]
     },
     "execution_count": 19,
     "metadata": {},
     "output_type": "execute_result"
    }
   ],
   "source": [
    "db.session.query(func.max(Dmrs.id)).filter_by(restaurantId=resId).first()[0]+1"
   ]
  },
  {
   "cell_type": "code",
   "execution_count": null,
   "metadata": {},
   "outputs": [],
   "source": []
  }
 ],
 "metadata": {
  "kernelspec": {
   "display_name": "Python 3",
   "language": "python",
   "name": "python3"
  },
  "language_info": {
   "codemirror_mode": {
    "name": "ipython",
    "version": 3
   },
   "file_extension": ".py",
   "mimetype": "text/x-python",
   "name": "python",
   "nbconvert_exporter": "python",
   "pygments_lexer": "ipython3",
   "version": "3.8.5"
  }
 },
 "nbformat": 4,
 "nbformat_minor": 4
}
