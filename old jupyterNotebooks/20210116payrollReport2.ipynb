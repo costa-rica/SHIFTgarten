{
 "cells": [
  {
   "cell_type": "code",
   "execution_count": 2,
   "metadata": {},
   "outputs": [
    {
     "name": "stderr",
     "output_type": "stream",
     "text": [
      "C:\\tools\\miniconda3\\envs\\dmrAppConda\\lib\\site-packages\\flask_sqlalchemy\\__init__.py:833: FSADeprecationWarning: SQLALCHEMY_TRACK_MODIFICATIONS adds significant overhead and will be disabled by default in the future.  Set it to True or False to suppress this warning.\n",
      "  warnings.warn(FSADeprecationWarning(\n"
     ]
    }
   ],
   "source": [
    "from dmrApp import create_app, db\n",
    "from dmrApp.models import Dmrs, Employees, Employeeroles, Post, Restaurants, Shifts, User, Standardwages\n",
    "import numpy as np\n",
    "from datetime import date, datetime\n",
    "from datetime import timedelta\n",
    "from sqlalchemy import func\n",
    "import pandas as pd\n",
    "import os\n",
    "proxyApp=create_app()\n",
    "ctx=proxyApp.app_context()\n",
    "ctx.push()\n",
    "\n",
    "#make payroll report into components so that each week is captured then combined at the end"
   ]
  },
  {
   "cell_type": "code",
   "execution_count": 3,
   "metadata": {},
   "outputs": [],
   "source": [
    "db.create_all()"
   ]
  },
  {
   "cell_type": "code",
   "execution_count": 11,
   "metadata": {},
   "outputs": [],
   "source": [
    "# inputs\n",
    "resId=3\n",
    "dateFrom=date(2020,12,27)\n",
    "dateTo=date(2021,1,9)"
   ]
  },
  {
   "cell_type": "code",
   "execution_count": 49,
   "metadata": {},
   "outputs": [],
   "source": [
    "#start by getting table into pandas\n",
    "shiftDf=pd.read_sql_table('shifts',db.engine)\n",
    "employeerolesDf=pd.read_sql_table('employeeroles',db.engine)\n",
    "restaurantsDf=pd.read_sql_table('restaurants',db.engine)"
   ]
  },
  {
   "cell_type": "code",
   "execution_count": 50,
   "metadata": {},
   "outputs": [
    {
     "data": {
      "text/plain": [
       "{'week1': [datetime.date(2020, 12, 27), datetime.date(2021, 1, 2)],\n",
       " 'week2': [datetime.date(2021, 1, 3), datetime.date(2021, 1, 9)]}"
      ]
     },
     "execution_count": 50,
     "metadata": {},
     "output_type": "execute_result"
    }
   ],
   "source": [
    "#get date ranges for tables\n",
    "weekStartDt=dateFrom\n",
    "weekEndDt=dateFrom + timedelta(days=6)\n",
    "weeksDict={}\n",
    "i=1\n",
    "while weekEndDt< dateTo:\n",
    "    weeksDict[f'week{i}']=[weekStartDt,weekEndDt]\n",
    "    weekStartDt=weekEndDt + timedelta(days=1)\n",
    "    weekEndDt = weekEndDt + timedelta(days=7)\n",
    "    i+=1\n",
    "# final week calculation\n",
    "weeksDict[f'week{i}']=[weeksDict[f'week{i-1}'][0] + timedelta(days=7),weeksDict[f'week{i-1}'][1] + timedelta(days=7)]\n",
    "weeksDict"
   ]
  },
  {
   "cell_type": "code",
   "execution_count": 66,
   "metadata": {},
   "outputs": [],
   "source": [
    "#build dataframe for one week's payroll if it exists\n",
    "dfList=[]\n",
    "# i=1\n",
    "for x,y in weeksDict.items():\n",
    "    df=shiftDf[(shiftDf['shiftDate']>=str(y[0])) & (shiftDf['shiftDate']<=str(y[1])) & (shiftDf['restaurantId']==resId)]\n",
    "    if len(df)>0:\n",
    "        df=df.groupby(['name','empId','employeeRolesId','restaurantId']).sum()\n",
    "        df=df[['hoursWorked','shiftTips','shiftTipsShipgarten','wages']].copy()\n",
    "        df.reset_index(inplace=True)\n",
    "        df['Tips']=np.where((df['restaurantId'] >=3) & (df['restaurantId']<=6),df['shiftTipsShipgarten'],df['shiftTips'])\n",
    "        df.set_index(['name','empId','employeeRolesId','restaurantId'], inplace=True)\n",
    "        df1=df[['hoursWorked','Tips','wages']].copy()\n",
    "        df1.columns=['Hours', 'Tips','Wages']\n",
    "        dfList.append(df1)\n",
    "    else:\n",
    "        noShiftsColumn=f'No shifts {str(y[0])} thru {str(y[1])}'\n"
   ]
  },
  {
   "cell_type": "code",
   "execution_count": 57,
   "metadata": {},
   "outputs": [],
   "source": [
    "if len(dfList)==2:\n",
    "    df2=pd.merge(dfList[0],dfList[1],how='outer', on=['name','empId','employeeRolesId','restaurantId'], \n",
    "                 suffixes=(' Week1',' Week2')).fillna(0)\n",
    "    df2['Total Hours']=df2['Hours Week1']+df2['Hours Week2']\n",
    "    df2['Total Tips']=df2['Tips Week1']+df2['Tips Week2']\n",
    "    df2['Total Wages']=df2['Wages Week1']+df2['Wages Week2']\n",
    "else:\n",
    "    df2=dfList[0]"
   ]
  },
  {
   "cell_type": "code",
   "execution_count": 58,
   "metadata": {},
   "outputs": [],
   "source": [
    "#get hourly rate from employee roles\n",
    "rolesDf=employeerolesDf[['id','role','wage']].copy()\n",
    "rolesDf.columns=['roleId','Role','Wage']\n",
    "df2.reset_index(inplace=True)\n",
    "df2.set_index('employeeRolesId')\n",
    "df3=pd.merge(df2,rolesDf,how='left',left_on='employeeRolesId',right_on='roleId')"
   ]
  },
  {
   "cell_type": "code",
   "execution_count": 59,
   "metadata": {},
   "outputs": [
    {
     "data": {
      "text/html": [
       "<div>\n",
       "<style scoped>\n",
       "    .dataframe tbody tr th:only-of-type {\n",
       "        vertical-align: middle;\n",
       "    }\n",
       "\n",
       "    .dataframe tbody tr th {\n",
       "        vertical-align: top;\n",
       "    }\n",
       "\n",
       "    .dataframe thead th {\n",
       "        text-align: right;\n",
       "    }\n",
       "</style>\n",
       "<table border=\"1\" class=\"dataframe\">\n",
       "  <thead>\n",
       "    <tr style=\"text-align: right;\">\n",
       "      <th></th>\n",
       "      <th>name</th>\n",
       "      <th>empId</th>\n",
       "      <th>employeeRolesId</th>\n",
       "      <th>restaurantId</th>\n",
       "      <th>Hours</th>\n",
       "      <th>Tips</th>\n",
       "      <th>Wages</th>\n",
       "      <th>roleId</th>\n",
       "      <th>Role</th>\n",
       "      <th>Wage</th>\n",
       "    </tr>\n",
       "  </thead>\n",
       "  <tbody>\n",
       "    <tr>\n",
       "      <th>0</th>\n",
       "      <td>Nick</td>\n",
       "      <td>1</td>\n",
       "      <td>1</td>\n",
       "      <td>3</td>\n",
       "      <td>1.000000</td>\n",
       "      <td>1.0</td>\n",
       "      <td>2.1300</td>\n",
       "      <td>1</td>\n",
       "      <td>bartender</td>\n",
       "      <td>2.13</td>\n",
       "    </tr>\n",
       "    <tr>\n",
       "      <th>1</th>\n",
       "      <td>Shayan</td>\n",
       "      <td>2</td>\n",
       "      <td>3</td>\n",
       "      <td>3</td>\n",
       "      <td>2.683333</td>\n",
       "      <td>2.0</td>\n",
       "      <td>5.7155</td>\n",
       "      <td>3</td>\n",
       "      <td>bartender</td>\n",
       "      <td>2.13</td>\n",
       "    </tr>\n",
       "  </tbody>\n",
       "</table>\n",
       "</div>"
      ],
      "text/plain": [
       "     name  empId  employeeRolesId  restaurantId     Hours  Tips   Wages  \\\n",
       "0    Nick      1                1             3  1.000000   1.0  2.1300   \n",
       "1  Shayan      2                3             3  2.683333   2.0  5.7155   \n",
       "\n",
       "   roleId       Role  Wage  \n",
       "0       1  bartender  2.13  \n",
       "1       3  bartender  2.13  "
      ]
     },
     "execution_count": 59,
     "metadata": {},
     "output_type": "execute_result"
    }
   ],
   "source": [
    "df3"
   ]
  },
  {
   "cell_type": "code",
   "execution_count": 60,
   "metadata": {},
   "outputs": [],
   "source": [
    "restaurantsDf.columns=['restaurantId','Restaurant Name']\n",
    "df4=pd.merge(df3,restaurantsDf,how='left',left_on='restaurantId',right_on='restaurantId')"
   ]
  },
  {
   "cell_type": "code",
   "execution_count": 61,
   "metadata": {},
   "outputs": [
    {
     "data": {
      "text/html": [
       "<div>\n",
       "<style scoped>\n",
       "    .dataframe tbody tr th:only-of-type {\n",
       "        vertical-align: middle;\n",
       "    }\n",
       "\n",
       "    .dataframe tbody tr th {\n",
       "        vertical-align: top;\n",
       "    }\n",
       "\n",
       "    .dataframe thead th {\n",
       "        text-align: right;\n",
       "    }\n",
       "</style>\n",
       "<table border=\"1\" class=\"dataframe\">\n",
       "  <thead>\n",
       "    <tr style=\"text-align: right;\">\n",
       "      <th></th>\n",
       "      <th>name</th>\n",
       "      <th>empId</th>\n",
       "      <th>employeeRolesId</th>\n",
       "      <th>restaurantId</th>\n",
       "      <th>Hours</th>\n",
       "      <th>Tips</th>\n",
       "      <th>Wages</th>\n",
       "      <th>roleId</th>\n",
       "      <th>Role</th>\n",
       "      <th>Wage</th>\n",
       "      <th>Restaurant Name</th>\n",
       "    </tr>\n",
       "  </thead>\n",
       "  <tbody>\n",
       "    <tr>\n",
       "      <th>0</th>\n",
       "      <td>Nick</td>\n",
       "      <td>1</td>\n",
       "      <td>1</td>\n",
       "      <td>3</td>\n",
       "      <td>1.000000</td>\n",
       "      <td>1.0</td>\n",
       "      <td>2.1300</td>\n",
       "      <td>1</td>\n",
       "      <td>bartender</td>\n",
       "      <td>2.13</td>\n",
       "      <td>Tysons Biergarten</td>\n",
       "    </tr>\n",
       "    <tr>\n",
       "      <th>1</th>\n",
       "      <td>Shayan</td>\n",
       "      <td>2</td>\n",
       "      <td>3</td>\n",
       "      <td>3</td>\n",
       "      <td>2.683333</td>\n",
       "      <td>2.0</td>\n",
       "      <td>5.7155</td>\n",
       "      <td>3</td>\n",
       "      <td>bartender</td>\n",
       "      <td>2.13</td>\n",
       "      <td>Tysons Biergarten</td>\n",
       "    </tr>\n",
       "  </tbody>\n",
       "</table>\n",
       "</div>"
      ],
      "text/plain": [
       "     name  empId  employeeRolesId  restaurantId     Hours  Tips   Wages  \\\n",
       "0    Nick      1                1             3  1.000000   1.0  2.1300   \n",
       "1  Shayan      2                3             3  2.683333   2.0  5.7155   \n",
       "\n",
       "   roleId       Role  Wage    Restaurant Name  \n",
       "0       1  bartender  2.13  Tysons Biergarten  \n",
       "1       3  bartender  2.13  Tysons Biergarten  "
      ]
     },
     "execution_count": 61,
     "metadata": {},
     "output_type": "execute_result"
    }
   ],
   "source": [
    "df4"
   ]
  },
  {
   "cell_type": "code",
   "execution_count": 62,
   "metadata": {},
   "outputs": [
    {
     "data": {
      "text/plain": [
       "11"
      ]
     },
     "execution_count": 62,
     "metadata": {},
     "output_type": "execute_result"
    }
   ],
   "source": [
    "len(df4.columns)==11"
   ]
  },
  {
   "cell_type": "code",
   "execution_count": 67,
   "metadata": {},
   "outputs": [],
   "source": [
    "\n",
    "if len(df4.columns)==11:\n",
    "    payrollReport=df4[['name','Restaurant Name','Role','Hours','Wages','Tips']].copy()\n",
    "    payrollReport['Shift Status']=noShiftsColumn\n",
    "else:\n",
    "    payrollReport=df4[['name','Restaurant Name','Role','Hours Week1','Hours Week2','Total Hours','Wages Week1',\n",
    "                       'Wages Week2','Total Wages','Tips Week1','Tips Week2','Total Tips']].copy()\n",
    "payrollReport.rename(columns={'name':'Name'},inplace=True)"
   ]
  },
  {
   "cell_type": "code",
   "execution_count": 72,
   "metadata": {},
   "outputs": [
    {
     "data": {
      "text/html": [
       "<div>\n",
       "<style scoped>\n",
       "    .dataframe tbody tr th:only-of-type {\n",
       "        vertical-align: middle;\n",
       "    }\n",
       "\n",
       "    .dataframe tbody tr th {\n",
       "        vertical-align: top;\n",
       "    }\n",
       "\n",
       "    .dataframe thead th {\n",
       "        text-align: right;\n",
       "    }\n",
       "</style>\n",
       "<table border=\"1\" class=\"dataframe\">\n",
       "  <thead>\n",
       "    <tr style=\"text-align: right;\">\n",
       "      <th></th>\n",
       "      <th>Name</th>\n",
       "      <th>Restaurant Name</th>\n",
       "      <th>Role</th>\n",
       "      <th>Hours</th>\n",
       "      <th>Wages</th>\n",
       "      <th>Tips</th>\n",
       "      <th>No shifts</th>\n",
       "    </tr>\n",
       "  </thead>\n",
       "  <tbody>\n",
       "    <tr>\n",
       "      <th>0</th>\n",
       "      <td>Nick</td>\n",
       "      <td>Tysons Biergarten</td>\n",
       "      <td>bartender</td>\n",
       "      <td>1.000000</td>\n",
       "      <td>2.1300</td>\n",
       "      <td>1.0</td>\n",
       "      <td>No shifts 2020-12-27 thru 2021-01-02</td>\n",
       "    </tr>\n",
       "    <tr>\n",
       "      <th>1</th>\n",
       "      <td>Shayan</td>\n",
       "      <td>Tysons Biergarten</td>\n",
       "      <td>bartender</td>\n",
       "      <td>2.683333</td>\n",
       "      <td>5.7155</td>\n",
       "      <td>2.0</td>\n",
       "      <td>No shifts 2020-12-27 thru 2021-01-02</td>\n",
       "    </tr>\n",
       "  </tbody>\n",
       "</table>\n",
       "</div>"
      ],
      "text/plain": [
       "     Name    Restaurant Name       Role     Hours   Wages  Tips  \\\n",
       "0    Nick  Tysons Biergarten  bartender  1.000000  2.1300   1.0   \n",
       "1  Shayan  Tysons Biergarten  bartender  2.683333  5.7155   2.0   \n",
       "\n",
       "                              No shifts  \n",
       "0  No shifts 2020-12-27 thru 2021-01-02  \n",
       "1  No shifts 2020-12-27 thru 2021-01-02  "
      ]
     },
     "execution_count": 72,
     "metadata": {},
     "output_type": "execute_result"
    }
   ],
   "source": [
    "payrollReport"
   ]
  },
  {
   "cell_type": "code",
   "execution_count": 71,
   "metadata": {},
   "outputs": [
    {
     "data": {
      "text/plain": [
       "'Payroll Report 12.27-01.09.21.xlsx'"
      ]
     },
     "execution_count": 71,
     "metadata": {},
     "output_type": "execute_result"
    }
   ],
   "source": [
    "reportName=f\"Payroll Report {weeksDict['week1'][0].strftime('%m.%d')}-{weeksDict['week2'][1].strftime('%m.%d.%y')}.xlsx\"\n",
    "reportName"
   ]
  },
  {
   "cell_type": "code",
   "execution_count": null,
   "metadata": {},
   "outputs": [],
   "source": []
  },
  {
   "cell_type": "code",
   "execution_count": 73,
   "metadata": {},
   "outputs": [],
   "source": [
    "formatExcel(payrollReport,reportName,'report',3,5)"
   ]
  },
  {
   "cell_type": "code",
   "execution_count": null,
   "metadata": {},
   "outputs": [],
   "source": []
  },
  {
   "cell_type": "code",
   "execution_count": 69,
   "metadata": {},
   "outputs": [],
   "source": [
    "#return excel files formatted\n",
    "def formatExcel(df,fileName,sheetName,startFloat,endFloat):\n",
    "    excelObj=pd.ExcelWriter(reportName)\n",
    "    df.to_excel(excelObj,sheet_name=sheetName, startrow=1,header=False, index=False)\n",
    "    workbook=excelObj.book\n",
    "    worksheet=excelObj.sheets[sheetName]\n",
    "    header_format = workbook.add_format({\n",
    "        'bold': True,\n",
    "        'text_wrap': True,\n",
    "        'valign': 'top',\n",
    "        'border': 0})\n",
    "\n",
    "    for col_num, value in enumerate(df.columns.values):\n",
    "        worksheet.write(0, col_num, value,header_format)\n",
    "        width=len(value) if len(value)>8 else 8\n",
    "        worksheet.set_column(col_num,col_num,width)\n",
    "\n",
    "    formatDecimals = workbook.add_format({'num_format': '#,##0.00'})\n",
    "    worksheet.set_column(startFloat,endFloat, None, formatDecimals)\n",
    "    excelObj.close()"
   ]
  }
 ],
 "metadata": {
  "kernelspec": {
   "display_name": "Python 3",
   "language": "python",
   "name": "python3"
  },
  "language_info": {
   "codemirror_mode": {
    "name": "ipython",
    "version": 3
   },
   "file_extension": ".py",
   "mimetype": "text/x-python",
   "name": "python",
   "nbconvert_exporter": "python",
   "pygments_lexer": "ipython3",
   "version": "3.8.5"
  }
 },
 "nbformat": 4,
 "nbformat_minor": 4
}
