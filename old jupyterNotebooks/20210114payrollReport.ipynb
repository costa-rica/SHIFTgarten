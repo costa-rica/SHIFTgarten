{
 "cells": [
  {
   "cell_type": "code",
   "execution_count": 1,
   "metadata": {},
   "outputs": [
    {
     "name": "stderr",
     "output_type": "stream",
     "text": [
      "C:\\tools\\miniconda3\\envs\\dmrAppConda\\lib\\site-packages\\flask_sqlalchemy\\__init__.py:833: FSADeprecationWarning: SQLALCHEMY_TRACK_MODIFICATIONS adds significant overhead and will be disabled by default in the future.  Set it to True or False to suppress this warning.\n",
      "  warnings.warn(FSADeprecationWarning(\n"
     ]
    }
   ],
   "source": [
    "from dmrApp import create_app, db\n",
    "from dmrApp.models import Dmrs, Employees, Employeeroles, Post, Restaurants, Shifts, \\\n",
    "    User, Standardwages\n",
    "import numpy as np\n",
    "from datetime import date, datetime\n",
    "from datetime import timedelta\n",
    "from sqlalchemy import func\n",
    "import pandas as pd\n",
    "import os\n",
    "proxyApp=create_app()\n",
    "ctx=proxyApp.app_context()\n",
    "ctx.push()"
   ]
  },
  {
   "cell_type": "code",
   "execution_count": 77,
   "metadata": {},
   "outputs": [],
   "source": [
    "ctx.pop()"
   ]
  },
  {
   "cell_type": "code",
   "execution_count": 80,
   "metadata": {},
   "outputs": [],
   "source": [
    "dmr=db.session.query(Dmrs)"
   ]
  },
  {
   "cell_type": "code",
   "execution_count": 3,
   "metadata": {},
   "outputs": [
    {
     "data": {
      "text/plain": [
       "[Dmr('1','2021-01-09','3','Tysons Biergarten'),\n",
       " Dmr('2','2021-01-09','1','CBC Restaurants'),\n",
       " Dmr('3','2021-01-09','2','Shipgarten'),\n",
       " Dmr('4','2021-01-09','3','Tysons Biergarten'),\n",
       " Dmr('6','2021-01-09','3','Tysons Biergarten'),\n",
       " Dmr('7','2021-01-12','3','Tysons Biergarten'),\n",
       " Dmr('8','2021-01-12','1','CBC Restaurants'),\n",
       " Dmr('9','2021-01-12','2','Shipgarten'),\n",
       " Dmr('10','2021-01-12','3','Tysons Biergarten'),\n",
       " Dmr('11','2021-01-12','3','Tysons Biergarten'),\n",
       " Dmr('12','2021-01-12','3','Tysons Biergarten'),\n",
       " Dmr('14','2021-01-12','3','Tysons Biergarten'),\n",
       " Dmr('15','2021-01-12','3','Tysons Biergarten'),\n",
       " Dmr('16','2021-01-12','6','Salamati Grill'),\n",
       " Dmr('17','2021-01-12','6','Salamati Grill'),\n",
       " Dmr('18','2021-01-12','6','Salamati Grill'),\n",
       " Dmr('19','2021-01-12','6','Salamati Grill'),\n",
       " Dmr('20','2021-01-12','6','Salamati Grill'),\n",
       " Dmr('21','2021-01-12','6','Salamati Grill'),\n",
       " Dmr('22','2021-01-12','6','Salamati Grill'),\n",
       " Dmr('23','2021-01-12','6','Salamati Grill')]"
      ]
     },
     "execution_count": 3,
     "metadata": {},
     "output_type": "execute_result"
    }
   ],
   "source": [
    "dmr.all()"
   ]
  },
  {
   "cell_type": "code",
   "execution_count": 9,
   "metadata": {},
   "outputs": [],
   "source": [
    "dateFrom=date(2021,1,1)\n",
    "dateTo=date(2021,2,1)\n",
    "resId=3\n",
    "period=7"
   ]
  },
  {
   "cell_type": "code",
   "execution_count": 10,
   "metadata": {},
   "outputs": [
    {
     "data": {
      "text/plain": [
       "31"
      ]
     },
     "execution_count": 10,
     "metadata": {},
     "output_type": "execute_result"
    }
   ],
   "source": [
    "daysDelta=dateTo-dateFrom\n",
    "daysDelta.days"
   ]
  },
  {
   "cell_type": "code",
   "execution_count": 81,
   "metadata": {},
   "outputs": [],
   "source": [
    "shiftData=db.session.query(Shifts).filter(Shifts.shiftDate>=dateFrom,Shifts.shiftDate<=dateTo)"
   ]
  },
  {
   "cell_type": "code",
   "execution_count": 22,
   "metadata": {},
   "outputs": [
    {
     "data": {
      "text/plain": [
       "[Shift('1','','empId: 1','Nick','Tysons Biergarten'),\n",
       " Shift('2','','empId: 2','Shayan','Tysons Biergarten'),\n",
       " Shift('3','','empId: 3','apprentice1','Tysons Biergarten'),\n",
       " Shift('4','','empId: 3','apprentice1','Salamati Grill')]"
      ]
     },
     "execution_count": 22,
     "metadata": {},
     "output_type": "execute_result"
    }
   ],
   "source": [
    "shiftData.all()"
   ]
  },
  {
   "cell_type": "code",
   "execution_count": 72,
   "metadata": {
    "scrolled": true
   },
   "outputs": [],
   "source": [
    "shiftDf=pd.read_sql_table('shifts',db.engine)"
   ]
  },
  {
   "cell_type": "code",
   "execution_count": 30,
   "metadata": {},
   "outputs": [
    {
     "data": {
      "text/plain": [
       "'shifts'"
      ]
     },
     "execution_count": 30,
     "metadata": {},
     "output_type": "execute_result"
    }
   ],
   "source": [
    "tableNamesList= db.engine.table_names()\n",
    "tableNamesList[5]"
   ]
  },
  {
   "cell_type": "code",
   "execution_count": 27,
   "metadata": {},
   "outputs": [
    {
     "name": "stdout",
     "output_type": "stream",
     "text": [
      "<class 'dmrApp.models.Dmrs'>\n",
      "<sqlalchemy.ext.declarative.clsregistry._ModuleMarker object at 0x0000029D0FA27130>\n",
      "<class 'dmrApp.models.Shifts'>\n",
      "<class 'dmrApp.models.Restaurants'>\n",
      "<class 'dmrApp.models.Employees'>\n",
      "<class 'dmrApp.models.Employeeroles'>\n",
      "<class 'dmrApp.models.Standardwages'>\n",
      "<class 'dmrApp.models.User'>\n",
      "<class 'dmrApp.models.Post'>\n"
     ]
    }
   ],
   "source": [
    "for i in db.Model._decl_class_registry.values():\n",
    "    print(i)"
   ]
  },
  {
   "cell_type": "code",
   "execution_count": 36,
   "metadata": {},
   "outputs": [
    {
     "data": {
      "text/html": [
       "<div>\n",
       "<style scoped>\n",
       "    .dataframe tbody tr th:only-of-type {\n",
       "        vertical-align: middle;\n",
       "    }\n",
       "\n",
       "    .dataframe tbody tr th {\n",
       "        vertical-align: top;\n",
       "    }\n",
       "\n",
       "    .dataframe thead th {\n",
       "        text-align: right;\n",
       "    }\n",
       "</style>\n",
       "<table border=\"1\" class=\"dataframe\">\n",
       "  <thead>\n",
       "    <tr style=\"text-align: right;\">\n",
       "      <th></th>\n",
       "      <th>id</th>\n",
       "      <th>shiftDate</th>\n",
       "      <th>name</th>\n",
       "      <th>schedTime</th>\n",
       "      <th>timeStart</th>\n",
       "      <th>timeOff</th>\n",
       "      <th>hoursWorked</th>\n",
       "      <th>shiftTips</th>\n",
       "      <th>shiftTipsShipgarten</th>\n",
       "      <th>wages</th>\n",
       "      <th>shiftsTimeStamp</th>\n",
       "      <th>empId</th>\n",
       "      <th>employeeRolesId</th>\n",
       "      <th>userId</th>\n",
       "      <th>restaurantId</th>\n",
       "      <th>restaurantGroupId</th>\n",
       "    </tr>\n",
       "  </thead>\n",
       "  <tbody>\n",
       "    <tr>\n",
       "      <th>0</th>\n",
       "      <td>1</td>\n",
       "      <td>2021-01-09</td>\n",
       "      <td>Nick</td>\n",
       "      <td></td>\n",
       "      <td>2021-01-09 09:00:00</td>\n",
       "      <td>2021-01-09 10:00:00</td>\n",
       "      <td>1.0</td>\n",
       "      <td>1.000000</td>\n",
       "      <td>1.000000</td>\n",
       "      <td>2.13</td>\n",
       "      <td>2021-01-12 08:45:03.052594</td>\n",
       "      <td>1</td>\n",
       "      <td>1</td>\n",
       "      <td>1</td>\n",
       "      <td>3</td>\n",
       "      <td>2</td>\n",
       "    </tr>\n",
       "    <tr>\n",
       "      <th>1</th>\n",
       "      <td>2</td>\n",
       "      <td>2021-01-12</td>\n",
       "      <td>Shayan</td>\n",
       "      <td></td>\n",
       "      <td>2021-01-12 11:00:00</td>\n",
       "      <td>2021-01-12 14:00:00</td>\n",
       "      <td>3.0</td>\n",
       "      <td>0.333333</td>\n",
       "      <td>0.571429</td>\n",
       "      <td>6.39</td>\n",
       "      <td>2021-01-12 10:19:32.315499</td>\n",
       "      <td>2</td>\n",
       "      <td>3</td>\n",
       "      <td>1</td>\n",
       "      <td>3</td>\n",
       "      <td>2</td>\n",
       "    </tr>\n",
       "    <tr>\n",
       "      <th>2</th>\n",
       "      <td>3</td>\n",
       "      <td>2021-01-12</td>\n",
       "      <td>apprentice1</td>\n",
       "      <td></td>\n",
       "      <td>2021-01-12 11:00:00</td>\n",
       "      <td>2021-01-12 23:00:00</td>\n",
       "      <td>12.0</td>\n",
       "      <td>0.666667</td>\n",
       "      <td>1.142857</td>\n",
       "      <td>25.56</td>\n",
       "      <td>2021-01-12 10:29:04.400358</td>\n",
       "      <td>3</td>\n",
       "      <td>5</td>\n",
       "      <td>1</td>\n",
       "      <td>3</td>\n",
       "      <td>2</td>\n",
       "    </tr>\n",
       "    <tr>\n",
       "      <th>3</th>\n",
       "      <td>4</td>\n",
       "      <td>2021-01-12</td>\n",
       "      <td>apprentice1</td>\n",
       "      <td></td>\n",
       "      <td>2021-01-12 14:00:00</td>\n",
       "      <td>2021-01-12 17:00:00</td>\n",
       "      <td>3.0</td>\n",
       "      <td>1.000000</td>\n",
       "      <td>0.285714</td>\n",
       "      <td>6.39</td>\n",
       "      <td>2021-01-12 13:22:24.499063</td>\n",
       "      <td>3</td>\n",
       "      <td>5</td>\n",
       "      <td>1</td>\n",
       "      <td>6</td>\n",
       "      <td>2</td>\n",
       "    </tr>\n",
       "  </tbody>\n",
       "</table>\n",
       "</div>"
      ],
      "text/plain": [
       "   id  shiftDate         name schedTime           timeStart  \\\n",
       "0   1 2021-01-09         Nick           2021-01-09 09:00:00   \n",
       "1   2 2021-01-12       Shayan           2021-01-12 11:00:00   \n",
       "2   3 2021-01-12  apprentice1           2021-01-12 11:00:00   \n",
       "3   4 2021-01-12  apprentice1           2021-01-12 14:00:00   \n",
       "\n",
       "              timeOff  hoursWorked  shiftTips  shiftTipsShipgarten  wages  \\\n",
       "0 2021-01-09 10:00:00          1.0   1.000000             1.000000   2.13   \n",
       "1 2021-01-12 14:00:00          3.0   0.333333             0.571429   6.39   \n",
       "2 2021-01-12 23:00:00         12.0   0.666667             1.142857  25.56   \n",
       "3 2021-01-12 17:00:00          3.0   1.000000             0.285714   6.39   \n",
       "\n",
       "             shiftsTimeStamp  empId  employeeRolesId  userId  restaurantId  \\\n",
       "0 2021-01-12 08:45:03.052594      1                1       1             3   \n",
       "1 2021-01-12 10:19:32.315499      2                3       1             3   \n",
       "2 2021-01-12 10:29:04.400358      3                5       1             3   \n",
       "3 2021-01-12 13:22:24.499063      3                5       1             6   \n",
       "\n",
       "   restaurantGroupId  \n",
       "0                  2  \n",
       "1                  2  \n",
       "2                  2  \n",
       "3                  2  "
      ]
     },
     "execution_count": 36,
     "metadata": {},
     "output_type": "execute_result"
    }
   ],
   "source": [
    "shiftDf"
   ]
  },
  {
   "cell_type": "code",
   "execution_count": 40,
   "metadata": {},
   "outputs": [
    {
     "data": {
      "text/plain": [
       "'2021-01-01'"
      ]
     },
     "execution_count": 40,
     "metadata": {},
     "output_type": "execute_result"
    }
   ],
   "source": [
    "str(dateFrom)"
   ]
  },
  {
   "cell_type": "code",
   "execution_count": 43,
   "metadata": {},
   "outputs": [
    {
     "data": {
      "text/html": [
       "<div>\n",
       "<style scoped>\n",
       "    .dataframe tbody tr th:only-of-type {\n",
       "        vertical-align: middle;\n",
       "    }\n",
       "\n",
       "    .dataframe tbody tr th {\n",
       "        vertical-align: top;\n",
       "    }\n",
       "\n",
       "    .dataframe thead th {\n",
       "        text-align: right;\n",
       "    }\n",
       "</style>\n",
       "<table border=\"1\" class=\"dataframe\">\n",
       "  <thead>\n",
       "    <tr style=\"text-align: right;\">\n",
       "      <th></th>\n",
       "      <th>id</th>\n",
       "      <th>shiftDate</th>\n",
       "      <th>name</th>\n",
       "      <th>schedTime</th>\n",
       "      <th>timeStart</th>\n",
       "      <th>timeOff</th>\n",
       "      <th>hoursWorked</th>\n",
       "      <th>shiftTips</th>\n",
       "      <th>shiftTipsShipgarten</th>\n",
       "      <th>wages</th>\n",
       "      <th>shiftsTimeStamp</th>\n",
       "      <th>empId</th>\n",
       "      <th>employeeRolesId</th>\n",
       "      <th>userId</th>\n",
       "      <th>restaurantId</th>\n",
       "      <th>restaurantGroupId</th>\n",
       "    </tr>\n",
       "  </thead>\n",
       "  <tbody>\n",
       "    <tr>\n",
       "      <th>0</th>\n",
       "      <td>1</td>\n",
       "      <td>2021-01-09</td>\n",
       "      <td>Nick</td>\n",
       "      <td></td>\n",
       "      <td>2021-01-09 09:00:00</td>\n",
       "      <td>2021-01-09 10:00:00</td>\n",
       "      <td>1.0</td>\n",
       "      <td>1.000000</td>\n",
       "      <td>1.000000</td>\n",
       "      <td>2.13</td>\n",
       "      <td>2021-01-12 08:45:03.052594</td>\n",
       "      <td>1</td>\n",
       "      <td>1</td>\n",
       "      <td>1</td>\n",
       "      <td>3</td>\n",
       "      <td>2</td>\n",
       "    </tr>\n",
       "    <tr>\n",
       "      <th>1</th>\n",
       "      <td>2</td>\n",
       "      <td>2021-01-12</td>\n",
       "      <td>Shayan</td>\n",
       "      <td></td>\n",
       "      <td>2021-01-12 11:00:00</td>\n",
       "      <td>2021-01-12 14:00:00</td>\n",
       "      <td>3.0</td>\n",
       "      <td>0.333333</td>\n",
       "      <td>0.571429</td>\n",
       "      <td>6.39</td>\n",
       "      <td>2021-01-12 10:19:32.315499</td>\n",
       "      <td>2</td>\n",
       "      <td>3</td>\n",
       "      <td>1</td>\n",
       "      <td>3</td>\n",
       "      <td>2</td>\n",
       "    </tr>\n",
       "    <tr>\n",
       "      <th>2</th>\n",
       "      <td>3</td>\n",
       "      <td>2021-01-12</td>\n",
       "      <td>apprentice1</td>\n",
       "      <td></td>\n",
       "      <td>2021-01-12 11:00:00</td>\n",
       "      <td>2021-01-12 23:00:00</td>\n",
       "      <td>12.0</td>\n",
       "      <td>0.666667</td>\n",
       "      <td>1.142857</td>\n",
       "      <td>25.56</td>\n",
       "      <td>2021-01-12 10:29:04.400358</td>\n",
       "      <td>3</td>\n",
       "      <td>5</td>\n",
       "      <td>1</td>\n",
       "      <td>3</td>\n",
       "      <td>2</td>\n",
       "    </tr>\n",
       "    <tr>\n",
       "      <th>3</th>\n",
       "      <td>4</td>\n",
       "      <td>2021-01-12</td>\n",
       "      <td>apprentice1</td>\n",
       "      <td></td>\n",
       "      <td>2021-01-12 14:00:00</td>\n",
       "      <td>2021-01-12 17:00:00</td>\n",
       "      <td>3.0</td>\n",
       "      <td>1.000000</td>\n",
       "      <td>0.285714</td>\n",
       "      <td>6.39</td>\n",
       "      <td>2021-01-12 13:22:24.499063</td>\n",
       "      <td>3</td>\n",
       "      <td>5</td>\n",
       "      <td>1</td>\n",
       "      <td>6</td>\n",
       "      <td>2</td>\n",
       "    </tr>\n",
       "  </tbody>\n",
       "</table>\n",
       "</div>"
      ],
      "text/plain": [
       "   id  shiftDate         name schedTime           timeStart  \\\n",
       "0   1 2021-01-09         Nick           2021-01-09 09:00:00   \n",
       "1   2 2021-01-12       Shayan           2021-01-12 11:00:00   \n",
       "2   3 2021-01-12  apprentice1           2021-01-12 11:00:00   \n",
       "3   4 2021-01-12  apprentice1           2021-01-12 14:00:00   \n",
       "\n",
       "              timeOff  hoursWorked  shiftTips  shiftTipsShipgarten  wages  \\\n",
       "0 2021-01-09 10:00:00          1.0   1.000000             1.000000   2.13   \n",
       "1 2021-01-12 14:00:00          3.0   0.333333             0.571429   6.39   \n",
       "2 2021-01-12 23:00:00         12.0   0.666667             1.142857  25.56   \n",
       "3 2021-01-12 17:00:00          3.0   1.000000             0.285714   6.39   \n",
       "\n",
       "             shiftsTimeStamp  empId  employeeRolesId  userId  restaurantId  \\\n",
       "0 2021-01-12 08:45:03.052594      1                1       1             3   \n",
       "1 2021-01-12 10:19:32.315499      2                3       1             3   \n",
       "2 2021-01-12 10:29:04.400358      3                5       1             3   \n",
       "3 2021-01-12 13:22:24.499063      3                5       1             6   \n",
       "\n",
       "   restaurantGroupId  \n",
       "0                  2  \n",
       "1                  2  \n",
       "2                  2  \n",
       "3                  2  "
      ]
     },
     "execution_count": 43,
     "metadata": {},
     "output_type": "execute_result"
    }
   ],
   "source": [
    "#start by getting all shifts in the timeframe and restaurant\n",
    "shiftDf[(shiftDf['shiftDate']>str(dateFrom)) &(shiftDf['shiftDate']<str(dateTo))]"
   ]
  },
  {
   "cell_type": "code",
   "execution_count": 37,
   "metadata": {},
   "outputs": [
    {
     "data": {
      "text/html": [
       "<div>\n",
       "<style scoped>\n",
       "    .dataframe tbody tr th:only-of-type {\n",
       "        vertical-align: middle;\n",
       "    }\n",
       "\n",
       "    .dataframe tbody tr th {\n",
       "        vertical-align: top;\n",
       "    }\n",
       "\n",
       "    .dataframe thead th {\n",
       "        text-align: right;\n",
       "    }\n",
       "</style>\n",
       "<table border=\"1\" class=\"dataframe\">\n",
       "  <thead>\n",
       "    <tr style=\"text-align: right;\">\n",
       "      <th></th>\n",
       "      <th>id</th>\n",
       "      <th>hoursWorked</th>\n",
       "      <th>shiftTips</th>\n",
       "      <th>shiftTipsShipgarten</th>\n",
       "      <th>wages</th>\n",
       "      <th>employeeRolesId</th>\n",
       "      <th>userId</th>\n",
       "      <th>restaurantId</th>\n",
       "      <th>restaurantGroupId</th>\n",
       "    </tr>\n",
       "    <tr>\n",
       "      <th>empId</th>\n",
       "      <th></th>\n",
       "      <th></th>\n",
       "      <th></th>\n",
       "      <th></th>\n",
       "      <th></th>\n",
       "      <th></th>\n",
       "      <th></th>\n",
       "      <th></th>\n",
       "      <th></th>\n",
       "    </tr>\n",
       "  </thead>\n",
       "  <tbody>\n",
       "    <tr>\n",
       "      <th>1</th>\n",
       "      <td>1.0</td>\n",
       "      <td>1.0</td>\n",
       "      <td>1.000000</td>\n",
       "      <td>1.000000</td>\n",
       "      <td>2.130</td>\n",
       "      <td>1.0</td>\n",
       "      <td>1.0</td>\n",
       "      <td>3.0</td>\n",
       "      <td>2.0</td>\n",
       "    </tr>\n",
       "    <tr>\n",
       "      <th>2</th>\n",
       "      <td>2.0</td>\n",
       "      <td>3.0</td>\n",
       "      <td>0.333333</td>\n",
       "      <td>0.571429</td>\n",
       "      <td>6.390</td>\n",
       "      <td>3.0</td>\n",
       "      <td>1.0</td>\n",
       "      <td>3.0</td>\n",
       "      <td>2.0</td>\n",
       "    </tr>\n",
       "    <tr>\n",
       "      <th>3</th>\n",
       "      <td>3.5</td>\n",
       "      <td>7.5</td>\n",
       "      <td>0.833333</td>\n",
       "      <td>0.714286</td>\n",
       "      <td>15.975</td>\n",
       "      <td>5.0</td>\n",
       "      <td>1.0</td>\n",
       "      <td>4.5</td>\n",
       "      <td>2.0</td>\n",
       "    </tr>\n",
       "  </tbody>\n",
       "</table>\n",
       "</div>"
      ],
      "text/plain": [
       "        id  hoursWorked  shiftTips  shiftTipsShipgarten   wages  \\\n",
       "empId                                                             \n",
       "1      1.0          1.0   1.000000             1.000000   2.130   \n",
       "2      2.0          3.0   0.333333             0.571429   6.390   \n",
       "3      3.5          7.5   0.833333             0.714286  15.975   \n",
       "\n",
       "       employeeRolesId  userId  restaurantId  restaurantGroupId  \n",
       "empId                                                            \n",
       "1                  1.0     1.0           3.0                2.0  \n",
       "2                  3.0     1.0           3.0                2.0  \n",
       "3                  5.0     1.0           4.5                2.0  "
      ]
     },
     "execution_count": 37,
     "metadata": {},
     "output_type": "execute_result"
    }
   ],
   "source": [
    "shiftDf.groupby(['empId']).mean()"
   ]
  },
  {
   "cell_type": "code",
   "execution_count": 53,
   "metadata": {},
   "outputs": [
    {
     "data": {
      "text/plain": [
       "['Nick', 'Shayan', 'apprentice1']"
      ]
     },
     "execution_count": 53,
     "metadata": {},
     "output_type": "execute_result"
    }
   ],
   "source": [
    "#table of empId and names no index\n",
    "pd.unique(shiftDf['name']) #object array\n",
    "pd.unique(shiftDf['name']).tolist() #object list"
   ]
  },
  {
   "cell_type": "code",
   "execution_count": 62,
   "metadata": {},
   "outputs": [
    {
     "data": {
      "text/html": [
       "<div>\n",
       "<style scoped>\n",
       "    .dataframe tbody tr th:only-of-type {\n",
       "        vertical-align: middle;\n",
       "    }\n",
       "\n",
       "    .dataframe tbody tr th {\n",
       "        vertical-align: top;\n",
       "    }\n",
       "\n",
       "    .dataframe thead th {\n",
       "        text-align: right;\n",
       "    }\n",
       "</style>\n",
       "<table border=\"1\" class=\"dataframe\">\n",
       "  <thead>\n",
       "    <tr style=\"text-align: right;\">\n",
       "      <th></th>\n",
       "      <th>id</th>\n",
       "      <th>shiftDate</th>\n",
       "      <th>name</th>\n",
       "      <th>schedTime</th>\n",
       "      <th>timeStart</th>\n",
       "      <th>timeOff</th>\n",
       "      <th>hoursWorked</th>\n",
       "      <th>shiftTips</th>\n",
       "      <th>shiftTipsShipgarten</th>\n",
       "      <th>wages</th>\n",
       "      <th>shiftsTimeStamp</th>\n",
       "      <th>empId</th>\n",
       "      <th>employeeRolesId</th>\n",
       "      <th>userId</th>\n",
       "      <th>restaurantId</th>\n",
       "      <th>restaurantGroupId</th>\n",
       "    </tr>\n",
       "  </thead>\n",
       "  <tbody>\n",
       "    <tr>\n",
       "      <th>0</th>\n",
       "      <td>1</td>\n",
       "      <td>2021-01-09</td>\n",
       "      <td>Nick</td>\n",
       "      <td></td>\n",
       "      <td>2021-01-09 09:00:00</td>\n",
       "      <td>2021-01-09 10:00:00</td>\n",
       "      <td>1.0</td>\n",
       "      <td>1.000000</td>\n",
       "      <td>1.000000</td>\n",
       "      <td>2.13</td>\n",
       "      <td>2021-01-12 08:45:03.052594</td>\n",
       "      <td>1</td>\n",
       "      <td>1</td>\n",
       "      <td>1</td>\n",
       "      <td>3</td>\n",
       "      <td>2</td>\n",
       "    </tr>\n",
       "    <tr>\n",
       "      <th>1</th>\n",
       "      <td>2</td>\n",
       "      <td>2021-01-12</td>\n",
       "      <td>Shayan</td>\n",
       "      <td></td>\n",
       "      <td>2021-01-12 11:00:00</td>\n",
       "      <td>2021-01-12 14:00:00</td>\n",
       "      <td>3.0</td>\n",
       "      <td>0.333333</td>\n",
       "      <td>0.571429</td>\n",
       "      <td>6.39</td>\n",
       "      <td>2021-01-12 10:19:32.315499</td>\n",
       "      <td>2</td>\n",
       "      <td>3</td>\n",
       "      <td>1</td>\n",
       "      <td>3</td>\n",
       "      <td>2</td>\n",
       "    </tr>\n",
       "    <tr>\n",
       "      <th>2</th>\n",
       "      <td>3</td>\n",
       "      <td>2021-01-12</td>\n",
       "      <td>apprentice1</td>\n",
       "      <td></td>\n",
       "      <td>2021-01-12 11:00:00</td>\n",
       "      <td>2021-01-12 23:00:00</td>\n",
       "      <td>12.0</td>\n",
       "      <td>0.666667</td>\n",
       "      <td>1.142857</td>\n",
       "      <td>25.56</td>\n",
       "      <td>2021-01-12 10:29:04.400358</td>\n",
       "      <td>3</td>\n",
       "      <td>5</td>\n",
       "      <td>1</td>\n",
       "      <td>3</td>\n",
       "      <td>2</td>\n",
       "    </tr>\n",
       "    <tr>\n",
       "      <th>3</th>\n",
       "      <td>4</td>\n",
       "      <td>2021-01-12</td>\n",
       "      <td>apprentice1</td>\n",
       "      <td></td>\n",
       "      <td>2021-01-12 14:00:00</td>\n",
       "      <td>2021-01-12 17:00:00</td>\n",
       "      <td>3.0</td>\n",
       "      <td>1.000000</td>\n",
       "      <td>0.285714</td>\n",
       "      <td>6.39</td>\n",
       "      <td>2021-01-12 13:22:24.499063</td>\n",
       "      <td>3</td>\n",
       "      <td>5</td>\n",
       "      <td>1</td>\n",
       "      <td>6</td>\n",
       "      <td>2</td>\n",
       "    </tr>\n",
       "  </tbody>\n",
       "</table>\n",
       "</div>"
      ],
      "text/plain": [
       "   id  shiftDate         name schedTime           timeStart  \\\n",
       "0   1 2021-01-09         Nick           2021-01-09 09:00:00   \n",
       "1   2 2021-01-12       Shayan           2021-01-12 11:00:00   \n",
       "2   3 2021-01-12  apprentice1           2021-01-12 11:00:00   \n",
       "3   4 2021-01-12  apprentice1           2021-01-12 14:00:00   \n",
       "\n",
       "              timeOff  hoursWorked  shiftTips  shiftTipsShipgarten  wages  \\\n",
       "0 2021-01-09 10:00:00          1.0   1.000000             1.000000   2.13   \n",
       "1 2021-01-12 14:00:00          3.0   0.333333             0.571429   6.39   \n",
       "2 2021-01-12 23:00:00         12.0   0.666667             1.142857  25.56   \n",
       "3 2021-01-12 17:00:00          3.0   1.000000             0.285714   6.39   \n",
       "\n",
       "             shiftsTimeStamp  empId  employeeRolesId  userId  restaurantId  \\\n",
       "0 2021-01-12 08:45:03.052594      1                1       1             3   \n",
       "1 2021-01-12 10:19:32.315499      2                3       1             3   \n",
       "2 2021-01-12 10:29:04.400358      3                5       1             3   \n",
       "3 2021-01-12 13:22:24.499063      3                5       1             6   \n",
       "\n",
       "   restaurantGroupId  \n",
       "0                  2  \n",
       "1                  2  \n",
       "2                  2  \n",
       "3                  2  "
      ]
     },
     "execution_count": 62,
     "metadata": {},
     "output_type": "execute_result"
    }
   ],
   "source": [
    "shiftDf[shiftDf['name'].isin(pd.unique(shiftDf['name']).tolist())]"
   ]
  },
  {
   "cell_type": "code",
   "execution_count": null,
   "metadata": {},
   "outputs": [],
   "source": []
  },
  {
   "cell_type": "code",
   "execution_count": 68,
   "metadata": {},
   "outputs": [],
   "source": [
    "nameEmpIdDf=shiftDf[['name','empId']].copy()\n",
    "nameDfUnique=nameEmpIdDf.drop_duplicates()\n",
    "meanDf=shiftDf.groupby(['empId']).mean()"
   ]
  },
  {
   "cell_type": "code",
   "execution_count": null,
   "metadata": {},
   "outputs": [],
   "source": []
  },
  {
   "cell_type": "code",
   "execution_count": 67,
   "metadata": {},
   "outputs": [
    {
     "data": {
      "text/html": [
       "<div>\n",
       "<style scoped>\n",
       "    .dataframe tbody tr th:only-of-type {\n",
       "        vertical-align: middle;\n",
       "    }\n",
       "\n",
       "    .dataframe tbody tr th {\n",
       "        vertical-align: top;\n",
       "    }\n",
       "\n",
       "    .dataframe thead th {\n",
       "        text-align: right;\n",
       "    }\n",
       "</style>\n",
       "<table border=\"1\" class=\"dataframe\">\n",
       "  <thead>\n",
       "    <tr style=\"text-align: right;\">\n",
       "      <th></th>\n",
       "      <th>name</th>\n",
       "      <th>empId</th>\n",
       "    </tr>\n",
       "  </thead>\n",
       "  <tbody>\n",
       "    <tr>\n",
       "      <th>0</th>\n",
       "      <td>Nick</td>\n",
       "      <td>1</td>\n",
       "    </tr>\n",
       "    <tr>\n",
       "      <th>1</th>\n",
       "      <td>Shayan</td>\n",
       "      <td>2</td>\n",
       "    </tr>\n",
       "    <tr>\n",
       "      <th>2</th>\n",
       "      <td>apprentice1</td>\n",
       "      <td>3</td>\n",
       "    </tr>\n",
       "  </tbody>\n",
       "</table>\n",
       "</div>"
      ],
      "text/plain": [
       "          name  empId\n",
       "0         Nick      1\n",
       "1       Shayan      2\n",
       "2  apprentice1      3"
      ]
     },
     "execution_count": 67,
     "metadata": {},
     "output_type": "execute_result"
    }
   ],
   "source": [
    "nameDfUnique"
   ]
  },
  {
   "cell_type": "code",
   "execution_count": 48,
   "metadata": {},
   "outputs": [
    {
     "data": {
      "text/html": [
       "<div>\n",
       "<style scoped>\n",
       "    .dataframe tbody tr th:only-of-type {\n",
       "        vertical-align: middle;\n",
       "    }\n",
       "\n",
       "    .dataframe tbody tr th {\n",
       "        vertical-align: top;\n",
       "    }\n",
       "\n",
       "    .dataframe thead th {\n",
       "        text-align: right;\n",
       "    }\n",
       "</style>\n",
       "<table border=\"1\" class=\"dataframe\">\n",
       "  <thead>\n",
       "    <tr style=\"text-align: right;\">\n",
       "      <th></th>\n",
       "      <th>name</th>\n",
       "      <th>empId</th>\n",
       "    </tr>\n",
       "  </thead>\n",
       "  <tbody>\n",
       "    <tr>\n",
       "      <th>0</th>\n",
       "      <td>Nick</td>\n",
       "      <td>1</td>\n",
       "    </tr>\n",
       "    <tr>\n",
       "      <th>1</th>\n",
       "      <td>Shayan</td>\n",
       "      <td>2</td>\n",
       "    </tr>\n",
       "    <tr>\n",
       "      <th>2</th>\n",
       "      <td>apprentice1</td>\n",
       "      <td>3</td>\n",
       "    </tr>\n",
       "    <tr>\n",
       "      <th>3</th>\n",
       "      <td>apprentice1</td>\n",
       "      <td>3</td>\n",
       "    </tr>\n",
       "  </tbody>\n",
       "</table>\n",
       "</div>"
      ],
      "text/plain": [
       "          name  empId\n",
       "0         Nick      1\n",
       "1       Shayan      2\n",
       "2  apprentice1      3\n",
       "3  apprentice1      3"
      ]
     },
     "execution_count": 48,
     "metadata": {},
     "output_type": "execute_result"
    }
   ],
   "source": [
    "df.unqi"
   ]
  },
  {
   "cell_type": "code",
   "execution_count": 85,
   "metadata": {
    "collapsed": true
   },
   "outputs": [
    {
     "data": {
      "text/html": [
       "<div>\n",
       "<style scoped>\n",
       "    .dataframe tbody tr th:only-of-type {\n",
       "        vertical-align: middle;\n",
       "    }\n",
       "\n",
       "    .dataframe tbody tr th {\n",
       "        vertical-align: top;\n",
       "    }\n",
       "\n",
       "    .dataframe thead th {\n",
       "        text-align: right;\n",
       "    }\n",
       "</style>\n",
       "<table border=\"1\" class=\"dataframe\">\n",
       "  <thead>\n",
       "    <tr style=\"text-align: right;\">\n",
       "      <th></th>\n",
       "      <th>id</th>\n",
       "      <th>shiftDate</th>\n",
       "      <th>name</th>\n",
       "      <th>schedTime</th>\n",
       "      <th>timeStart</th>\n",
       "      <th>timeOff</th>\n",
       "      <th>hoursWorked</th>\n",
       "      <th>shiftTips</th>\n",
       "      <th>shiftTipsShipgarten</th>\n",
       "      <th>wages</th>\n",
       "      <th>shiftsTimeStamp</th>\n",
       "      <th>empId</th>\n",
       "      <th>employeeRolesId</th>\n",
       "      <th>userId</th>\n",
       "      <th>restaurantId</th>\n",
       "      <th>restaurantGroupId</th>\n",
       "    </tr>\n",
       "  </thead>\n",
       "  <tbody>\n",
       "    <tr>\n",
       "      <th>0</th>\n",
       "      <td>1</td>\n",
       "      <td>2021-01-09</td>\n",
       "      <td>Nick</td>\n",
       "      <td></td>\n",
       "      <td>2021-01-09 09:00:00</td>\n",
       "      <td>2021-01-09 10:00:00</td>\n",
       "      <td>1.0</td>\n",
       "      <td>1.000000</td>\n",
       "      <td>1.000000</td>\n",
       "      <td>2.130</td>\n",
       "      <td>2021-01-12 08:45:03.052594</td>\n",
       "      <td>1</td>\n",
       "      <td>1</td>\n",
       "      <td>1</td>\n",
       "      <td>3</td>\n",
       "      <td>2</td>\n",
       "    </tr>\n",
       "    <tr>\n",
       "      <th>1</th>\n",
       "      <td>2</td>\n",
       "      <td>2021-01-12</td>\n",
       "      <td>Shayan</td>\n",
       "      <td></td>\n",
       "      <td>2021-01-12 11:00:00</td>\n",
       "      <td>2021-01-12 14:00:00</td>\n",
       "      <td>3.0</td>\n",
       "      <td>0.333333</td>\n",
       "      <td>0.571429</td>\n",
       "      <td>6.390</td>\n",
       "      <td>2021-01-12 10:19:32.315499</td>\n",
       "      <td>2</td>\n",
       "      <td>3</td>\n",
       "      <td>1</td>\n",
       "      <td>3</td>\n",
       "      <td>2</td>\n",
       "    </tr>\n",
       "    <tr>\n",
       "      <th>2</th>\n",
       "      <td>3</td>\n",
       "      <td>2021-01-12</td>\n",
       "      <td>apprentice1</td>\n",
       "      <td></td>\n",
       "      <td>2021-01-12 11:00:00</td>\n",
       "      <td>2021-01-12 23:00:00</td>\n",
       "      <td>12.0</td>\n",
       "      <td>0.666667</td>\n",
       "      <td>1.142857</td>\n",
       "      <td>25.560</td>\n",
       "      <td>2021-01-12 10:29:04.400358</td>\n",
       "      <td>3</td>\n",
       "      <td>5</td>\n",
       "      <td>1</td>\n",
       "      <td>3</td>\n",
       "      <td>2</td>\n",
       "    </tr>\n",
       "    <tr>\n",
       "      <th>4</th>\n",
       "      <td>5</td>\n",
       "      <td>2021-01-14</td>\n",
       "      <td>apprentice1</td>\n",
       "      <td></td>\n",
       "      <td>2021-01-14 07:00:00</td>\n",
       "      <td>2021-01-14 10:30:00</td>\n",
       "      <td>3.5</td>\n",
       "      <td>1.000000</td>\n",
       "      <td>1.000000</td>\n",
       "      <td>7.455</td>\n",
       "      <td>2021-01-14 06:29:09.462287</td>\n",
       "      <td>3</td>\n",
       "      <td>5</td>\n",
       "      <td>1</td>\n",
       "      <td>3</td>\n",
       "      <td>2</td>\n",
       "    </tr>\n",
       "  </tbody>\n",
       "</table>\n",
       "</div>"
      ],
      "text/plain": [
       "   id  shiftDate         name schedTime           timeStart  \\\n",
       "0   1 2021-01-09         Nick           2021-01-09 09:00:00   \n",
       "1   2 2021-01-12       Shayan           2021-01-12 11:00:00   \n",
       "2   3 2021-01-12  apprentice1           2021-01-12 11:00:00   \n",
       "4   5 2021-01-14  apprentice1           2021-01-14 07:00:00   \n",
       "\n",
       "              timeOff  hoursWorked  shiftTips  shiftTipsShipgarten   wages  \\\n",
       "0 2021-01-09 10:00:00          1.0   1.000000             1.000000   2.130   \n",
       "1 2021-01-12 14:00:00          3.0   0.333333             0.571429   6.390   \n",
       "2 2021-01-12 23:00:00         12.0   0.666667             1.142857  25.560   \n",
       "4 2021-01-14 10:30:00          3.5   1.000000             1.000000   7.455   \n",
       "\n",
       "             shiftsTimeStamp  empId  employeeRolesId  userId  restaurantId  \\\n",
       "0 2021-01-12 08:45:03.052594      1                1       1             3   \n",
       "1 2021-01-12 10:19:32.315499      2                3       1             3   \n",
       "2 2021-01-12 10:29:04.400358      3                5       1             3   \n",
       "4 2021-01-14 06:29:09.462287      3                5       1             3   \n",
       "\n",
       "   restaurantGroupId  \n",
       "0                  2  \n",
       "1                  2  \n",
       "2                  2  \n",
       "4                  2  "
      ]
     },
     "execution_count": 85,
     "metadata": {},
     "output_type": "execute_result"
    }
   ],
   "source": [
    "#shifts in the timeframe and restaurant\n",
    "shiftDf[(shiftDf['shiftDate']>str(dateFrom)) & (shiftDf['shiftDate']<str(dateTo)) & (shiftDf['restaurantId']==resId)]"
   ]
  },
  {
   "cell_type": "code",
   "execution_count": 101,
   "metadata": {},
   "outputs": [],
   "source": [
    "#get unique name and empId combinations for Df\n",
    "nameEmpIdDf=shiftDf[['name','empId']].copy()\n",
    "nameDfUnique=nameEmpIdDf.drop_duplicates()\n",
    "#get mean\n",
    "meanDf=shiftDf.groupby(['empId']).mean()\n",
    "sumDf=shiftDf.groupby(['name','empId']).sum()"
   ]
  },
  {
   "cell_type": "code",
   "execution_count": 97,
   "metadata": {},
   "outputs": [],
   "source": [
    "#table to make: sum hours, hourly rate,\n",
    "\n",
    "#merge names and sum of hours\n",
    "hoursDf=pd.merge(nameDfUnique,sumDf[['hoursWorked','shiftTips','shiftTipsShipgarten','wages']], on=['empId'])"
   ]
  },
  {
   "cell_type": "code",
   "execution_count": 102,
   "metadata": {},
   "outputs": [
    {
     "data": {
      "text/html": [
       "<div>\n",
       "<style scoped>\n",
       "    .dataframe tbody tr th:only-of-type {\n",
       "        vertical-align: middle;\n",
       "    }\n",
       "\n",
       "    .dataframe tbody tr th {\n",
       "        vertical-align: top;\n",
       "    }\n",
       "\n",
       "    .dataframe thead th {\n",
       "        text-align: right;\n",
       "    }\n",
       "</style>\n",
       "<table border=\"1\" class=\"dataframe\">\n",
       "  <thead>\n",
       "    <tr style=\"text-align: right;\">\n",
       "      <th></th>\n",
       "      <th></th>\n",
       "      <th>hoursWorked</th>\n",
       "      <th>shiftTips</th>\n",
       "      <th>shiftTipsShipgarten</th>\n",
       "      <th>wages</th>\n",
       "    </tr>\n",
       "    <tr>\n",
       "      <th>name</th>\n",
       "      <th>empId</th>\n",
       "      <th></th>\n",
       "      <th></th>\n",
       "      <th></th>\n",
       "      <th></th>\n",
       "    </tr>\n",
       "  </thead>\n",
       "  <tbody>\n",
       "    <tr>\n",
       "      <th>Nick</th>\n",
       "      <th>1</th>\n",
       "      <td>1.0</td>\n",
       "      <td>1.000000</td>\n",
       "      <td>1.000000</td>\n",
       "      <td>2.130</td>\n",
       "    </tr>\n",
       "    <tr>\n",
       "      <th>Shayan</th>\n",
       "      <th>2</th>\n",
       "      <td>3.0</td>\n",
       "      <td>0.333333</td>\n",
       "      <td>0.571429</td>\n",
       "      <td>6.390</td>\n",
       "    </tr>\n",
       "    <tr>\n",
       "      <th>apprentice1</th>\n",
       "      <th>3</th>\n",
       "      <td>18.5</td>\n",
       "      <td>2.666667</td>\n",
       "      <td>2.428571</td>\n",
       "      <td>39.405</td>\n",
       "    </tr>\n",
       "  </tbody>\n",
       "</table>\n",
       "</div>"
      ],
      "text/plain": [
       "                   hoursWorked  shiftTips  shiftTipsShipgarten   wages\n",
       "name        empId                                                     \n",
       "Nick        1              1.0   1.000000             1.000000   2.130\n",
       "Shayan      2              3.0   0.333333             0.571429   6.390\n",
       "apprentice1 3             18.5   2.666667             2.428571  39.405"
      ]
     },
     "execution_count": 102,
     "metadata": {},
     "output_type": "execute_result"
    }
   ],
   "source": [
    "week1Df=sumDf[['hoursWorked','shiftTips','shiftTipsShipgarten','wages']]\n",
    "week1Df"
   ]
  },
  {
   "cell_type": "code",
   "execution_count": null,
   "metadata": {},
   "outputs": [],
   "source": []
  },
  {
   "cell_type": "code",
   "execution_count": null,
   "metadata": {},
   "outputs": [],
   "source": []
  },
  {
   "cell_type": "code",
   "execution_count": 237,
   "metadata": {},
   "outputs": [
    {
     "name": "stdout",
     "output_type": "stream",
     "text": [
      "2021-01-03 2021-01-10 2021-01-16 True\n"
     ]
    }
   ],
   "source": [
    "#make list of weeks in loop\n",
    "dateFrom=date(2021,1,3)\n",
    "dateTo=date(2021,1,16)\n",
    "\n",
    "weekStartDt=dateFrom\n",
    "weekEndDt=dateFrom + timedelta(days=7)\n",
    "print(weekStartDt, weekEndDt, dateTo, weekEndDt< dateTo)"
   ]
  },
  {
   "cell_type": "code",
   "execution_count": null,
   "metadata": {},
   "outputs": [],
   "source": []
  },
  {
   "cell_type": "code",
   "execution_count": null,
   "metadata": {},
   "outputs": [],
   "source": []
  },
  {
   "cell_type": "markdown",
   "metadata": {},
   "source": [
    "payroll report"
   ]
  },
  {
   "cell_type": "code",
   "execution_count": 179,
   "metadata": {},
   "outputs": [],
   "source": [
    "#start by getting table into pandas\n",
    "shiftDf=pd.read_sql_table('shifts',db.engine)\n",
    "employeerolesDf=pd.read_sql_table('employeeroles',db.engine)\n",
    "restaurantsDf=pd.read_sql_table('restaurants',db.engine)"
   ]
  },
  {
   "cell_type": "code",
   "execution_count": 264,
   "metadata": {},
   "outputs": [
    {
     "data": {
      "text/plain": [
       "{'week1': [datetime.date(2021, 1, 3), datetime.date(2021, 1, 9)],\n",
       " 'week2': [datetime.date(2021, 1, 10), datetime.date(2021, 1, 16)]}"
      ]
     },
     "execution_count": 264,
     "metadata": {},
     "output_type": "execute_result"
    }
   ],
   "source": [
    "resId=3\n",
    "# dateFrom=date(2020,12,27)\n",
    "# dateTo=date(2021,1,9)\n",
    "dateFrom=date(2021,1,3)\n",
    "dateTo=date(2021,1,16)\n",
    "weekStartDt=dateFrom\n",
    "weekEndDt=dateFrom + timedelta(days=6)\n",
    "weeksDict={}\n",
    "i=1\n",
    "while weekEndDt< dateTo:\n",
    "    weeksDict[f'week{i}']=[weekStartDt,weekEndDt]\n",
    "    weekStartDt=weekEndDt + timedelta(days=1)\n",
    "    weekEndDt = weekEndDt + timedelta(days=7)\n",
    "    i+=1\n",
    "# final week calculation\n",
    "weeksDict[f'week{i}']=[weeksDict[f'week{i-1}'][0] + timedelta(days=7),weeksDict[f'week{i-1}'][1] + timedelta(days=7)]\n",
    "weeksDict"
   ]
  },
  {
   "cell_type": "code",
   "execution_count": 265,
   "metadata": {},
   "outputs": [],
   "source": [
    "dfList=[]\n",
    "i=1\n",
    "for x,y in weeksDict.items():\n",
    "    df=shiftDf[(shiftDf['shiftDate']>=str(y[0])) & (shiftDf['shiftDate']<=str(y[1])) & (shiftDf['restaurantId']==resId)]\n",
    "    if len(df)>0:\n",
    "        df=df.groupby(['name','empId','employeeRolesId','restaurantId']).sum()\n",
    "        df=df[['hoursWorked','shiftTips','shiftTipsShipgarten','wages']].copy()\n",
    "        df.columns=[f'Week{i} Hrs', f'Week{i} OtherRes Tips', f'Week{i} Shipgarten Tips', f'Week{i} Wages']\n",
    "        dfList.append(df)\n",
    "    i+=1\n",
    "\n"
   ]
  },
  {
   "cell_type": "code",
   "execution_count": 267,
   "metadata": {},
   "outputs": [],
   "source": [
    "#get hourly rate from employee roles\n",
    "rolesDf=employeerolesDf[['id','role','wage']].copy()\n",
    "rolesDf.columns=['roleId','Role','Wage']\n",
    "df2.reset_index(inplace=True)\n",
    "df2.set_index('employeeRolesId')\n",
    "df3=pd.merge(df2,rolesDf,how='left',left_on='employeeRolesId',right_on='roleId')\n"
   ]
  },
  {
   "cell_type": "code",
   "execution_count": 268,
   "metadata": {},
   "outputs": [],
   "source": [
    "#Make columns\n",
    "df3['Total Hours']=df3['Week1 Hrs']+df3['Week1 Hrs']\n",
    "df3['Wage x Total Hours']=df3['Wage']*df3['Total Hours']\n",
    "df3['Week1 Tips']=np.where((df3['restaurantId'] >=3) & (df3['restaurantId']<=6),df3['Week1 Shipgarten Tips'],df3['Week1 OtherRes Tips'])\n",
    "df3['Week2 Tips']=np.where((df3['restaurantId'] >=3) & (df3['restaurantId']<=6),df3['Week2 Shipgarten Tips'],df3['Week2 OtherRes Tips'])\n",
    "df3['Total Tips']=df3['Week1 Tips']+df3['Week2 Tips']"
   ]
  },
  {
   "cell_type": "code",
   "execution_count": 198,
   "metadata": {},
   "outputs": [],
   "source": [
    "restaurantsDf.columns=['restaurantId','Restaurant Name']\n",
    "df4=pd.merge(df3,restaurantsDf,how='left',left_on='restaurantId',right_on='restaurantId')"
   ]
  },
  {
   "cell_type": "code",
   "execution_count": 221,
   "metadata": {},
   "outputs": [],
   "source": [
    "payrollReport=df4[['name','Restaurant Name','Role','Week1 Hrs','Week2 Hrs','Total Hours','Wage','Wage x Total Hours','Week1 Tips','Week2 Tips','Total Tips']].copy()\n",
    "payrollReport.rename(columns={'name':'Name'},inplace=True)"
   ]
  },
  {
   "cell_type": "code",
   "execution_count": 238,
   "metadata": {},
   "outputs": [],
   "source": [
    "reportName=f\"Payroll Report {weeksDict['week1'][0].strftime('%m.%d')}-{weeksDict['week2'][1].strftime('%m.%d.%y')}.xlsx\"\n",
    "excelObj=pd.ExcelWriter(reportName)\n",
    "payrollReport.to_excel(excelObj,sheet_name='payroll', startrow=1,header=False, index=False)\n",
    "workbook=excelObj.book\n",
    "worksheet=excelObj.sheets['payroll']\n",
    "header_format = workbook.add_format({\n",
    "    'bold': True,\n",
    "    'text_wrap': True,\n",
    "    'valign': 'top',\n",
    "    'border': 0})\n",
    "\n",
    "for col_num, value in enumerate(payrollReport.columns.values):\n",
    "    worksheet.write(0, col_num, value,header_format)\n",
    "    width=len(value) if len(value)>8 else 8\n",
    "    worksheet.set_column(col_num,col_num,width)\n",
    "\n",
    "formatDecimals = workbook.add_format({'num_format': '#,##0.00'})\n",
    "worksheet.set_column('D:K', None, formatDecimals)\n",
    "excelObj.close()"
   ]
  },
  {
   "cell_type": "code",
   "execution_count": null,
   "metadata": {},
   "outputs": [],
   "source": []
  },
  {
   "cell_type": "code",
   "execution_count": 243,
   "metadata": {},
   "outputs": [
    {
     "data": {
      "text/plain": [
       "str"
      ]
     },
     "execution_count": 243,
     "metadata": {},
     "output_type": "execute_result"
    }
   ],
   "source": [
    "dateString='2020-12-27'\n",
    "type(dateString)"
   ]
  },
  {
   "cell_type": "code",
   "execution_count": 247,
   "metadata": {},
   "outputs": [
    {
     "data": {
      "text/plain": [
       "datetime.date(2020, 12, 27)"
      ]
     },
     "execution_count": 247,
     "metadata": {},
     "output_type": "execute_result"
    }
   ],
   "source": [
    "import datetime\n",
    "datetime.datetime.strptime(dateString,'%Y-%m-%d').date()"
   ]
  },
  {
   "cell_type": "code",
   "execution_count": null,
   "metadata": {},
   "outputs": [],
   "source": []
  }
 ],
 "metadata": {
  "kernelspec": {
   "display_name": "Python 3",
   "language": "python",
   "name": "python3"
  },
  "language_info": {
   "codemirror_mode": {
    "name": "ipython",
    "version": 3
   },
   "file_extension": ".py",
   "mimetype": "text/x-python",
   "name": "python",
   "nbconvert_exporter": "python",
   "pygments_lexer": "ipython3",
   "version": "3.8.5"
  }
 },
 "nbformat": 4,
 "nbformat_minor": 4
}
