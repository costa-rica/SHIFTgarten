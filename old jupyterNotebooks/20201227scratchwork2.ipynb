{
 "cells": [
  {
   "cell_type": "code",
   "execution_count": 2,
   "metadata": {},
   "outputs": [
    {
     "name": "stderr",
     "output_type": "stream",
     "text": [
      "C:\\tools\\miniconda3\\envs\\dmrAppConda\\lib\\site-packages\\flask_sqlalchemy\\__init__.py:833: FSADeprecationWarning: SQLALCHEMY_TRACK_MODIFICATIONS adds significant overhead and will be disabled by default in the future.  Set it to True or False to suppress this warning.\n",
      "  warnings.warn(FSADeprecationWarning(\n"
     ]
    }
   ],
   "source": [
    "from dmrApp import create_app, db\n",
    "from dmrApp.models import Dmrs, Employees, Employeeroles, Post, Restaurants, Shifts, \\\n",
    "    User, Standardwages\n",
    "from sqlalchemy import func\n",
    "proxyApp=create_app()\n",
    "ctx=proxyApp.app_context()\n",
    "ctx.push()"
   ]
  },
  {
   "cell_type": "code",
   "execution_count": 102,
   "metadata": {},
   "outputs": [],
   "source": [
    "#before ending\n",
    "ctx.pop()"
   ]
  },
  {
   "cell_type": "code",
   "execution_count": 7,
   "metadata": {},
   "outputs": [],
   "source": [
    "# not sure i need the line below\n",
    "# proxyApp.config['SQLALCHEMY_DATABASE_URI']=r'sqlite:///D:\\databases\\dmrApp.db'\n",
    "db.create_all()"
   ]
  },
  {
   "cell_type": "code",
   "execution_count": null,
   "metadata": {},
   "outputs": [],
   "source": []
  },
  {
   "cell_type": "code",
   "execution_count": null,
   "metadata": {},
   "outputs": [],
   "source": []
  },
  {
   "cell_type": "code",
   "execution_count": 35,
   "metadata": {},
   "outputs": [],
   "source": [
    "employees = Employees.query.with_entities(Employees.id, Employees.name).all()"
   ]
  },
  {
   "cell_type": "code",
   "execution_count": 36,
   "metadata": {},
   "outputs": [
    {
     "data": {
      "text/plain": [
       "[(2, 'Nick'), (3, 'Shayan'), (4, 'Jose'), (5, 'CJ')]"
      ]
     },
     "execution_count": 36,
     "metadata": {},
     "output_type": "execute_result"
    }
   ],
   "source": [
    "employees"
   ]
  },
  {
   "cell_type": "code",
   "execution_count": null,
   "metadata": {},
   "outputs": [],
   "source": []
  },
  {
   "cell_type": "code",
   "execution_count": 30,
   "metadata": {},
   "outputs": [],
   "source": [
    "import numpy as np"
   ]
  },
  {
   "cell_type": "code",
   "execution_count": 95,
   "metadata": {},
   "outputs": [],
   "source": [
    "roleList=[]\n",
    "resIdList=[]\n",
    "for i in employees:\n",
    "    empRolesList=db.session.query(Employeeroles).filter(Employeeroles.empId==i[0]).with_entities(Employeeroles.role).all()\n",
    "    empRolesList = [j[0] for j in empRolesList]\n",
    "    empResIdList =list(np.unique(db.session.query(Employeeroles).filter(\n",
    "        Employeeroles.empId==i[0]).with_entities(Employeeroles.restaurantId).all()))\n",
    "    \n",
    "    roleList.append(empRolesList)\n",
    "    resIdList.append(empResIdList)\n",
    "\n",
    "resList=[]\n",
    "for k in resIdList:\n",
    "    empResList=[db.session.query(Restaurants).filter(Restaurants.id==int(l)).with_entities(\n",
    "        Restaurants.name).first()[0] for l in k]\n",
    "    resList.append(empResList)"
   ]
  },
  {
   "cell_type": "code",
   "execution_count": 100,
   "metadata": {},
   "outputs": [],
   "source": [
    "empTableList=[]\n",
    "for a,b,c in zip(employees, resList, roleList):\n",
    "    empTableList.append([a[0],a[1],b[0],c])"
   ]
  },
  {
   "cell_type": "code",
   "execution_count": 89,
   "metadata": {},
   "outputs": [
    {
     "data": {
      "text/plain": [
       "[['Tysons Biergarten'],\n",
       " ['Tysons Biergarten'],\n",
       " ['Tysons Biergarten'],\n",
       " ['Hops N Shine']]"
      ]
     },
     "execution_count": 89,
     "metadata": {},
     "output_type": "execute_result"
    }
   ],
   "source": [
    "resList"
   ]
  },
  {
   "cell_type": "code",
   "execution_count": 90,
   "metadata": {},
   "outputs": [
    {
     "data": {
      "text/plain": [
       "[['bartender', 'security', 'driver', 'kitchen'],\n",
       " ['bartender', 'security', 'driver', 'kitchen'],\n",
       " ['kitchen'],\n",
       " ['bartender', 'kitchen']]"
      ]
     },
     "execution_count": 90,
     "metadata": {},
     "output_type": "execute_result"
    }
   ],
   "source": [
    "roleList"
   ]
  },
  {
   "cell_type": "code",
   "execution_count": 91,
   "metadata": {},
   "outputs": [],
   "source": [
    "employees = Employees.query.with_entities(Employees.id, Employees.name).all()"
   ]
  },
  {
   "cell_type": "code",
   "execution_count": 92,
   "metadata": {},
   "outputs": [
    {
     "data": {
      "text/plain": [
       "[(2, 'Nick'), (3, 'Shayan'), (4, 'Jose'), (5, 'CJ')]"
      ]
     },
     "execution_count": 92,
     "metadata": {},
     "output_type": "execute_result"
    }
   ],
   "source": [
    "employees"
   ]
  },
  {
   "cell_type": "code",
   "execution_count": 101,
   "metadata": {},
   "outputs": [
    {
     "data": {
      "text/plain": [
       "[[2,\n",
       "  'Nick',\n",
       "  'Tysons Biergarten',\n",
       "  ['bartender', 'security', 'driver', 'kitchen']],\n",
       " [3,\n",
       "  'Shayan',\n",
       "  'Tysons Biergarten',\n",
       "  ['bartender', 'security', 'driver', 'kitchen']],\n",
       " [4, 'Jose', 'Tysons Biergarten', ['kitchen']],\n",
       " [5, 'CJ', 'Hops N Shine', ['bartender', 'kitchen']]]"
      ]
     },
     "execution_count": 101,
     "metadata": {},
     "output_type": "execute_result"
    }
   ],
   "source": [
    "newList"
   ]
  },
  {
   "cell_type": "code",
   "execution_count": null,
   "metadata": {},
   "outputs": [],
   "source": []
  },
  {
   "cell_type": "code",
   "execution_count": 86,
   "metadata": {},
   "outputs": [],
   "source": [
    "resList=[]\n",
    "for k in resIdList:\n",
    "#     for l in k:\n",
    "#         print(type(l))\n",
    "    empResList=[db.session.query(Restaurants).filter(Restaurants.id==int(l)).with_entities(\n",
    "        Restaurants.name).first()[0] for l in k]\n",
    "    resList.append(empResList)"
   ]
  },
  {
   "cell_type": "code",
   "execution_count": 25,
   "metadata": {},
   "outputs": [],
   "source": [
    "empResList=db.session.query(Employeeroles).filter(Employeeroles.empId==2).with_entities(Employeeroles.restaurantId).all()\n",
    "empResList=[x[0] for x in empResList]"
   ]
  },
  {
   "cell_type": "code",
   "execution_count": 31,
   "metadata": {},
   "outputs": [],
   "source": [
    "empResListUnique=[]\n",
    "for y in empResList:\n",
    "    res=db.session.query(Restaurants).filter(Restaurants.id==y).with_entities(Restaurants.name).first()\n",
    "    empResListUnique.append(res)\n",
    "    \n",
    "empResListUnique=np.unique(empResListUnique)"
   ]
  },
  {
   "cell_type": "code",
   "execution_count": null,
   "metadata": {},
   "outputs": [],
   "source": []
  },
  {
   "cell_type": "code",
   "execution_count": 34,
   "metadata": {},
   "outputs": [
    {
     "data": {
      "text/plain": [
       "['Tysons Biergarten']"
      ]
     },
     "execution_count": 34,
     "metadata": {},
     "output_type": "execute_result"
    }
   ],
   "source": [
    "list(empResListUnique)"
   ]
  },
  {
   "cell_type": "code",
   "execution_count": 9,
   "metadata": {},
   "outputs": [
    {
     "data": {
      "text/plain": [
       "[(3), (3), (3)]"
      ]
     },
     "execution_count": 9,
     "metadata": {},
     "output_type": "execute_result"
    }
   ],
   "source": [
    "empResList =db.session.query(Employeeroles).filter(\n",
    "    Employeeroles.empId==3).with_entities(Employeeroles.restaurantId).all()\n",
    "\n",
    "empResList"
   ]
  },
  {
   "cell_type": "code",
   "execution_count": null,
   "metadata": {},
   "outputs": [],
   "source": []
  },
  {
   "cell_type": "code",
   "execution_count": null,
   "metadata": {},
   "outputs": [],
   "source": []
  },
  {
   "cell_type": "code",
   "execution_count": null,
   "metadata": {},
   "outputs": [],
   "source": []
  },
  {
   "cell_type": "code",
   "execution_count": 16,
   "metadata": {},
   "outputs": [
    {
     "data": {
      "text/plain": [
       "[['kitchen'], [], ['bartender', 'driver', 'kitchen']]"
      ]
     },
     "execution_count": 16,
     "metadata": {},
     "output_type": "execute_result"
    }
   ],
   "source": [
    "roleList"
   ]
  },
  {
   "cell_type": "code",
   "execution_count": null,
   "metadata": {},
   "outputs": [],
   "source": []
  },
  {
   "cell_type": "code",
   "execution_count": 12,
   "metadata": {},
   "outputs": [
    {
     "data": {
      "text/plain": [
       "[('kitchen')]"
      ]
     },
     "execution_count": 12,
     "metadata": {},
     "output_type": "execute_result"
    }
   ],
   "source": [
    "db.session.query(Employeeroles).filter(Employeeroles.empId==1).with_entities(Employeeroles.role).all()"
   ]
  },
  {
   "cell_type": "code",
   "execution_count": null,
   "metadata": {},
   "outputs": [],
   "source": []
  },
  {
   "cell_type": "code",
   "execution_count": null,
   "metadata": {},
   "outputs": [],
   "source": []
  }
 ],
 "metadata": {
  "kernelspec": {
   "display_name": "Python 3",
   "language": "python",
   "name": "python3"
  },
  "language_info": {
   "codemirror_mode": {
    "name": "ipython",
    "version": 3
   },
   "file_extension": ".py",
   "mimetype": "text/x-python",
   "name": "python",
   "nbconvert_exporter": "python",
   "pygments_lexer": "ipython3",
   "version": "3.8.5"
  }
 },
 "nbformat": 4,
 "nbformat_minor": 4
}
