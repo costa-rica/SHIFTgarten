{
 "cells": [
  {
   "cell_type": "code",
   "execution_count": 2,
   "metadata": {},
   "outputs": [],
   "source": [
    "from dmrApp import db\n",
    "from dmrApp.models import Restaurants, Employees, Dmrs, Employeetypes, User, Shifts\n",
    "from datetime import date\n",
    "from sqlalchemy import func, desc"
   ]
  },
  {
   "cell_type": "code",
   "execution_count": 3,
   "metadata": {},
   "outputs": [],
   "source": [
    "dateFrom=date(2020,12,21)\n",
    "dateTo=date(2020,12,22)"
   ]
  },
  {
   "cell_type": "code",
   "execution_count": 19,
   "metadata": {},
   "outputs": [],
   "source": [
    "dmrDataReport= db.session.query(Dmrs, func.max(Dmrs.id)).filter(Dmrs.dmrDate>=dateFrom, Dmrs.dmrDate<=dateTo).group_by(Dmrs.restaurantId, Dmrs.dmrDate).all()\n",
    "dmrDateList = [i[0].dmrDate for i in dmrDataReport]\n",
    "restaurantList = [i[0].restaurant.name for i in dmrDataReport]\n",
    "startCashList = [i[0].startCash for i in dmrDataReport]\n",
    "payoutList = [i[0].payout for i in dmrDataReport]\n",
    "salesList = [i[0].sales for i in dmrDataReport]\n",
    "\n",
    "\n"
   ]
  },
  {
   "cell_type": "code",
   "execution_count": 15,
   "metadata": {},
   "outputs": [],
   "source": [
    "import pandas as pd"
   ]
  },
  {
   "cell_type": "code",
   "execution_count": 20,
   "metadata": {},
   "outputs": [
    {
     "data": {
      "text/html": [
       "<div>\n",
       "<style scoped>\n",
       "    .dataframe tbody tr th:only-of-type {\n",
       "        vertical-align: middle;\n",
       "    }\n",
       "\n",
       "    .dataframe tbody tr th {\n",
       "        vertical-align: top;\n",
       "    }\n",
       "\n",
       "    .dataframe thead th {\n",
       "        text-align: right;\n",
       "    }\n",
       "</style>\n",
       "<table border=\"1\" class=\"dataframe\">\n",
       "  <thead>\n",
       "    <tr style=\"text-align: right;\">\n",
       "      <th></th>\n",
       "      <th>date</th>\n",
       "      <th>restaurant</th>\n",
       "      <th>startCash</th>\n",
       "      <th>payout</th>\n",
       "      <th>sales</th>\n",
       "    </tr>\n",
       "  </thead>\n",
       "  <tbody>\n",
       "    <tr>\n",
       "      <th>0</th>\n",
       "      <td>2020-12-21</td>\n",
       "      <td>Roll Bar</td>\n",
       "      <td>1.0</td>\n",
       "      <td>NaN</td>\n",
       "      <td>1.0</td>\n",
       "    </tr>\n",
       "    <tr>\n",
       "      <th>1</th>\n",
       "      <td>2020-12-21</td>\n",
       "      <td>Chalkboard</td>\n",
       "      <td>NaN</td>\n",
       "      <td>1.0</td>\n",
       "      <td>NaN</td>\n",
       "    </tr>\n",
       "  </tbody>\n",
       "</table>\n",
       "</div>"
      ],
      "text/plain": [
       "         date  restaurant  startCash  payout  sales\n",
       "0  2020-12-21    Roll Bar        1.0     NaN    1.0\n",
       "1  2020-12-21  Chalkboard        NaN     1.0    NaN"
      ]
     },
     "execution_count": 20,
     "metadata": {},
     "output_type": "execute_result"
    }
   ],
   "source": [
    "dfDmrs = pd.DataFrame(list(zip(dmrDateList,restaurantList, startCashList,payoutList,salesList)),\n",
    "                     columns=['date','restaurant','startCash','payout','sales'])\n",
    "\n",
    "dfDmrs"
   ]
  },
  {
   "cell_type": "code",
   "execution_count": null,
   "metadata": {},
   "outputs": [],
   "source": []
  },
  {
   "cell_type": "code",
   "execution_count": null,
   "metadata": {},
   "outputs": [],
   "source": []
  },
  {
   "cell_type": "code",
   "execution_count": 8,
   "metadata": {},
   "outputs": [
    {
     "data": {
      "text/plain": [
       "[1.0]"
      ]
     },
     "execution_count": 8,
     "metadata": {},
     "output_type": "execute_result"
    }
   ],
   "source": [
    "startCashList"
   ]
  },
  {
   "cell_type": "code",
   "execution_count": null,
   "metadata": {},
   "outputs": [],
   "source": []
  },
  {
   "cell_type": "code",
   "execution_count": null,
   "metadata": {},
   "outputs": [],
   "source": []
  },
  {
   "cell_type": "code",
   "execution_count": 10,
   "metadata": {},
   "outputs": [],
   "source": [
    "def shiftDataLists(shiftData):\n",
    "    shiftNamesList = []\n",
    "    for i in shiftData.all():\n",
    "        shiftNamesList.append(i.employee.name)\n",
    "    shiftRolesList = []\n",
    "    for i in shiftData.all():\n",
    "        shiftRolesList.append(\n",
    "            Employeetypes.query.filter_by(id=i.employeeTypesId).with_entities(Employeetypes.role).first()[0])\n",
    "\n",
    "    shiftSchedTime = shiftData.with_entities(Shifts.schedTime).all()\n",
    "    shiftSchedTimeList = [i[0] for i in shiftSchedTime]\n",
    "    shiftTimeStart = shiftData.with_entities(Shifts.timeStart).all()\n",
    "    shiftTimeStartList = [i[0].strftime(\"%I:%M %p\") for i in shiftTimeStart]\n",
    "    shiftTimeOff = shiftData.with_entities(Shifts.timeOff).all()\n",
    "    shiftTimeOffList = [i[0].strftime(\"%I:%M %p\") for i in shiftTimeOff]\n",
    "    shiftHoursWorked = shiftData.with_entities(Shifts.hoursWorked).all()\n",
    "    shiftHoursWorkedList = [\"{:.1f}\".format(i[0]) for i in shiftHoursWorked]\n",
    "    shiftTips = shiftData.with_entities(Shifts.shiftTipsShipgarten).all()\n",
    "    shiftTipList = [\"{:.2f}\".format(i[0]) for i in shiftTips]\n",
    "    shiftCount = len(shiftData.all())\n",
    "    shiftRestaurants = shiftData.all()\n",
    "    shiftRestaurantList = [i.restaurant.name for i in shiftRestaurants]\n",
    "\n",
    "    return (shiftRolesList,shiftRestaurantList,shiftNamesList,shiftSchedTimeList,\n",
    "            shiftTimeStartList,shiftTimeOffList,shiftHoursWorkedList,\n",
    "            shiftTipList)"
   ]
  },
  {
   "cell_type": "code",
   "execution_count": 11,
   "metadata": {},
   "outputs": [],
   "source": [
    "shiftData = Shifts.query.filter(Shifts.shiftDate>=dateFrom,\n",
    "                                Shifts.shiftDate<=dateTo)\n",
    "shiftReportColumns = list(shiftDataLists(shiftData))"
   ]
  },
  {
   "cell_type": "code",
   "execution_count": 12,
   "metadata": {},
   "outputs": [
    {
     "data": {
      "text/plain": [
       "[[], [], [], [], [], [], [], []]"
      ]
     },
     "execution_count": 12,
     "metadata": {},
     "output_type": "execute_result"
    }
   ],
   "source": [
    "shiftReportColumns"
   ]
  },
  {
   "cell_type": "code",
   "execution_count": null,
   "metadata": {},
   "outputs": [],
   "source": []
  }
 ],
 "metadata": {
  "kernelspec": {
   "display_name": "Python 3",
   "language": "python",
   "name": "python3"
  },
  "language_info": {
   "codemirror_mode": {
    "name": "ipython",
    "version": 3
   },
   "file_extension": ".py",
   "mimetype": "text/x-python",
   "name": "python",
   "nbconvert_exporter": "python",
   "pygments_lexer": "ipython3",
   "version": "3.8.5"
  }
 },
 "nbformat": 4,
 "nbformat_minor": 4
}
