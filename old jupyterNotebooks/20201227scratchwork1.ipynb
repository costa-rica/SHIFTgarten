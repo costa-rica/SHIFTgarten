{
 "cells": [
  {
   "cell_type": "code",
   "execution_count": 39,
   "metadata": {},
   "outputs": [
    {
     "name": "stderr",
     "output_type": "stream",
     "text": [
      "C:\\tools\\miniconda3\\envs\\dmrAppConda\\lib\\site-packages\\flask_sqlalchemy\\__init__.py:833: FSADeprecationWarning: SQLALCHEMY_TRACK_MODIFICATIONS adds significant overhead and will be disabled by default in the future.  Set it to True or False to suppress this warning.\n",
      "  warnings.warn(FSADeprecationWarning(\n"
     ]
    }
   ],
   "source": [
    "from dmrApp import create_app, db\n",
    "from dmrApp.models import Dmrs, Employees, Employeeroles, Post, Restaurants, Shifts, \\\n",
    "    User, Standardwages\n",
    "from sqlalchemy import func\n",
    "proxyApp=create_app()\n",
    "ctx=proxyApp.app_context()\n",
    "ctx.push()"
   ]
  },
  {
   "cell_type": "code",
   "execution_count": 32,
   "metadata": {},
   "outputs": [],
   "source": [
    "#before ending\n",
    "ctx.pop()"
   ]
  },
  {
   "cell_type": "code",
   "execution_count": 7,
   "metadata": {},
   "outputs": [
    {
     "name": "stdout",
     "output_type": "stream",
     "text": [
      "(1,)\n"
     ]
    }
   ],
   "source": [
    "empId=db.session.query(Employees,func.max(Employees.id)).with_entities(Employees.id).all()[0]\n",
    "print(empId)"
   ]
  },
  {
   "cell_type": "code",
   "execution_count": 13,
   "metadata": {},
   "outputs": [
    {
     "data": {
      "text/plain": [
       "12"
      ]
     },
     "execution_count": 13,
     "metadata": {},
     "output_type": "execute_result"
    }
   ],
   "source": [
    "db.session.query(func.max(Employees.id)).first()[0]"
   ]
  },
  {
   "cell_type": "code",
   "execution_count": null,
   "metadata": {},
   "outputs": [],
   "source": []
  },
  {
   "cell_type": "code",
   "execution_count": 3,
   "metadata": {},
   "outputs": [
    {
     "name": "stdout",
     "output_type": "stream",
     "text": [
      "[(1,), (2,), (4,), (5,), (6,), (7,), (8,), (9,), (10,), (11,), (12,)]\n"
     ]
    }
   ],
   "source": [
    "empId=db.session.query(Employees).with_entities(Employees.id).all()\n",
    "print(empId)"
   ]
  },
  {
   "cell_type": "code",
   "execution_count": 18,
   "metadata": {},
   "outputs": [],
   "source": [
    "import json"
   ]
  },
  {
   "cell_type": "code",
   "execution_count": 19,
   "metadata": {},
   "outputs": [],
   "source": [
    "with open('formDict.txt','r') as f:\n",
    "    formDict2 = json.load(f)"
   ]
  },
  {
   "cell_type": "code",
   "execution_count": 20,
   "metadata": {},
   "outputs": [
    {
     "data": {
      "text/plain": [
       "{'csrf_token': 'IjBmNWY0YmUxNWEyYzgwYmUxMmM4MzUxYmRkZDY0OWZhMjBlZDczNGEi.X-jD2g.m5FskoIxFq9NAmrTIZKA-cwLxxQ',\n",
       " 'deleteEmpId': '',\n",
       " 'newEmployeeName': 'Nick Rodriguez',\n",
       " 'resName': 'Tysons Biergarten',\n",
       " 'bartender': 'bartender',\n",
       " 'security': 'security',\n",
       " 'driver': 'driver',\n",
       " 'kitchen': 'kitchen',\n",
       " 'addEmployee': 'True'}"
      ]
     },
     "execution_count": 20,
     "metadata": {},
     "output_type": "execute_result"
    }
   ],
   "source": [
    "formDict2"
   ]
  },
  {
   "cell_type": "code",
   "execution_count": 22,
   "metadata": {},
   "outputs": [],
   "source": [
    "roleList=['bartender', 'apprentice','security','driver','kitchen']\n",
    "\n",
    "roleDict={key:'' for key in roleList if key in formDict2}\n",
    "\n",
    "if 'bartender' in roleDict and 'apprentice' in roleDict:\n",
    "    del roleDict['apprentice']"
   ]
  },
  {
   "cell_type": "code",
   "execution_count": 23,
   "metadata": {},
   "outputs": [
    {
     "data": {
      "text/plain": [
       "{'bartender': '', 'security': '', 'driver': '', 'kitchen': ''}"
      ]
     },
     "execution_count": 23,
     "metadata": {},
     "output_type": "execute_result"
    }
   ],
   "source": [
    "roleDict"
   ]
  },
  {
   "cell_type": "code",
   "execution_count": 42,
   "metadata": {},
   "outputs": [
    {
     "name": "stdout",
     "output_type": "stream",
     "text": [
      "role bartender i 0\n",
      "role security i 1\n",
      "role driver i 2\n",
      "role kitchen i 3\n",
      "role0 Employeeroles('None','bartender','stdWageFlag: None','Hops N Shine')\n"
     ]
    }
   ],
   "source": [
    "resName='Hops N Shine'\n",
    "empId=1\n",
    "userId=1\n",
    "\n",
    "terms=[]\n",
    "\n",
    "for role, i in zip(roleDict,range(len(roleDict))):\n",
    "    print('role',role,'i', i)\n",
    "    wage=Standardwages.query.filter(Standardwages.role==role).with_entities(Standardwages.wage).first()[0]\n",
    "\n",
    "    tipPercentage=Standardwages.query.filter(\n",
    "        Standardwages.role==role).with_entities(\n",
    "        Standardwages.tipPercentage).first()[0]\n",
    "\n",
    "    restaurantId=Restaurants.query.filter_by(\n",
    "        name=resName).with_entities(\n",
    "        Restaurants.id).first()[0]\n",
    "\n",
    "    standardWageId=Standardwages.query.filter_by(\n",
    "        role=role).with_entities(Standardwages.id).first()[0]\n",
    "\n",
    "    \n",
    "    vars()['role' + str(i)]=Employeeroles(role=role,\n",
    "        wage=wage,tipPercentage=tipPercentage,restaurantId=restaurantId,\n",
    "        createdBy=userId, standardWageId=standardWageId,\n",
    "        empId=empId)\n",
    "    \n",
    "    terms.append(vars()['role' + str(i)])\n",
    "\n",
    "    \n",
    "print('role0',role0)\n",
    "# roleList=list(roleDict.values())\n",
    "# print(roleList)"
   ]
  },
  {
   "cell_type": "code",
   "execution_count": 43,
   "metadata": {},
   "outputs": [
    {
     "data": {
      "text/plain": [
       "[Employeeroles('None','bartender','stdWageFlag: None','Hops N Shine'),\n",
       " Employeeroles('None','security','stdWageFlag: None','Hops N Shine'),\n",
       " Employeeroles('None','driver','stdWageFlag: None','Hops N Shine'),\n",
       " Employeeroles('None','kitchen','stdWageFlag: None','Hops N Shine')]"
      ]
     },
     "execution_count": 43,
     "metadata": {},
     "output_type": "execute_result"
    }
   ],
   "source": [
    "terms"
   ]
  },
  {
   "cell_type": "code",
   "execution_count": 44,
   "metadata": {},
   "outputs": [
    {
     "data": {
      "text/plain": [
       "{'__name__': '__main__',\n",
       " '__doc__': 'Automatically created module for IPython interactive environment',\n",
       " '__package__': None,\n",
       " '__loader__': None,\n",
       " '__spec__': None,\n",
       " '__builtin__': <module 'builtins' (built-in)>,\n",
       " '__builtins__': <module 'builtins' (built-in)>,\n",
       " '_ih': ['',\n",
       "  'from dmrApp import create_app, db\\nfrom dmrApp.models import Dmrs, Employees, Employeeroles, Post, Restaurants, Shifts, \\\\\\n    User, Standardwages\\nfrom sqlalchemy import func\\nproxyApp=create_app()\\nctx=proxyApp.app_context()\\nctx.push()',\n",
       "  'empId=db.session.query(Employees,func.max(Employees.id)).with_entities(Employees.id).first()[0]\\nprint(empId)',\n",
       "  'empId=db.session.query(Employees).with_entities(Employees.id).all()\\nprint(empId)',\n",
       "  'empId=db.session.query(Employees,func.min(Employees.id)).with_entities(Employees.id).first()[0]\\nprint(empId)',\n",
       "  'empId=db.session.query(func.max(Employees.id)).with_entities(Employees.id).first()[0]\\nprint(empId)',\n",
       "  'empId=db.session.query(func.max(Employees.id)).with_entities(Employees.id).all()[0]\\nprint(empId)',\n",
       "  'empId=db.session.query(Employees,func.max(Employees.id)).with_entities(Employees.id).all()[0]\\nprint(empId)',\n",
       "  'session.query(func.max(Employees.id))',\n",
       "  'db.session.query(func.max(Employees.id))',\n",
       "  'db.session.query(func.max(Employees.id)).first()',\n",
       "  'db.session.query(func.max(Employees.id)).with_entities(Employees.id).first()',\n",
       "  'db.session.query(func.max(Employees.id)).first()',\n",
       "  'db.session.query(func.max(Employees.id)).first()[0]',\n",
       "  \"import json\\nr=read(json.loads('formDict.txt'),'r')\",\n",
       "  \"import json\\nf=read('formDict.txt','r')\\nf.write(json.laods(formDict2))\\nf.close()\",\n",
       "  \"import json\\nf=open('formDict.txt','r')\\nf.write(json.laods(formDict2))\\nf.close()\",\n",
       "  \"import json\\nf=open('formDict.txt','r')\\nf.write(json.loads(formDict2))\\nf.close()\",\n",
       "  'import json',\n",
       "  \"with open('formDict.txt','r') as f:\\n    formDict2 = json.load(f)\",\n",
       "  'formDict2',\n",
       "  \"roleList=['bartender', 'apprentice','security','driver','kitchen']\\n\\nroleDict={key:'' for key in roleList if key in formDict}\\n\\nif 'bartender' in roleDict and 'apprentice' in roleDict:\\n    del roleDict['apprentice']\",\n",
       "  \"roleList=['bartender', 'apprentice','security','driver','kitchen']\\n\\nroleDict={key:'' for key in roleList if key in formDict2}\\n\\nif 'bartender' in roleDict and 'apprentice' in roleDict:\\n    del roleDict['apprentice']\",\n",
       "  'roleDict',\n",
       "  'for role in roleDict:\\n    wage=Standardwages.query.filter(\\n        Standardwages.role==role).with_entities(Standardwages.wage).first()[0]\\n\\n    tipPercentage=Standardwages.query.filter(\\n        Standardwages.role==role).with_entities(\\n        Standardwages.tipPercentage).first()[0]\\n\\n    restaurantId=Restaurants.query.filter_by(\\n        name=resName).with_entities(\\n        Restaurants.id).first()[0]\\n\\n    standardWageId=Standardwages.query.filter_by(\\n        role=role).with_entities(Standardwages.id).first()[0]\\n\\n    roleDict[role]=Employeeroles(role=role,\\n        wage=wage,tipPercentage=tipPercentage,restaurantId=restaurantId,\\n        createdBy=empId, standardWageId=standardWageId,\\n        empId=empId)\\n    print(roleDict[role])',\n",
       "  \"resName='restaurant'\\nempId=1\\nuserId=1\\nfor role in roleDict:\\n    wage=Standardwages.query.filter(\\n        Standardwages.role==role).with_entities(Standardwages.wage).first()[0]\\n\\n    tipPercentage=Standardwages.query.filter(\\n        Standardwages.role==role).with_entities(\\n        Standardwages.tipPercentage).first()[0]\\n\\n    restaurantId=Restaurants.query.filter_by(\\n        name=resName).with_entities(\\n        Restaurants.id).first()[0]\\n\\n    standardWageId=Standardwages.query.filter_by(\\n        role=role).with_entities(Standardwages.id).first()[0]\\n\\n    roleDict[role]=Employeeroles(role=role,\\n        wage=wage,tipPercentage=tipPercentage,restaurantId=restaurantId,\\n        createdBy=userId, standardWageId=standardWageId,\\n        empId=empId)\\n    print(roleDict[role])\",\n",
       "  \"resName='Hops N Shine'\\nempId=1\\nuserId=1\\nfor role in roleDict:\\n    wage=Standardwages.query.filter(\\n        Standardwages.role==role).with_entities(Standardwages.wage).first()[0]\\n\\n    tipPercentage=Standardwages.query.filter(\\n        Standardwages.role==role).with_entities(\\n        Standardwages.tipPercentage).first()[0]\\n\\n    restaurantId=Restaurants.query.filter_by(\\n        name=resName).with_entities(\\n        Restaurants.id).first()[0]\\n\\n    standardWageId=Standardwages.query.filter_by(\\n        role=role).with_entities(Standardwages.id).first()[0]\\n\\n    roleDict[role]=Employeeroles(role=role,\\n        wage=wage,tipPercentage=tipPercentage,restaurantId=restaurantId,\\n        createdBy=userId, standardWageId=standardWageId,\\n        empId=empId)\\n    print(roleDict[role])\",\n",
       "  \"resName='Hops N Shine'\\nempId=1\\nuserId=1\\nfor role in roleDict:\\n    wage=Standardwages.query.filter(\\n        Standardwages.role==role).with_entities(Standardwages.wage).first()[0]\\n\\n    tipPercentage=Standardwages.query.filter(\\n        Standardwages.role==role).with_entities(\\n        Standardwages.tipPercentage).first()[0]\\n\\n    restaurantId=Restaurants.query.filter_by(\\n        name=resName).with_entities(\\n        Restaurants.id).first()[0]\\n\\n    standardWageId=Standardwages.query.filter_by(\\n        role=role).with_entities(Standardwages.id).first()[0]\\n\\n    roleDict[role]=Employeeroles(role=role,\\n        wage=wage,tipPercentage=tipPercentage,restaurantId=restaurantId,\\n        createdBy=userId, standardWageId=standardWageId,\\n        empId=empId)\\n    roleList=list(roleDict.values())\\n    print(roleList)\",\n",
       "  \"resName='Hops N Shine'\\nempId=1\\nuserId=1\\nfor role in roleDict:\\n    wage=Standardwages.query.filter(\\n        Standardwages.role==role).with_entities(Standardwages.wage).first()[0]\\n\\n    tipPercentage=Standardwages.query.filter(\\n        Standardwages.role==role).with_entities(\\n        Standardwages.tipPercentage).first()[0]\\n\\n    restaurantId=Restaurants.query.filter_by(\\n        name=resName).with_entities(\\n        Restaurants.id).first()[0]\\n\\n    standardWageId=Standardwages.query.filter_by(\\n        role=role).with_entities(Standardwages.id).first()[0]\\n\\n    roleDict[role]=Employeeroles(role=role,\\n        wage=wage,tipPercentage=tipPercentage,restaurantId=restaurantId,\\n        createdBy=userId, standardWageId=standardWageId,\\n        empId=empId)\\n\\nroleList=list(roleDict.values())\\nprint(roleList)\",\n",
       "  'resName=\\'Hops N Shine\\'\\nempId=1\\nuserId=1\\n\\nfor role, i in zip(roleDict,range(len(roleDict))):\\n    wage=Standardwages.query.filter(\\n        Standardwages.role==role).with_entities(Standardwages.wage).first()[0]\\n\\n    tipPercentage=Standardwages.query.filter(\\n        Standardwages.role==role).with_entities(\\n        Standardwages.tipPercentage).first()[0]\\n\\n    restaurantId=Restaurants.query.filter_by(\\n        name=resName).with_entities(\\n        Restaurants.id).first()[0]\\n\\n    standardWageId=Standardwages.query.filter_by(\\n        role=role).with_entities(Standardwages.id).first()[0]\\n\\n#     roleDict[role]=Employeeroles(role=role,\\n#         wage=wage,tipPercentage=tipPercentage,restaurantId=restaurantId,\\n#         createdBy=userId, standardWageId=standardWageId,\\n#         empId=empId)\\n    \\n    \"role{i}\".format()=Employeeroles(role=role,\\n        wage=wage,tipPercentage=tipPercentage,restaurantId=restaurantId,\\n        createdBy=userId, standardWageId=standardWageId,\\n        empId=empId)\\n    \\nprint(\\'role0\\',role0)\\n# roleList=list(roleDict.values())\\n# print(roleList)',\n",
       "  'resName=\\'Hops N Shine\\'\\nempId=1\\nuserId=1\\n\\n\\n\\nfor role, i in zip(roleDict,range(len(roleDict))):\\n    wage=Standardwages.query.filter(\\n        Standardwages.role==role).with_entities(Standardwages.wage).first()[0]\\n\\n    tipPercentage=Standardwages.query.filter(\\n        Standardwages.role==role).with_entities(\\n        Standardwages.tipPercentage).first()[0]\\n\\n    restaurantId=Restaurants.query.filter_by(\\n        name=resName).with_entities(\\n        Restaurants.id).first()[0]\\n\\n    standardWageId=Standardwages.query.filter_by(\\n        role=role).with_entities(Standardwages.id).first()[0]\\n\\n#     roleDict[role]=Employeeroles(role=role,\\n#         wage=wage,tipPercentage=tipPercentage,restaurantId=restaurantId,\\n#         createdBy=userId, standardWageId=standardWageId,\\n#         empId=empId)\\n    \\n    \"role{}\".format(i)=Employeeroles(role=role,\\n        wage=wage,tipPercentage=tipPercentage,restaurantId=restaurantId,\\n        createdBy=userId, standardWageId=standardWageId,\\n        empId=empId)\\n    \\nprint(\\'role0\\',role0)\\n# roleList=list(roleDict.values())\\n# print(roleList)',\n",
       "  'resName=\\'Hops N Shine\\'\\nempId=1\\nuserId=1\\n\\nterms=[]\\n\\nfor role, i in zip(roleDict,range(len(roleDict))):\\n    wage=Standardwages.query.filter(\\n        Standardwages.role==role).with_entities(Standardwages.wage).first()[0]\\n\\n    tipPercentage=Standardwages.query.filter(\\n        Standardwages.role==role).with_entities(\\n        Standardwages.tipPercentage).first()[0]\\n\\n    restaurantId=Restaurants.query.filter_by(\\n        name=resName).with_entities(\\n        Restaurants.id).first()[0]\\n\\n    standardWageId=Standardwages.query.filter_by(\\n        role=role).with_entities(Standardwages.id).first()[0]\\n\\n#     roleDict[role]=Employeeroles(role=role,\\n#         wage=wage,tipPercentage=tipPercentage,restaurantId=restaurantId,\\n#         createdBy=userId, standardWageId=standardWageId,\\n#         empId=empId)\\n    \\n    terms[\"role{}\".format(i)]=Employeeroles(role=role,\\n        wage=wage,tipPercentage=tipPercentage,restaurantId=restaurantId,\\n        createdBy=userId, standardWageId=standardWageId,\\n        empId=empId)\\n    \\nprint(\\'role0\\',role0)\\n# roleList=list(roleDict.values())\\n# print(roleList)',\n",
       "  '#before ending\\nctx.pop()',\n",
       "  'resName=\\'Hops N Shine\\'\\nempId=1\\nuserId=1\\n\\nterms=[]\\n\\nfor role, i in zip(roleDict,range(len(roleDict))):\\n    wage=Standardwages.query.filter(\\n        Standardwages.role==role).with_entities(Standardwages.wage).first()[0]\\n\\n    tipPercentage=Standardwages.query.filter(\\n        Standardwages.role==role).with_entities(\\n        Standardwages.tipPercentage).first()[0]\\n\\n    restaurantId=Restaurants.query.filter_by(\\n        name=resName).with_entities(\\n        Restaurants.id).first()[0]\\n\\n    standardWageId=Standardwages.query.filter_by(\\n        role=role).with_entities(Standardwages.id).first()[0]\\n\\n#     roleDict[role]=Employeeroles(role=role,\\n#         wage=wage,tipPercentage=tipPercentage,restaurantId=restaurantId,\\n#         createdBy=userId, standardWageId=standardWageId,\\n#         empId=empId)\\n    \\n    role+\"{}\".format(i)=Employeeroles(role=role,\\n        wage=wage,tipPercentage=tipPercentage,restaurantId=restaurantId,\\n        createdBy=userId, standardWageId=standardWageId,\\n        empId=empId)\\n    \\nprint(\\'role0\\',role0)\\n# roleList=list(roleDict.values())\\n# print(roleList)',\n",
       "  'resName=\\'Hops N Shine\\'\\nempId=1\\nuserId=1\\n\\nterms=[]\\n\\nfor role, i in zip(roleDict,range(len(roleDict))):\\n    wage=Standardwages.query.filter(\\n        Standardwages.role==role).with_entities(Standardwages.wage).first()[0]\\n\\n    tipPercentage=Standardwages.query.filter(\\n        Standardwages.role==role).with_entities(\\n        Standardwages.tipPercentage).first()[0]\\n\\n    restaurantId=Restaurants.query.filter_by(\\n        name=resName).with_entities(\\n        Restaurants.id).first()[0]\\n\\n    standardWageId=Standardwages.query.filter_by(\\n        role=role).with_entities(Standardwages.id).first()[0]\\n\\n#     roleDict[role]=Employeeroles(role=role,\\n#         wage=wage,tipPercentage=tipPercentage,restaurantId=restaurantId,\\n#         createdBy=userId, standardWageId=standardWageId,\\n#         empId=empId)\\n    \\n    vars()[\\'role\\' + str(i)]=Employeeroles(role=role,\\n        wage=wage,tipPercentage=tipPercentage,restaurantId=restaurantId,\\n        createdBy=userId, standardWageId=standardWageId,\\n        empId=empId)\\n    \\n#     role+\"{}\".format(i)=Employeeroles(role=role,\\n#         wage=wage,tipPercentage=tipPercentage,restaurantId=restaurantId,\\n#         createdBy=userId, standardWageId=standardWageId,\\n#         empId=empId)\\n    \\nprint(\\'role0\\',role0)\\n# roleList=list(roleDict.values())\\n# print(roleList)',\n",
       "  'resName=\\'Hops N Shine\\'\\nempId=1\\nuserId=1\\n\\nterms=[]\\n\\nfor role, i in zip(roleDict,range(len(roleDict))):\\n    print(\\'role\\',role,\\'i\\' i)\\n    wage=Standardwages.query.filter(\\n        Standardwages.role==role).with_entities(Standardwages.wage).first()[0]\\n\\n    tipPercentage=Standardwages.query.filter(\\n        Standardwages.role==role).with_entities(\\n        Standardwages.tipPercentage).first()[0]\\n\\n    restaurantId=Restaurants.query.filter_by(\\n        name=resName).with_entities(\\n        Restaurants.id).first()[0]\\n\\n    standardWageId=Standardwages.query.filter_by(\\n        role=role).with_entities(Standardwages.id).first()[0]\\n\\n#     roleDict[role]=Employeeroles(role=role,\\n#         wage=wage,tipPercentage=tipPercentage,restaurantId=restaurantId,\\n#         createdBy=userId, standardWageId=standardWageId,\\n#         empId=empId)\\n    \\n    vars()[\\'role\\' + str(i)]=Employeeroles(role=role,\\n        wage=wage,tipPercentage=tipPercentage,restaurantId=restaurantId,\\n        createdBy=userId, standardWageId=standardWageId,\\n        empId=empId)\\n    \\n#     role+\"{}\".format(i)=Employeeroles(role=role,\\n#         wage=wage,tipPercentage=tipPercentage,restaurantId=restaurantId,\\n#         createdBy=userId, standardWageId=standardWageId,\\n#         empId=empId)\\n    \\nprint(\\'role0\\',role0)\\n# roleList=list(roleDict.values())\\n# print(roleList)',\n",
       "  'resName=\\'Hops N Shine\\'\\nempId=1\\nuserId=1\\n\\nterms=[]\\n\\nfor role, i in zip(roleDict,range(len(roleDict))):\\n    print(\\'role\\',role,\\'i\\', i)\\n    wage=Standardwages.query.filter(\\n        Standardwages.role==role).with_entities(Standardwages.wage).first()[0]\\n\\n    tipPercentage=Standardwages.query.filter(\\n        Standardwages.role==role).with_entities(\\n        Standardwages.tipPercentage).first()[0]\\n\\n    restaurantId=Restaurants.query.filter_by(\\n        name=resName).with_entities(\\n        Restaurants.id).first()[0]\\n\\n    standardWageId=Standardwages.query.filter_by(\\n        role=role).with_entities(Standardwages.id).first()[0]\\n\\n#     roleDict[role]=Employeeroles(role=role,\\n#         wage=wage,tipPercentage=tipPercentage,restaurantId=restaurantId,\\n#         createdBy=userId, standardWageId=standardWageId,\\n#         empId=empId)\\n    \\n    vars()[\\'role\\' + str(i)]=Employeeroles(role=role,\\n        wage=wage,tipPercentage=tipPercentage,restaurantId=restaurantId,\\n        createdBy=userId, standardWageId=standardWageId,\\n        empId=empId)\\n    \\n#     role+\"{}\".format(i)=Employeeroles(role=role,\\n#         wage=wage,tipPercentage=tipPercentage,restaurantId=restaurantId,\\n#         createdBy=userId, standardWageId=standardWageId,\\n#         empId=empId)\\n    \\nprint(\\'role0\\',role0)\\n# roleList=list(roleDict.values())\\n# print(roleList)',\n",
       "  'resName=\\'Hops N Shine\\'\\nempId=1\\nuserId=1\\n\\nterms=[]\\n\\nfor role, i in zip(roleDict,range(len(roleDict))):\\n    print(\\'role\\',role,\\'i\\', i)\\n#     wage=Standardwages.query.filter(\\n#         Standardwages.role==role).with_entities(Standardwages.wage).first()[0]\\n\\n    tipPercentage=Standardwages.query.filter(\\n        Standardwages.role==role).with_entities(\\n        Standardwages.tipPercentage).first()[0]\\n\\n    restaurantId=Restaurants.query.filter_by(\\n        name=resName).with_entities(\\n        Restaurants.id).first()[0]\\n\\n    standardWageId=Standardwages.query.filter_by(\\n        role=role).with_entities(Standardwages.id).first()[0]\\n\\n#     roleDict[role]=Employeeroles(role=role,\\n#         wage=wage,tipPercentage=tipPercentage,restaurantId=restaurantId,\\n#         createdBy=userId, standardWageId=standardWageId,\\n#         empId=empId)\\n    \\n    vars()[\\'role\\' + str(i)]=Employeeroles(role=role,\\n        wage=wage,tipPercentage=tipPercentage,restaurantId=restaurantId,\\n        createdBy=userId, standardWageId=standardWageId,\\n        empId=empId)\\n    \\n#     role+\"{}\".format(i)=Employeeroles(role=role,\\n#         wage=wage,tipPercentage=tipPercentage,restaurantId=restaurantId,\\n#         createdBy=userId, standardWageId=standardWageId,\\n#         empId=empId)\\n    \\nprint(\\'role0\\',role0)\\n# roleList=list(roleDict.values())\\n# print(roleList)',\n",
       "  'resName=\\'Hops N Shine\\'\\nempId=1\\nuserId=1\\n\\nterms=[]\\n\\nfor role, i in zip(roleDict,range(len(roleDict))):\\n    print(\\'role\\',role,\\'i\\', i)\\n    wage=Standardwages.query.filter(Standardwages.role==role).with_entities(Standardwages.wage).first()[0]\\n\\n    tipPercentage=Standardwages.query.filter(\\n        Standardwages.role==role).with_entities(\\n        Standardwages.tipPercentage).first()[0]\\n\\n    restaurantId=Restaurants.query.filter_by(\\n        name=resName).with_entities(\\n        Restaurants.id).first()[0]\\n\\n    standardWageId=Standardwages.query.filter_by(\\n        role=role).with_entities(Standardwages.id).first()[0]\\n\\n#     roleDict[role]=Employeeroles(role=role,\\n#         wage=wage,tipPercentage=tipPercentage,restaurantId=restaurantId,\\n#         createdBy=userId, standardWageId=standardWageId,\\n#         empId=empId)\\n    \\n    vars()[\\'role\\' + str(i)]=Employeeroles(role=role,\\n        wage=wage,tipPercentage=tipPercentage,restaurantId=restaurantId,\\n        createdBy=userId, standardWageId=standardWageId,\\n        empId=empId)\\n    \\n#     role+\"{}\".format(i)=Employeeroles(role=role,\\n#         wage=wage,tipPercentage=tipPercentage,restaurantId=restaurantId,\\n#         createdBy=userId, standardWageId=standardWageId,\\n#         empId=empId)\\n    \\nprint(\\'role0\\',role0)\\n# roleList=list(roleDict.values())\\n# print(roleList)',\n",
       "  'from dmrApp import create_app, db\\nfrom dmrApp.models import Dmrs, Employees, Employeeroles, Post, Restaurants, Shifts, \\\\\\n    User, Standardwages\\nfrom sqlalchemy import func\\nproxyApp=create_app()\\nctx=proxyApp.app_context()\\nctx.push()',\n",
       "  'resName=\\'Hops N Shine\\'\\nempId=1\\nuserId=1\\n\\nterms=[]\\n\\nfor role, i in zip(roleDict,range(len(roleDict))):\\n    print(\\'role\\',role,\\'i\\', i)\\n    wage=Standardwages.query.filter(Standardwages.role==role).with_entities(Standardwages.wage).first()[0]\\n\\n    tipPercentage=Standardwages.query.filter(\\n        Standardwages.role==role).with_entities(\\n        Standardwages.tipPercentage).first()[0]\\n\\n    restaurantId=Restaurants.query.filter_by(\\n        name=resName).with_entities(\\n        Restaurants.id).first()[0]\\n\\n    standardWageId=Standardwages.query.filter_by(\\n        role=role).with_entities(Standardwages.id).first()[0]\\n\\n#     roleDict[role]=Employeeroles(role=role,\\n#         wage=wage,tipPercentage=tipPercentage,restaurantId=restaurantId,\\n#         createdBy=userId, standardWageId=standardWageId,\\n#         empId=empId)\\n    \\n    vars()[\\'role\\' + str(i)]=Employeeroles(role=role,\\n        wage=wage,tipPercentage=tipPercentage,restaurantId=restaurantId,\\n        createdBy=userId, standardWageId=standardWageId,\\n        empId=empId)\\n    \\n#     role+\"{}\".format(i)=Employeeroles(role=role,\\n#         wage=wage,tipPercentage=tipPercentage,restaurantId=restaurantId,\\n#         createdBy=userId, standardWageId=standardWageId,\\n#         empId=empId)\\n    \\nprint(\\'role0\\',role0)\\n# roleList=list(roleDict.values())\\n# print(roleList)',\n",
       "  'role1',\n",
       "  \"resName='Hops N Shine'\\nempId=1\\nuserId=1\\n\\nterms=[]\\n\\nfor role, i in zip(roleDict,range(len(roleDict))):\\n    print('role',role,'i', i)\\n    wage=Standardwages.query.filter(Standardwages.role==role).with_entities(Standardwages.wage).first()[0]\\n\\n    tipPercentage=Standardwages.query.filter(\\n        Standardwages.role==role).with_entities(\\n        Standardwages.tipPercentage).first()[0]\\n\\n    restaurantId=Restaurants.query.filter_by(\\n        name=resName).with_entities(\\n        Restaurants.id).first()[0]\\n\\n    standardWageId=Standardwages.query.filter_by(\\n        role=role).with_entities(Standardwages.id).first()[0]\\n\\n    \\n    vars()['role' + str(i)]=Employeeroles(role=role,\\n        wage=wage,tipPercentage=tipPercentage,restaurantId=restaurantId,\\n        createdBy=userId, standardWageId=standardWageId,\\n        empId=empId)\\n    \\n    terms.append(vars()['role' + str(i)])\\n\\n    \\nprint('role0',role0)\\n# roleList=list(roleDict.values())\\n# print(roleList)\",\n",
       "  'terms',\n",
       "  'vars()'],\n",
       " '_oh': {9: <flask_sqlalchemy.BaseQuery at 0x13cb22586a0>,\n",
       "  10: (12),\n",
       "  11: (1),\n",
       "  12: (12),\n",
       "  13: 12,\n",
       "  20: {'csrf_token': 'IjBmNWY0YmUxNWEyYzgwYmUxMmM4MzUxYmRkZDY0OWZhMjBlZDczNGEi.X-jD2g.m5FskoIxFq9NAmrTIZKA-cwLxxQ',\n",
       "   'deleteEmpId': '',\n",
       "   'newEmployeeName': 'Nick Rodriguez',\n",
       "   'resName': 'Tysons Biergarten',\n",
       "   'bartender': 'bartender',\n",
       "   'security': 'security',\n",
       "   'driver': 'driver',\n",
       "   'kitchen': 'kitchen',\n",
       "   'addEmployee': 'True'},\n",
       "  23: {'bartender': Employeeroles('None','bartender','stdWageFlag: None','Hops N Shine'),\n",
       "   'security': Employeeroles('None','security','stdWageFlag: None','Hops N Shine'),\n",
       "   'driver': Employeeroles('None','driver','stdWageFlag: None','Hops N Shine'),\n",
       "   'kitchen': Employeeroles('None','kitchen','stdWageFlag: None','Hops N Shine')},\n",
       "  41: Employeeroles('None','security','stdWageFlag: None','Hops N Shine'),\n",
       "  43: [Employeeroles('None','bartender','stdWageFlag: None','Hops N Shine'),\n",
       "   Employeeroles('None','security','stdWageFlag: None','Hops N Shine'),\n",
       "   Employeeroles('None','driver','stdWageFlag: None','Hops N Shine'),\n",
       "   Employeeroles('None','kitchen','stdWageFlag: None','Hops N Shine')]},\n",
       " '_dh': ['D:\\\\OneDrive\\\\Documents\\\\work\\\\CreativeBarConceptsDMR\\\\dmrAppConda'],\n",
       " 'In': ['',\n",
       "  'from dmrApp import create_app, db\\nfrom dmrApp.models import Dmrs, Employees, Employeeroles, Post, Restaurants, Shifts, \\\\\\n    User, Standardwages\\nfrom sqlalchemy import func\\nproxyApp=create_app()\\nctx=proxyApp.app_context()\\nctx.push()',\n",
       "  'empId=db.session.query(Employees,func.max(Employees.id)).with_entities(Employees.id).first()[0]\\nprint(empId)',\n",
       "  'empId=db.session.query(Employees).with_entities(Employees.id).all()\\nprint(empId)',\n",
       "  'empId=db.session.query(Employees,func.min(Employees.id)).with_entities(Employees.id).first()[0]\\nprint(empId)',\n",
       "  'empId=db.session.query(func.max(Employees.id)).with_entities(Employees.id).first()[0]\\nprint(empId)',\n",
       "  'empId=db.session.query(func.max(Employees.id)).with_entities(Employees.id).all()[0]\\nprint(empId)',\n",
       "  'empId=db.session.query(Employees,func.max(Employees.id)).with_entities(Employees.id).all()[0]\\nprint(empId)',\n",
       "  'session.query(func.max(Employees.id))',\n",
       "  'db.session.query(func.max(Employees.id))',\n",
       "  'db.session.query(func.max(Employees.id)).first()',\n",
       "  'db.session.query(func.max(Employees.id)).with_entities(Employees.id).first()',\n",
       "  'db.session.query(func.max(Employees.id)).first()',\n",
       "  'db.session.query(func.max(Employees.id)).first()[0]',\n",
       "  \"import json\\nr=read(json.loads('formDict.txt'),'r')\",\n",
       "  \"import json\\nf=read('formDict.txt','r')\\nf.write(json.laods(formDict2))\\nf.close()\",\n",
       "  \"import json\\nf=open('formDict.txt','r')\\nf.write(json.laods(formDict2))\\nf.close()\",\n",
       "  \"import json\\nf=open('formDict.txt','r')\\nf.write(json.loads(formDict2))\\nf.close()\",\n",
       "  'import json',\n",
       "  \"with open('formDict.txt','r') as f:\\n    formDict2 = json.load(f)\",\n",
       "  'formDict2',\n",
       "  \"roleList=['bartender', 'apprentice','security','driver','kitchen']\\n\\nroleDict={key:'' for key in roleList if key in formDict}\\n\\nif 'bartender' in roleDict and 'apprentice' in roleDict:\\n    del roleDict['apprentice']\",\n",
       "  \"roleList=['bartender', 'apprentice','security','driver','kitchen']\\n\\nroleDict={key:'' for key in roleList if key in formDict2}\\n\\nif 'bartender' in roleDict and 'apprentice' in roleDict:\\n    del roleDict['apprentice']\",\n",
       "  'roleDict',\n",
       "  'for role in roleDict:\\n    wage=Standardwages.query.filter(\\n        Standardwages.role==role).with_entities(Standardwages.wage).first()[0]\\n\\n    tipPercentage=Standardwages.query.filter(\\n        Standardwages.role==role).with_entities(\\n        Standardwages.tipPercentage).first()[0]\\n\\n    restaurantId=Restaurants.query.filter_by(\\n        name=resName).with_entities(\\n        Restaurants.id).first()[0]\\n\\n    standardWageId=Standardwages.query.filter_by(\\n        role=role).with_entities(Standardwages.id).first()[0]\\n\\n    roleDict[role]=Employeeroles(role=role,\\n        wage=wage,tipPercentage=tipPercentage,restaurantId=restaurantId,\\n        createdBy=empId, standardWageId=standardWageId,\\n        empId=empId)\\n    print(roleDict[role])',\n",
       "  \"resName='restaurant'\\nempId=1\\nuserId=1\\nfor role in roleDict:\\n    wage=Standardwages.query.filter(\\n        Standardwages.role==role).with_entities(Standardwages.wage).first()[0]\\n\\n    tipPercentage=Standardwages.query.filter(\\n        Standardwages.role==role).with_entities(\\n        Standardwages.tipPercentage).first()[0]\\n\\n    restaurantId=Restaurants.query.filter_by(\\n        name=resName).with_entities(\\n        Restaurants.id).first()[0]\\n\\n    standardWageId=Standardwages.query.filter_by(\\n        role=role).with_entities(Standardwages.id).first()[0]\\n\\n    roleDict[role]=Employeeroles(role=role,\\n        wage=wage,tipPercentage=tipPercentage,restaurantId=restaurantId,\\n        createdBy=userId, standardWageId=standardWageId,\\n        empId=empId)\\n    print(roleDict[role])\",\n",
       "  \"resName='Hops N Shine'\\nempId=1\\nuserId=1\\nfor role in roleDict:\\n    wage=Standardwages.query.filter(\\n        Standardwages.role==role).with_entities(Standardwages.wage).first()[0]\\n\\n    tipPercentage=Standardwages.query.filter(\\n        Standardwages.role==role).with_entities(\\n        Standardwages.tipPercentage).first()[0]\\n\\n    restaurantId=Restaurants.query.filter_by(\\n        name=resName).with_entities(\\n        Restaurants.id).first()[0]\\n\\n    standardWageId=Standardwages.query.filter_by(\\n        role=role).with_entities(Standardwages.id).first()[0]\\n\\n    roleDict[role]=Employeeroles(role=role,\\n        wage=wage,tipPercentage=tipPercentage,restaurantId=restaurantId,\\n        createdBy=userId, standardWageId=standardWageId,\\n        empId=empId)\\n    print(roleDict[role])\",\n",
       "  \"resName='Hops N Shine'\\nempId=1\\nuserId=1\\nfor role in roleDict:\\n    wage=Standardwages.query.filter(\\n        Standardwages.role==role).with_entities(Standardwages.wage).first()[0]\\n\\n    tipPercentage=Standardwages.query.filter(\\n        Standardwages.role==role).with_entities(\\n        Standardwages.tipPercentage).first()[0]\\n\\n    restaurantId=Restaurants.query.filter_by(\\n        name=resName).with_entities(\\n        Restaurants.id).first()[0]\\n\\n    standardWageId=Standardwages.query.filter_by(\\n        role=role).with_entities(Standardwages.id).first()[0]\\n\\n    roleDict[role]=Employeeroles(role=role,\\n        wage=wage,tipPercentage=tipPercentage,restaurantId=restaurantId,\\n        createdBy=userId, standardWageId=standardWageId,\\n        empId=empId)\\n    roleList=list(roleDict.values())\\n    print(roleList)\",\n",
       "  \"resName='Hops N Shine'\\nempId=1\\nuserId=1\\nfor role in roleDict:\\n    wage=Standardwages.query.filter(\\n        Standardwages.role==role).with_entities(Standardwages.wage).first()[0]\\n\\n    tipPercentage=Standardwages.query.filter(\\n        Standardwages.role==role).with_entities(\\n        Standardwages.tipPercentage).first()[0]\\n\\n    restaurantId=Restaurants.query.filter_by(\\n        name=resName).with_entities(\\n        Restaurants.id).first()[0]\\n\\n    standardWageId=Standardwages.query.filter_by(\\n        role=role).with_entities(Standardwages.id).first()[0]\\n\\n    roleDict[role]=Employeeroles(role=role,\\n        wage=wage,tipPercentage=tipPercentage,restaurantId=restaurantId,\\n        createdBy=userId, standardWageId=standardWageId,\\n        empId=empId)\\n\\nroleList=list(roleDict.values())\\nprint(roleList)\",\n",
       "  'resName=\\'Hops N Shine\\'\\nempId=1\\nuserId=1\\n\\nfor role, i in zip(roleDict,range(len(roleDict))):\\n    wage=Standardwages.query.filter(\\n        Standardwages.role==role).with_entities(Standardwages.wage).first()[0]\\n\\n    tipPercentage=Standardwages.query.filter(\\n        Standardwages.role==role).with_entities(\\n        Standardwages.tipPercentage).first()[0]\\n\\n    restaurantId=Restaurants.query.filter_by(\\n        name=resName).with_entities(\\n        Restaurants.id).first()[0]\\n\\n    standardWageId=Standardwages.query.filter_by(\\n        role=role).with_entities(Standardwages.id).first()[0]\\n\\n#     roleDict[role]=Employeeroles(role=role,\\n#         wage=wage,tipPercentage=tipPercentage,restaurantId=restaurantId,\\n#         createdBy=userId, standardWageId=standardWageId,\\n#         empId=empId)\\n    \\n    \"role{i}\".format()=Employeeroles(role=role,\\n        wage=wage,tipPercentage=tipPercentage,restaurantId=restaurantId,\\n        createdBy=userId, standardWageId=standardWageId,\\n        empId=empId)\\n    \\nprint(\\'role0\\',role0)\\n# roleList=list(roleDict.values())\\n# print(roleList)',\n",
       "  'resName=\\'Hops N Shine\\'\\nempId=1\\nuserId=1\\n\\n\\n\\nfor role, i in zip(roleDict,range(len(roleDict))):\\n    wage=Standardwages.query.filter(\\n        Standardwages.role==role).with_entities(Standardwages.wage).first()[0]\\n\\n    tipPercentage=Standardwages.query.filter(\\n        Standardwages.role==role).with_entities(\\n        Standardwages.tipPercentage).first()[0]\\n\\n    restaurantId=Restaurants.query.filter_by(\\n        name=resName).with_entities(\\n        Restaurants.id).first()[0]\\n\\n    standardWageId=Standardwages.query.filter_by(\\n        role=role).with_entities(Standardwages.id).first()[0]\\n\\n#     roleDict[role]=Employeeroles(role=role,\\n#         wage=wage,tipPercentage=tipPercentage,restaurantId=restaurantId,\\n#         createdBy=userId, standardWageId=standardWageId,\\n#         empId=empId)\\n    \\n    \"role{}\".format(i)=Employeeroles(role=role,\\n        wage=wage,tipPercentage=tipPercentage,restaurantId=restaurantId,\\n        createdBy=userId, standardWageId=standardWageId,\\n        empId=empId)\\n    \\nprint(\\'role0\\',role0)\\n# roleList=list(roleDict.values())\\n# print(roleList)',\n",
       "  'resName=\\'Hops N Shine\\'\\nempId=1\\nuserId=1\\n\\nterms=[]\\n\\nfor role, i in zip(roleDict,range(len(roleDict))):\\n    wage=Standardwages.query.filter(\\n        Standardwages.role==role).with_entities(Standardwages.wage).first()[0]\\n\\n    tipPercentage=Standardwages.query.filter(\\n        Standardwages.role==role).with_entities(\\n        Standardwages.tipPercentage).first()[0]\\n\\n    restaurantId=Restaurants.query.filter_by(\\n        name=resName).with_entities(\\n        Restaurants.id).first()[0]\\n\\n    standardWageId=Standardwages.query.filter_by(\\n        role=role).with_entities(Standardwages.id).first()[0]\\n\\n#     roleDict[role]=Employeeroles(role=role,\\n#         wage=wage,tipPercentage=tipPercentage,restaurantId=restaurantId,\\n#         createdBy=userId, standardWageId=standardWageId,\\n#         empId=empId)\\n    \\n    terms[\"role{}\".format(i)]=Employeeroles(role=role,\\n        wage=wage,tipPercentage=tipPercentage,restaurantId=restaurantId,\\n        createdBy=userId, standardWageId=standardWageId,\\n        empId=empId)\\n    \\nprint(\\'role0\\',role0)\\n# roleList=list(roleDict.values())\\n# print(roleList)',\n",
       "  '#before ending\\nctx.pop()',\n",
       "  'resName=\\'Hops N Shine\\'\\nempId=1\\nuserId=1\\n\\nterms=[]\\n\\nfor role, i in zip(roleDict,range(len(roleDict))):\\n    wage=Standardwages.query.filter(\\n        Standardwages.role==role).with_entities(Standardwages.wage).first()[0]\\n\\n    tipPercentage=Standardwages.query.filter(\\n        Standardwages.role==role).with_entities(\\n        Standardwages.tipPercentage).first()[0]\\n\\n    restaurantId=Restaurants.query.filter_by(\\n        name=resName).with_entities(\\n        Restaurants.id).first()[0]\\n\\n    standardWageId=Standardwages.query.filter_by(\\n        role=role).with_entities(Standardwages.id).first()[0]\\n\\n#     roleDict[role]=Employeeroles(role=role,\\n#         wage=wage,tipPercentage=tipPercentage,restaurantId=restaurantId,\\n#         createdBy=userId, standardWageId=standardWageId,\\n#         empId=empId)\\n    \\n    role+\"{}\".format(i)=Employeeroles(role=role,\\n        wage=wage,tipPercentage=tipPercentage,restaurantId=restaurantId,\\n        createdBy=userId, standardWageId=standardWageId,\\n        empId=empId)\\n    \\nprint(\\'role0\\',role0)\\n# roleList=list(roleDict.values())\\n# print(roleList)',\n",
       "  'resName=\\'Hops N Shine\\'\\nempId=1\\nuserId=1\\n\\nterms=[]\\n\\nfor role, i in zip(roleDict,range(len(roleDict))):\\n    wage=Standardwages.query.filter(\\n        Standardwages.role==role).with_entities(Standardwages.wage).first()[0]\\n\\n    tipPercentage=Standardwages.query.filter(\\n        Standardwages.role==role).with_entities(\\n        Standardwages.tipPercentage).first()[0]\\n\\n    restaurantId=Restaurants.query.filter_by(\\n        name=resName).with_entities(\\n        Restaurants.id).first()[0]\\n\\n    standardWageId=Standardwages.query.filter_by(\\n        role=role).with_entities(Standardwages.id).first()[0]\\n\\n#     roleDict[role]=Employeeroles(role=role,\\n#         wage=wage,tipPercentage=tipPercentage,restaurantId=restaurantId,\\n#         createdBy=userId, standardWageId=standardWageId,\\n#         empId=empId)\\n    \\n    vars()[\\'role\\' + str(i)]=Employeeroles(role=role,\\n        wage=wage,tipPercentage=tipPercentage,restaurantId=restaurantId,\\n        createdBy=userId, standardWageId=standardWageId,\\n        empId=empId)\\n    \\n#     role+\"{}\".format(i)=Employeeroles(role=role,\\n#         wage=wage,tipPercentage=tipPercentage,restaurantId=restaurantId,\\n#         createdBy=userId, standardWageId=standardWageId,\\n#         empId=empId)\\n    \\nprint(\\'role0\\',role0)\\n# roleList=list(roleDict.values())\\n# print(roleList)',\n",
       "  'resName=\\'Hops N Shine\\'\\nempId=1\\nuserId=1\\n\\nterms=[]\\n\\nfor role, i in zip(roleDict,range(len(roleDict))):\\n    print(\\'role\\',role,\\'i\\' i)\\n    wage=Standardwages.query.filter(\\n        Standardwages.role==role).with_entities(Standardwages.wage).first()[0]\\n\\n    tipPercentage=Standardwages.query.filter(\\n        Standardwages.role==role).with_entities(\\n        Standardwages.tipPercentage).first()[0]\\n\\n    restaurantId=Restaurants.query.filter_by(\\n        name=resName).with_entities(\\n        Restaurants.id).first()[0]\\n\\n    standardWageId=Standardwages.query.filter_by(\\n        role=role).with_entities(Standardwages.id).first()[0]\\n\\n#     roleDict[role]=Employeeroles(role=role,\\n#         wage=wage,tipPercentage=tipPercentage,restaurantId=restaurantId,\\n#         createdBy=userId, standardWageId=standardWageId,\\n#         empId=empId)\\n    \\n    vars()[\\'role\\' + str(i)]=Employeeroles(role=role,\\n        wage=wage,tipPercentage=tipPercentage,restaurantId=restaurantId,\\n        createdBy=userId, standardWageId=standardWageId,\\n        empId=empId)\\n    \\n#     role+\"{}\".format(i)=Employeeroles(role=role,\\n#         wage=wage,tipPercentage=tipPercentage,restaurantId=restaurantId,\\n#         createdBy=userId, standardWageId=standardWageId,\\n#         empId=empId)\\n    \\nprint(\\'role0\\',role0)\\n# roleList=list(roleDict.values())\\n# print(roleList)',\n",
       "  'resName=\\'Hops N Shine\\'\\nempId=1\\nuserId=1\\n\\nterms=[]\\n\\nfor role, i in zip(roleDict,range(len(roleDict))):\\n    print(\\'role\\',role,\\'i\\', i)\\n    wage=Standardwages.query.filter(\\n        Standardwages.role==role).with_entities(Standardwages.wage).first()[0]\\n\\n    tipPercentage=Standardwages.query.filter(\\n        Standardwages.role==role).with_entities(\\n        Standardwages.tipPercentage).first()[0]\\n\\n    restaurantId=Restaurants.query.filter_by(\\n        name=resName).with_entities(\\n        Restaurants.id).first()[0]\\n\\n    standardWageId=Standardwages.query.filter_by(\\n        role=role).with_entities(Standardwages.id).first()[0]\\n\\n#     roleDict[role]=Employeeroles(role=role,\\n#         wage=wage,tipPercentage=tipPercentage,restaurantId=restaurantId,\\n#         createdBy=userId, standardWageId=standardWageId,\\n#         empId=empId)\\n    \\n    vars()[\\'role\\' + str(i)]=Employeeroles(role=role,\\n        wage=wage,tipPercentage=tipPercentage,restaurantId=restaurantId,\\n        createdBy=userId, standardWageId=standardWageId,\\n        empId=empId)\\n    \\n#     role+\"{}\".format(i)=Employeeroles(role=role,\\n#         wage=wage,tipPercentage=tipPercentage,restaurantId=restaurantId,\\n#         createdBy=userId, standardWageId=standardWageId,\\n#         empId=empId)\\n    \\nprint(\\'role0\\',role0)\\n# roleList=list(roleDict.values())\\n# print(roleList)',\n",
       "  'resName=\\'Hops N Shine\\'\\nempId=1\\nuserId=1\\n\\nterms=[]\\n\\nfor role, i in zip(roleDict,range(len(roleDict))):\\n    print(\\'role\\',role,\\'i\\', i)\\n#     wage=Standardwages.query.filter(\\n#         Standardwages.role==role).with_entities(Standardwages.wage).first()[0]\\n\\n    tipPercentage=Standardwages.query.filter(\\n        Standardwages.role==role).with_entities(\\n        Standardwages.tipPercentage).first()[0]\\n\\n    restaurantId=Restaurants.query.filter_by(\\n        name=resName).with_entities(\\n        Restaurants.id).first()[0]\\n\\n    standardWageId=Standardwages.query.filter_by(\\n        role=role).with_entities(Standardwages.id).first()[0]\\n\\n#     roleDict[role]=Employeeroles(role=role,\\n#         wage=wage,tipPercentage=tipPercentage,restaurantId=restaurantId,\\n#         createdBy=userId, standardWageId=standardWageId,\\n#         empId=empId)\\n    \\n    vars()[\\'role\\' + str(i)]=Employeeroles(role=role,\\n        wage=wage,tipPercentage=tipPercentage,restaurantId=restaurantId,\\n        createdBy=userId, standardWageId=standardWageId,\\n        empId=empId)\\n    \\n#     role+\"{}\".format(i)=Employeeroles(role=role,\\n#         wage=wage,tipPercentage=tipPercentage,restaurantId=restaurantId,\\n#         createdBy=userId, standardWageId=standardWageId,\\n#         empId=empId)\\n    \\nprint(\\'role0\\',role0)\\n# roleList=list(roleDict.values())\\n# print(roleList)',\n",
       "  'resName=\\'Hops N Shine\\'\\nempId=1\\nuserId=1\\n\\nterms=[]\\n\\nfor role, i in zip(roleDict,range(len(roleDict))):\\n    print(\\'role\\',role,\\'i\\', i)\\n    wage=Standardwages.query.filter(Standardwages.role==role).with_entities(Standardwages.wage).first()[0]\\n\\n    tipPercentage=Standardwages.query.filter(\\n        Standardwages.role==role).with_entities(\\n        Standardwages.tipPercentage).first()[0]\\n\\n    restaurantId=Restaurants.query.filter_by(\\n        name=resName).with_entities(\\n        Restaurants.id).first()[0]\\n\\n    standardWageId=Standardwages.query.filter_by(\\n        role=role).with_entities(Standardwages.id).first()[0]\\n\\n#     roleDict[role]=Employeeroles(role=role,\\n#         wage=wage,tipPercentage=tipPercentage,restaurantId=restaurantId,\\n#         createdBy=userId, standardWageId=standardWageId,\\n#         empId=empId)\\n    \\n    vars()[\\'role\\' + str(i)]=Employeeroles(role=role,\\n        wage=wage,tipPercentage=tipPercentage,restaurantId=restaurantId,\\n        createdBy=userId, standardWageId=standardWageId,\\n        empId=empId)\\n    \\n#     role+\"{}\".format(i)=Employeeroles(role=role,\\n#         wage=wage,tipPercentage=tipPercentage,restaurantId=restaurantId,\\n#         createdBy=userId, standardWageId=standardWageId,\\n#         empId=empId)\\n    \\nprint(\\'role0\\',role0)\\n# roleList=list(roleDict.values())\\n# print(roleList)',\n",
       "  'from dmrApp import create_app, db\\nfrom dmrApp.models import Dmrs, Employees, Employeeroles, Post, Restaurants, Shifts, \\\\\\n    User, Standardwages\\nfrom sqlalchemy import func\\nproxyApp=create_app()\\nctx=proxyApp.app_context()\\nctx.push()',\n",
       "  'resName=\\'Hops N Shine\\'\\nempId=1\\nuserId=1\\n\\nterms=[]\\n\\nfor role, i in zip(roleDict,range(len(roleDict))):\\n    print(\\'role\\',role,\\'i\\', i)\\n    wage=Standardwages.query.filter(Standardwages.role==role).with_entities(Standardwages.wage).first()[0]\\n\\n    tipPercentage=Standardwages.query.filter(\\n        Standardwages.role==role).with_entities(\\n        Standardwages.tipPercentage).first()[0]\\n\\n    restaurantId=Restaurants.query.filter_by(\\n        name=resName).with_entities(\\n        Restaurants.id).first()[0]\\n\\n    standardWageId=Standardwages.query.filter_by(\\n        role=role).with_entities(Standardwages.id).first()[0]\\n\\n#     roleDict[role]=Employeeroles(role=role,\\n#         wage=wage,tipPercentage=tipPercentage,restaurantId=restaurantId,\\n#         createdBy=userId, standardWageId=standardWageId,\\n#         empId=empId)\\n    \\n    vars()[\\'role\\' + str(i)]=Employeeroles(role=role,\\n        wage=wage,tipPercentage=tipPercentage,restaurantId=restaurantId,\\n        createdBy=userId, standardWageId=standardWageId,\\n        empId=empId)\\n    \\n#     role+\"{}\".format(i)=Employeeroles(role=role,\\n#         wage=wage,tipPercentage=tipPercentage,restaurantId=restaurantId,\\n#         createdBy=userId, standardWageId=standardWageId,\\n#         empId=empId)\\n    \\nprint(\\'role0\\',role0)\\n# roleList=list(roleDict.values())\\n# print(roleList)',\n",
       "  'role1',\n",
       "  \"resName='Hops N Shine'\\nempId=1\\nuserId=1\\n\\nterms=[]\\n\\nfor role, i in zip(roleDict,range(len(roleDict))):\\n    print('role',role,'i', i)\\n    wage=Standardwages.query.filter(Standardwages.role==role).with_entities(Standardwages.wage).first()[0]\\n\\n    tipPercentage=Standardwages.query.filter(\\n        Standardwages.role==role).with_entities(\\n        Standardwages.tipPercentage).first()[0]\\n\\n    restaurantId=Restaurants.query.filter_by(\\n        name=resName).with_entities(\\n        Restaurants.id).first()[0]\\n\\n    standardWageId=Standardwages.query.filter_by(\\n        role=role).with_entities(Standardwages.id).first()[0]\\n\\n    \\n    vars()['role' + str(i)]=Employeeroles(role=role,\\n        wage=wage,tipPercentage=tipPercentage,restaurantId=restaurantId,\\n        createdBy=userId, standardWageId=standardWageId,\\n        empId=empId)\\n    \\n    terms.append(vars()['role' + str(i)])\\n\\n    \\nprint('role0',role0)\\n# roleList=list(roleDict.values())\\n# print(roleList)\",\n",
       "  'terms',\n",
       "  'vars()'],\n",
       " 'Out': {9: <flask_sqlalchemy.BaseQuery at 0x13cb22586a0>,\n",
       "  10: (12),\n",
       "  11: (1),\n",
       "  12: (12),\n",
       "  13: 12,\n",
       "  20: {'csrf_token': 'IjBmNWY0YmUxNWEyYzgwYmUxMmM4MzUxYmRkZDY0OWZhMjBlZDczNGEi.X-jD2g.m5FskoIxFq9NAmrTIZKA-cwLxxQ',\n",
       "   'deleteEmpId': '',\n",
       "   'newEmployeeName': 'Nick Rodriguez',\n",
       "   'resName': 'Tysons Biergarten',\n",
       "   'bartender': 'bartender',\n",
       "   'security': 'security',\n",
       "   'driver': 'driver',\n",
       "   'kitchen': 'kitchen',\n",
       "   'addEmployee': 'True'},\n",
       "  23: {'bartender': Employeeroles('None','bartender','stdWageFlag: None','Hops N Shine'),\n",
       "   'security': Employeeroles('None','security','stdWageFlag: None','Hops N Shine'),\n",
       "   'driver': Employeeroles('None','driver','stdWageFlag: None','Hops N Shine'),\n",
       "   'kitchen': Employeeroles('None','kitchen','stdWageFlag: None','Hops N Shine')},\n",
       "  41: Employeeroles('None','security','stdWageFlag: None','Hops N Shine'),\n",
       "  43: [Employeeroles('None','bartender','stdWageFlag: None','Hops N Shine'),\n",
       "   Employeeroles('None','security','stdWageFlag: None','Hops N Shine'),\n",
       "   Employeeroles('None','driver','stdWageFlag: None','Hops N Shine'),\n",
       "   Employeeroles('None','kitchen','stdWageFlag: None','Hops N Shine')]},\n",
       " 'get_ipython': <bound method InteractiveShell.get_ipython of <ipykernel.zmqshell.ZMQInteractiveShell object at 0x0000013CAEBE1F70>>,\n",
       " 'exit': <IPython.core.autocall.ZMQExitAutocall at 0x13caec8e9d0>,\n",
       " 'quit': <IPython.core.autocall.ZMQExitAutocall at 0x13caec8e9d0>,\n",
       " '_': [Employeeroles('None','bartender','stdWageFlag: None','Hops N Shine'),\n",
       "  Employeeroles('None','security','stdWageFlag: None','Hops N Shine'),\n",
       "  Employeeroles('None','driver','stdWageFlag: None','Hops N Shine'),\n",
       "  Employeeroles('None','kitchen','stdWageFlag: None','Hops N Shine')],\n",
       " '__': Employeeroles('None','security','stdWageFlag: None','Hops N Shine'),\n",
       " '___': {'bartender': Employeeroles('None','bartender','stdWageFlag: None','Hops N Shine'),\n",
       "  'security': Employeeroles('None','security','stdWageFlag: None','Hops N Shine'),\n",
       "  'driver': Employeeroles('None','driver','stdWageFlag: None','Hops N Shine'),\n",
       "  'kitchen': Employeeroles('None','kitchen','stdWageFlag: None','Hops N Shine')},\n",
       " '_i': 'terms',\n",
       " '_ii': \"resName='Hops N Shine'\\nempId=1\\nuserId=1\\n\\nterms=[]\\n\\nfor role, i in zip(roleDict,range(len(roleDict))):\\n    print('role',role,'i', i)\\n    wage=Standardwages.query.filter(Standardwages.role==role).with_entities(Standardwages.wage).first()[0]\\n\\n    tipPercentage=Standardwages.query.filter(\\n        Standardwages.role==role).with_entities(\\n        Standardwages.tipPercentage).first()[0]\\n\\n    restaurantId=Restaurants.query.filter_by(\\n        name=resName).with_entities(\\n        Restaurants.id).first()[0]\\n\\n    standardWageId=Standardwages.query.filter_by(\\n        role=role).with_entities(Standardwages.id).first()[0]\\n\\n    \\n    vars()['role' + str(i)]=Employeeroles(role=role,\\n        wage=wage,tipPercentage=tipPercentage,restaurantId=restaurantId,\\n        createdBy=userId, standardWageId=standardWageId,\\n        empId=empId)\\n    \\n    terms.append(vars()['role' + str(i)])\\n\\n    \\nprint('role0',role0)\\n# roleList=list(roleDict.values())\\n# print(roleList)\",\n",
       " '_iii': 'role1',\n",
       " '_i1': 'from dmrApp import create_app, db\\nfrom dmrApp.models import Dmrs, Employees, Employeeroles, Post, Restaurants, Shifts, \\\\\\n    User, Standardwages\\nfrom sqlalchemy import func\\nproxyApp=create_app()\\nctx=proxyApp.app_context()\\nctx.push()',\n",
       " 'create_app': <function dmrApp.create_app(config_class=<class 'dmrApp.config.Config'>)>,\n",
       " 'db': <SQLAlchemy engine=sqlite:///D:\\databases\\dmrApp.db>,\n",
       " 'Dmrs': dmrApp.models.Dmrs,\n",
       " 'Employees': dmrApp.models.Employees,\n",
       " 'Employeeroles': dmrApp.models.Employeeroles,\n",
       " 'Post': dmrApp.models.Post,\n",
       " 'Restaurants': dmrApp.models.Restaurants,\n",
       " 'Shifts': dmrApp.models.Shifts,\n",
       " 'User': dmrApp.models.User,\n",
       " 'Standardwages': dmrApp.models.Standardwages,\n",
       " 'func': <sqlalchemy.sql.functions._FunctionGenerator at 0x13caf2e2b20>,\n",
       " 'proxyApp': <Flask 'dmrApp'>,\n",
       " 'ctx': <flask.ctx.AppContext at 0x13cb2386a00>,\n",
       " '_i2': 'empId=db.session.query(Employees,func.max(Employees.id)).with_entities(Employees.id).first()[0]\\nprint(empId)',\n",
       " 'empId': 1,\n",
       " '_i3': 'empId=db.session.query(Employees).with_entities(Employees.id).all()\\nprint(empId)',\n",
       " '_i4': 'empId=db.session.query(Employees,func.min(Employees.id)).with_entities(Employees.id).first()[0]\\nprint(empId)',\n",
       " '_i5': 'empId=db.session.query(func.max(Employees.id)).with_entities(Employees.id).first()[0]\\nprint(empId)',\n",
       " '_i6': 'empId=db.session.query(func.max(Employees.id)).with_entities(Employees.id).all()[0]\\nprint(empId)',\n",
       " '_i7': 'empId=db.session.query(Employees,func.max(Employees.id)).with_entities(Employees.id).all()[0]\\nprint(empId)',\n",
       " '_i8': 'session.query(func.max(Employees.id))',\n",
       " '_i9': 'db.session.query(func.max(Employees.id))',\n",
       " '_9': <flask_sqlalchemy.BaseQuery at 0x13cb22586a0>,\n",
       " '_i10': 'db.session.query(func.max(Employees.id)).first()',\n",
       " '_10': (12),\n",
       " '_i11': 'db.session.query(func.max(Employees.id)).with_entities(Employees.id).first()',\n",
       " '_11': (1),\n",
       " '_i12': 'db.session.query(func.max(Employees.id)).first()',\n",
       " '_12': (12),\n",
       " '_i13': 'db.session.query(func.max(Employees.id)).first()[0]',\n",
       " '_13': 12,\n",
       " '_i14': \"import json\\nr=read(json.loads('formDict.txt'),'r')\",\n",
       " 'json': <module 'json' from 'C:\\\\tools\\\\miniconda3\\\\envs\\\\dmrAppConda\\\\lib\\\\json\\\\__init__.py'>,\n",
       " '_i15': \"import json\\nf=read('formDict.txt','r')\\nf.write(json.laods(formDict2))\\nf.close()\",\n",
       " '_i16': \"import json\\nf=open('formDict.txt','r')\\nf.write(json.laods(formDict2))\\nf.close()\",\n",
       " 'f': <_io.TextIOWrapper name='formDict.txt' mode='r' encoding='cp1252'>,\n",
       " '_i17': \"import json\\nf=open('formDict.txt','r')\\nf.write(json.loads(formDict2))\\nf.close()\",\n",
       " '_i18': 'import json',\n",
       " '_i19': \"with open('formDict.txt','r') as f:\\n    formDict2 = json.load(f)\",\n",
       " 'formDict2': {'csrf_token': 'IjBmNWY0YmUxNWEyYzgwYmUxMmM4MzUxYmRkZDY0OWZhMjBlZDczNGEi.X-jD2g.m5FskoIxFq9NAmrTIZKA-cwLxxQ',\n",
       "  'deleteEmpId': '',\n",
       "  'newEmployeeName': 'Nick Rodriguez',\n",
       "  'resName': 'Tysons Biergarten',\n",
       "  'bartender': 'bartender',\n",
       "  'security': 'security',\n",
       "  'driver': 'driver',\n",
       "  'kitchen': 'kitchen',\n",
       "  'addEmployee': 'True'},\n",
       " '_i20': 'formDict2',\n",
       " '_20': {'csrf_token': 'IjBmNWY0YmUxNWEyYzgwYmUxMmM4MzUxYmRkZDY0OWZhMjBlZDczNGEi.X-jD2g.m5FskoIxFq9NAmrTIZKA-cwLxxQ',\n",
       "  'deleteEmpId': '',\n",
       "  'newEmployeeName': 'Nick Rodriguez',\n",
       "  'resName': 'Tysons Biergarten',\n",
       "  'bartender': 'bartender',\n",
       "  'security': 'security',\n",
       "  'driver': 'driver',\n",
       "  'kitchen': 'kitchen',\n",
       "  'addEmployee': 'True'},\n",
       " '_i21': \"roleList=['bartender', 'apprentice','security','driver','kitchen']\\n\\nroleDict={key:'' for key in roleList if key in formDict}\\n\\nif 'bartender' in roleDict and 'apprentice' in roleDict:\\n    del roleDict['apprentice']\",\n",
       " 'roleList': [Employeeroles('None','bartender','stdWageFlag: None','Hops N Shine'),\n",
       "  Employeeroles('None','security','stdWageFlag: None','Hops N Shine'),\n",
       "  Employeeroles('None','driver','stdWageFlag: None','Hops N Shine'),\n",
       "  Employeeroles('None','kitchen','stdWageFlag: None','Hops N Shine')],\n",
       " '_i22': \"roleList=['bartender', 'apprentice','security','driver','kitchen']\\n\\nroleDict={key:'' for key in roleList if key in formDict2}\\n\\nif 'bartender' in roleDict and 'apprentice' in roleDict:\\n    del roleDict['apprentice']\",\n",
       " 'roleDict': {'bartender': Employeeroles('None','bartender','stdWageFlag: None','Hops N Shine'),\n",
       "  'security': Employeeroles('None','security','stdWageFlag: None','Hops N Shine'),\n",
       "  'driver': Employeeroles('None','driver','stdWageFlag: None','Hops N Shine'),\n",
       "  'kitchen': Employeeroles('None','kitchen','stdWageFlag: None','Hops N Shine')},\n",
       " '_i23': 'roleDict',\n",
       " '_23': {'bartender': Employeeroles('None','bartender','stdWageFlag: None','Hops N Shine'),\n",
       "  'security': Employeeroles('None','security','stdWageFlag: None','Hops N Shine'),\n",
       "  'driver': Employeeroles('None','driver','stdWageFlag: None','Hops N Shine'),\n",
       "  'kitchen': Employeeroles('None','kitchen','stdWageFlag: None','Hops N Shine')},\n",
       " '_i24': 'for role in roleDict:\\n    wage=Standardwages.query.filter(\\n        Standardwages.role==role).with_entities(Standardwages.wage).first()[0]\\n\\n    tipPercentage=Standardwages.query.filter(\\n        Standardwages.role==role).with_entities(\\n        Standardwages.tipPercentage).first()[0]\\n\\n    restaurantId=Restaurants.query.filter_by(\\n        name=resName).with_entities(\\n        Restaurants.id).first()[0]\\n\\n    standardWageId=Standardwages.query.filter_by(\\n        role=role).with_entities(Standardwages.id).first()[0]\\n\\n    roleDict[role]=Employeeroles(role=role,\\n        wage=wage,tipPercentage=tipPercentage,restaurantId=restaurantId,\\n        createdBy=empId, standardWageId=standardWageId,\\n        empId=empId)\\n    print(roleDict[role])',\n",
       " 'role': 'kitchen',\n",
       " 'wage': 12.0,\n",
       " 'tipPercentage': 0.0,\n",
       " '_i25': \"resName='restaurant'\\nempId=1\\nuserId=1\\nfor role in roleDict:\\n    wage=Standardwages.query.filter(\\n        Standardwages.role==role).with_entities(Standardwages.wage).first()[0]\\n\\n    tipPercentage=Standardwages.query.filter(\\n        Standardwages.role==role).with_entities(\\n        Standardwages.tipPercentage).first()[0]\\n\\n    restaurantId=Restaurants.query.filter_by(\\n        name=resName).with_entities(\\n        Restaurants.id).first()[0]\\n\\n    standardWageId=Standardwages.query.filter_by(\\n        role=role).with_entities(Standardwages.id).first()[0]\\n\\n    roleDict[role]=Employeeroles(role=role,\\n        wage=wage,tipPercentage=tipPercentage,restaurantId=restaurantId,\\n        createdBy=userId, standardWageId=standardWageId,\\n        empId=empId)\\n    print(roleDict[role])\",\n",
       " 'resName': 'Hops N Shine',\n",
       " 'userId': 1,\n",
       " '_i26': \"resName='Hops N Shine'\\nempId=1\\nuserId=1\\nfor role in roleDict:\\n    wage=Standardwages.query.filter(\\n        Standardwages.role==role).with_entities(Standardwages.wage).first()[0]\\n\\n    tipPercentage=Standardwages.query.filter(\\n        Standardwages.role==role).with_entities(\\n        Standardwages.tipPercentage).first()[0]\\n\\n    restaurantId=Restaurants.query.filter_by(\\n        name=resName).with_entities(\\n        Restaurants.id).first()[0]\\n\\n    standardWageId=Standardwages.query.filter_by(\\n        role=role).with_entities(Standardwages.id).first()[0]\\n\\n    roleDict[role]=Employeeroles(role=role,\\n        wage=wage,tipPercentage=tipPercentage,restaurantId=restaurantId,\\n        createdBy=userId, standardWageId=standardWageId,\\n        empId=empId)\\n    print(roleDict[role])\",\n",
       " 'restaurantId': 7,\n",
       " 'standardWageId': 5,\n",
       " '_i27': \"resName='Hops N Shine'\\nempId=1\\nuserId=1\\nfor role in roleDict:\\n    wage=Standardwages.query.filter(\\n        Standardwages.role==role).with_entities(Standardwages.wage).first()[0]\\n\\n    tipPercentage=Standardwages.query.filter(\\n        Standardwages.role==role).with_entities(\\n        Standardwages.tipPercentage).first()[0]\\n\\n    restaurantId=Restaurants.query.filter_by(\\n        name=resName).with_entities(\\n        Restaurants.id).first()[0]\\n\\n    standardWageId=Standardwages.query.filter_by(\\n        role=role).with_entities(Standardwages.id).first()[0]\\n\\n    roleDict[role]=Employeeroles(role=role,\\n        wage=wage,tipPercentage=tipPercentage,restaurantId=restaurantId,\\n        createdBy=userId, standardWageId=standardWageId,\\n        empId=empId)\\n    roleList=list(roleDict.values())\\n    print(roleList)\",\n",
       " '_i28': \"resName='Hops N Shine'\\nempId=1\\nuserId=1\\nfor role in roleDict:\\n    wage=Standardwages.query.filter(\\n        Standardwages.role==role).with_entities(Standardwages.wage).first()[0]\\n\\n    tipPercentage=Standardwages.query.filter(\\n        Standardwages.role==role).with_entities(\\n        Standardwages.tipPercentage).first()[0]\\n\\n    restaurantId=Restaurants.query.filter_by(\\n        name=resName).with_entities(\\n        Restaurants.id).first()[0]\\n\\n    standardWageId=Standardwages.query.filter_by(\\n        role=role).with_entities(Standardwages.id).first()[0]\\n\\n    roleDict[role]=Employeeroles(role=role,\\n        wage=wage,tipPercentage=tipPercentage,restaurantId=restaurantId,\\n        createdBy=userId, standardWageId=standardWageId,\\n        empId=empId)\\n\\nroleList=list(roleDict.values())\\nprint(roleList)\",\n",
       " '_i29': 'resName=\\'Hops N Shine\\'\\nempId=1\\nuserId=1\\n\\nfor role, i in zip(roleDict,range(len(roleDict))):\\n    wage=Standardwages.query.filter(\\n        Standardwages.role==role).with_entities(Standardwages.wage).first()[0]\\n\\n    tipPercentage=Standardwages.query.filter(\\n        Standardwages.role==role).with_entities(\\n        Standardwages.tipPercentage).first()[0]\\n\\n    restaurantId=Restaurants.query.filter_by(\\n        name=resName).with_entities(\\n        Restaurants.id).first()[0]\\n\\n    standardWageId=Standardwages.query.filter_by(\\n        role=role).with_entities(Standardwages.id).first()[0]\\n\\n#     roleDict[role]=Employeeroles(role=role,\\n#         wage=wage,tipPercentage=tipPercentage,restaurantId=restaurantId,\\n#         createdBy=userId, standardWageId=standardWageId,\\n#         empId=empId)\\n    \\n    \"role{i}\".format()=Employeeroles(role=role,\\n        wage=wage,tipPercentage=tipPercentage,restaurantId=restaurantId,\\n        createdBy=userId, standardWageId=standardWageId,\\n        empId=empId)\\n    \\nprint(\\'role0\\',role0)\\n# roleList=list(roleDict.values())\\n# print(roleList)',\n",
       " '_i30': 'resName=\\'Hops N Shine\\'\\nempId=1\\nuserId=1\\n\\n\\n\\nfor role, i in zip(roleDict,range(len(roleDict))):\\n    wage=Standardwages.query.filter(\\n        Standardwages.role==role).with_entities(Standardwages.wage).first()[0]\\n\\n    tipPercentage=Standardwages.query.filter(\\n        Standardwages.role==role).with_entities(\\n        Standardwages.tipPercentage).first()[0]\\n\\n    restaurantId=Restaurants.query.filter_by(\\n        name=resName).with_entities(\\n        Restaurants.id).first()[0]\\n\\n    standardWageId=Standardwages.query.filter_by(\\n        role=role).with_entities(Standardwages.id).first()[0]\\n\\n#     roleDict[role]=Employeeroles(role=role,\\n#         wage=wage,tipPercentage=tipPercentage,restaurantId=restaurantId,\\n#         createdBy=userId, standardWageId=standardWageId,\\n#         empId=empId)\\n    \\n    \"role{}\".format(i)=Employeeroles(role=role,\\n        wage=wage,tipPercentage=tipPercentage,restaurantId=restaurantId,\\n        createdBy=userId, standardWageId=standardWageId,\\n        empId=empId)\\n    \\nprint(\\'role0\\',role0)\\n# roleList=list(roleDict.values())\\n# print(roleList)',\n",
       " '_i31': 'resName=\\'Hops N Shine\\'\\nempId=1\\nuserId=1\\n\\nterms=[]\\n\\nfor role, i in zip(roleDict,range(len(roleDict))):\\n    wage=Standardwages.query.filter(\\n        Standardwages.role==role).with_entities(Standardwages.wage).first()[0]\\n\\n    tipPercentage=Standardwages.query.filter(\\n        Standardwages.role==role).with_entities(\\n        Standardwages.tipPercentage).first()[0]\\n\\n    restaurantId=Restaurants.query.filter_by(\\n        name=resName).with_entities(\\n        Restaurants.id).first()[0]\\n\\n    standardWageId=Standardwages.query.filter_by(\\n        role=role).with_entities(Standardwages.id).first()[0]\\n\\n#     roleDict[role]=Employeeroles(role=role,\\n#         wage=wage,tipPercentage=tipPercentage,restaurantId=restaurantId,\\n#         createdBy=userId, standardWageId=standardWageId,\\n#         empId=empId)\\n    \\n    terms[\"role{}\".format(i)]=Employeeroles(role=role,\\n        wage=wage,tipPercentage=tipPercentage,restaurantId=restaurantId,\\n        createdBy=userId, standardWageId=standardWageId,\\n        empId=empId)\\n    \\nprint(\\'role0\\',role0)\\n# roleList=list(roleDict.values())\\n# print(roleList)',\n",
       " 'terms': [Employeeroles('None','bartender','stdWageFlag: None','Hops N Shine'),\n",
       "  Employeeroles('None','security','stdWageFlag: None','Hops N Shine'),\n",
       "  Employeeroles('None','driver','stdWageFlag: None','Hops N Shine'),\n",
       "  Employeeroles('None','kitchen','stdWageFlag: None','Hops N Shine')],\n",
       " 'i': 3,\n",
       " '_i32': '#before ending\\nctx.pop()',\n",
       " '_i33': 'resName=\\'Hops N Shine\\'\\nempId=1\\nuserId=1\\n\\nterms=[]\\n\\nfor role, i in zip(roleDict,range(len(roleDict))):\\n    wage=Standardwages.query.filter(\\n        Standardwages.role==role).with_entities(Standardwages.wage).first()[0]\\n\\n    tipPercentage=Standardwages.query.filter(\\n        Standardwages.role==role).with_entities(\\n        Standardwages.tipPercentage).first()[0]\\n\\n    restaurantId=Restaurants.query.filter_by(\\n        name=resName).with_entities(\\n        Restaurants.id).first()[0]\\n\\n    standardWageId=Standardwages.query.filter_by(\\n        role=role).with_entities(Standardwages.id).first()[0]\\n\\n#     roleDict[role]=Employeeroles(role=role,\\n#         wage=wage,tipPercentage=tipPercentage,restaurantId=restaurantId,\\n#         createdBy=userId, standardWageId=standardWageId,\\n#         empId=empId)\\n    \\n    role+\"{}\".format(i)=Employeeroles(role=role,\\n        wage=wage,tipPercentage=tipPercentage,restaurantId=restaurantId,\\n        createdBy=userId, standardWageId=standardWageId,\\n        empId=empId)\\n    \\nprint(\\'role0\\',role0)\\n# roleList=list(roleDict.values())\\n# print(roleList)',\n",
       " '_i34': 'resName=\\'Hops N Shine\\'\\nempId=1\\nuserId=1\\n\\nterms=[]\\n\\nfor role, i in zip(roleDict,range(len(roleDict))):\\n    wage=Standardwages.query.filter(\\n        Standardwages.role==role).with_entities(Standardwages.wage).first()[0]\\n\\n    tipPercentage=Standardwages.query.filter(\\n        Standardwages.role==role).with_entities(\\n        Standardwages.tipPercentage).first()[0]\\n\\n    restaurantId=Restaurants.query.filter_by(\\n        name=resName).with_entities(\\n        Restaurants.id).first()[0]\\n\\n    standardWageId=Standardwages.query.filter_by(\\n        role=role).with_entities(Standardwages.id).first()[0]\\n\\n#     roleDict[role]=Employeeroles(role=role,\\n#         wage=wage,tipPercentage=tipPercentage,restaurantId=restaurantId,\\n#         createdBy=userId, standardWageId=standardWageId,\\n#         empId=empId)\\n    \\n    vars()[\\'role\\' + str(i)]=Employeeroles(role=role,\\n        wage=wage,tipPercentage=tipPercentage,restaurantId=restaurantId,\\n        createdBy=userId, standardWageId=standardWageId,\\n        empId=empId)\\n    \\n#     role+\"{}\".format(i)=Employeeroles(role=role,\\n#         wage=wage,tipPercentage=tipPercentage,restaurantId=restaurantId,\\n#         createdBy=userId, standardWageId=standardWageId,\\n#         empId=empId)\\n    \\nprint(\\'role0\\',role0)\\n# roleList=list(roleDict.values())\\n# print(roleList)',\n",
       " '_i35': 'resName=\\'Hops N Shine\\'\\nempId=1\\nuserId=1\\n\\nterms=[]\\n\\nfor role, i in zip(roleDict,range(len(roleDict))):\\n    print(\\'role\\',role,\\'i\\' i)\\n    wage=Standardwages.query.filter(\\n        Standardwages.role==role).with_entities(Standardwages.wage).first()[0]\\n\\n    tipPercentage=Standardwages.query.filter(\\n        Standardwages.role==role).with_entities(\\n        Standardwages.tipPercentage).first()[0]\\n\\n    restaurantId=Restaurants.query.filter_by(\\n        name=resName).with_entities(\\n        Restaurants.id).first()[0]\\n\\n    standardWageId=Standardwages.query.filter_by(\\n        role=role).with_entities(Standardwages.id).first()[0]\\n\\n#     roleDict[role]=Employeeroles(role=role,\\n#         wage=wage,tipPercentage=tipPercentage,restaurantId=restaurantId,\\n#         createdBy=userId, standardWageId=standardWageId,\\n#         empId=empId)\\n    \\n    vars()[\\'role\\' + str(i)]=Employeeroles(role=role,\\n        wage=wage,tipPercentage=tipPercentage,restaurantId=restaurantId,\\n        createdBy=userId, standardWageId=standardWageId,\\n        empId=empId)\\n    \\n#     role+\"{}\".format(i)=Employeeroles(role=role,\\n#         wage=wage,tipPercentage=tipPercentage,restaurantId=restaurantId,\\n#         createdBy=userId, standardWageId=standardWageId,\\n#         empId=empId)\\n    \\nprint(\\'role0\\',role0)\\n# roleList=list(roleDict.values())\\n# print(roleList)',\n",
       " '_i36': 'resName=\\'Hops N Shine\\'\\nempId=1\\nuserId=1\\n\\nterms=[]\\n\\nfor role, i in zip(roleDict,range(len(roleDict))):\\n    print(\\'role\\',role,\\'i\\', i)\\n    wage=Standardwages.query.filter(\\n        Standardwages.role==role).with_entities(Standardwages.wage).first()[0]\\n\\n    tipPercentage=Standardwages.query.filter(\\n        Standardwages.role==role).with_entities(\\n        Standardwages.tipPercentage).first()[0]\\n\\n    restaurantId=Restaurants.query.filter_by(\\n        name=resName).with_entities(\\n        Restaurants.id).first()[0]\\n\\n    standardWageId=Standardwages.query.filter_by(\\n        role=role).with_entities(Standardwages.id).first()[0]\\n\\n#     roleDict[role]=Employeeroles(role=role,\\n#         wage=wage,tipPercentage=tipPercentage,restaurantId=restaurantId,\\n#         createdBy=userId, standardWageId=standardWageId,\\n#         empId=empId)\\n    \\n    vars()[\\'role\\' + str(i)]=Employeeroles(role=role,\\n        wage=wage,tipPercentage=tipPercentage,restaurantId=restaurantId,\\n        createdBy=userId, standardWageId=standardWageId,\\n        empId=empId)\\n    \\n#     role+\"{}\".format(i)=Employeeroles(role=role,\\n#         wage=wage,tipPercentage=tipPercentage,restaurantId=restaurantId,\\n#         createdBy=userId, standardWageId=standardWageId,\\n#         empId=empId)\\n    \\nprint(\\'role0\\',role0)\\n# roleList=list(roleDict.values())\\n# print(roleList)',\n",
       " '_i37': 'resName=\\'Hops N Shine\\'\\nempId=1\\nuserId=1\\n\\nterms=[]\\n\\nfor role, i in zip(roleDict,range(len(roleDict))):\\n    print(\\'role\\',role,\\'i\\', i)\\n#     wage=Standardwages.query.filter(\\n#         Standardwages.role==role).with_entities(Standardwages.wage).first()[0]\\n\\n    tipPercentage=Standardwages.query.filter(\\n        Standardwages.role==role).with_entities(\\n        Standardwages.tipPercentage).first()[0]\\n\\n    restaurantId=Restaurants.query.filter_by(\\n        name=resName).with_entities(\\n        Restaurants.id).first()[0]\\n\\n    standardWageId=Standardwages.query.filter_by(\\n        role=role).with_entities(Standardwages.id).first()[0]\\n\\n#     roleDict[role]=Employeeroles(role=role,\\n#         wage=wage,tipPercentage=tipPercentage,restaurantId=restaurantId,\\n#         createdBy=userId, standardWageId=standardWageId,\\n#         empId=empId)\\n    \\n    vars()[\\'role\\' + str(i)]=Employeeroles(role=role,\\n        wage=wage,tipPercentage=tipPercentage,restaurantId=restaurantId,\\n        createdBy=userId, standardWageId=standardWageId,\\n        empId=empId)\\n    \\n#     role+\"{}\".format(i)=Employeeroles(role=role,\\n#         wage=wage,tipPercentage=tipPercentage,restaurantId=restaurantId,\\n#         createdBy=userId, standardWageId=standardWageId,\\n#         empId=empId)\\n    \\nprint(\\'role0\\',role0)\\n# roleList=list(roleDict.values())\\n# print(roleList)',\n",
       " '_i38': 'resName=\\'Hops N Shine\\'\\nempId=1\\nuserId=1\\n\\nterms=[]\\n\\nfor role, i in zip(roleDict,range(len(roleDict))):\\n    print(\\'role\\',role,\\'i\\', i)\\n    wage=Standardwages.query.filter(Standardwages.role==role).with_entities(Standardwages.wage).first()[0]\\n\\n    tipPercentage=Standardwages.query.filter(\\n        Standardwages.role==role).with_entities(\\n        Standardwages.tipPercentage).first()[0]\\n\\n    restaurantId=Restaurants.query.filter_by(\\n        name=resName).with_entities(\\n        Restaurants.id).first()[0]\\n\\n    standardWageId=Standardwages.query.filter_by(\\n        role=role).with_entities(Standardwages.id).first()[0]\\n\\n#     roleDict[role]=Employeeroles(role=role,\\n#         wage=wage,tipPercentage=tipPercentage,restaurantId=restaurantId,\\n#         createdBy=userId, standardWageId=standardWageId,\\n#         empId=empId)\\n    \\n    vars()[\\'role\\' + str(i)]=Employeeroles(role=role,\\n        wage=wage,tipPercentage=tipPercentage,restaurantId=restaurantId,\\n        createdBy=userId, standardWageId=standardWageId,\\n        empId=empId)\\n    \\n#     role+\"{}\".format(i)=Employeeroles(role=role,\\n#         wage=wage,tipPercentage=tipPercentage,restaurantId=restaurantId,\\n#         createdBy=userId, standardWageId=standardWageId,\\n#         empId=empId)\\n    \\nprint(\\'role0\\',role0)\\n# roleList=list(roleDict.values())\\n# print(roleList)',\n",
       " '_i39': 'from dmrApp import create_app, db\\nfrom dmrApp.models import Dmrs, Employees, Employeeroles, Post, Restaurants, Shifts, \\\\\\n    User, Standardwages\\nfrom sqlalchemy import func\\nproxyApp=create_app()\\nctx=proxyApp.app_context()\\nctx.push()',\n",
       " '_i40': 'resName=\\'Hops N Shine\\'\\nempId=1\\nuserId=1\\n\\nterms=[]\\n\\nfor role, i in zip(roleDict,range(len(roleDict))):\\n    print(\\'role\\',role,\\'i\\', i)\\n    wage=Standardwages.query.filter(Standardwages.role==role).with_entities(Standardwages.wage).first()[0]\\n\\n    tipPercentage=Standardwages.query.filter(\\n        Standardwages.role==role).with_entities(\\n        Standardwages.tipPercentage).first()[0]\\n\\n    restaurantId=Restaurants.query.filter_by(\\n        name=resName).with_entities(\\n        Restaurants.id).first()[0]\\n\\n    standardWageId=Standardwages.query.filter_by(\\n        role=role).with_entities(Standardwages.id).first()[0]\\n\\n#     roleDict[role]=Employeeroles(role=role,\\n#         wage=wage,tipPercentage=tipPercentage,restaurantId=restaurantId,\\n#         createdBy=userId, standardWageId=standardWageId,\\n#         empId=empId)\\n    \\n    vars()[\\'role\\' + str(i)]=Employeeroles(role=role,\\n        wage=wage,tipPercentage=tipPercentage,restaurantId=restaurantId,\\n        createdBy=userId, standardWageId=standardWageId,\\n        empId=empId)\\n    \\n#     role+\"{}\".format(i)=Employeeroles(role=role,\\n#         wage=wage,tipPercentage=tipPercentage,restaurantId=restaurantId,\\n#         createdBy=userId, standardWageId=standardWageId,\\n#         empId=empId)\\n    \\nprint(\\'role0\\',role0)\\n# roleList=list(roleDict.values())\\n# print(roleList)',\n",
       " 'role0': Employeeroles('None','bartender','stdWageFlag: None','Hops N Shine'),\n",
       " 'role1': Employeeroles('None','security','stdWageFlag: None','Hops N Shine'),\n",
       " 'role2': Employeeroles('None','driver','stdWageFlag: None','Hops N Shine'),\n",
       " 'role3': Employeeroles('None','kitchen','stdWageFlag: None','Hops N Shine'),\n",
       " '_i41': 'role1',\n",
       " '_41': Employeeroles('None','security','stdWageFlag: None','Hops N Shine'),\n",
       " '_i42': \"resName='Hops N Shine'\\nempId=1\\nuserId=1\\n\\nterms=[]\\n\\nfor role, i in zip(roleDict,range(len(roleDict))):\\n    print('role',role,'i', i)\\n    wage=Standardwages.query.filter(Standardwages.role==role).with_entities(Standardwages.wage).first()[0]\\n\\n    tipPercentage=Standardwages.query.filter(\\n        Standardwages.role==role).with_entities(\\n        Standardwages.tipPercentage).first()[0]\\n\\n    restaurantId=Restaurants.query.filter_by(\\n        name=resName).with_entities(\\n        Restaurants.id).first()[0]\\n\\n    standardWageId=Standardwages.query.filter_by(\\n        role=role).with_entities(Standardwages.id).first()[0]\\n\\n    \\n    vars()['role' + str(i)]=Employeeroles(role=role,\\n        wage=wage,tipPercentage=tipPercentage,restaurantId=restaurantId,\\n        createdBy=userId, standardWageId=standardWageId,\\n        empId=empId)\\n    \\n    terms.append(vars()['role' + str(i)])\\n\\n    \\nprint('role0',role0)\\n# roleList=list(roleDict.values())\\n# print(roleList)\",\n",
       " '_i43': 'terms',\n",
       " '_43': [Employeeroles('None','bartender','stdWageFlag: None','Hops N Shine'),\n",
       "  Employeeroles('None','security','stdWageFlag: None','Hops N Shine'),\n",
       "  Employeeroles('None','driver','stdWageFlag: None','Hops N Shine'),\n",
       "  Employeeroles('None','kitchen','stdWageFlag: None','Hops N Shine')],\n",
       " '_i44': 'vars()'}"
      ]
     },
     "execution_count": 44,
     "metadata": {},
     "output_type": "execute_result"
    }
   ],
   "source": [
    "vars()"
   ]
  },
  {
   "cell_type": "code",
   "execution_count": null,
   "metadata": {},
   "outputs": [],
   "source": []
  },
  {
   "cell_type": "code",
   "execution_count": null,
   "metadata": {},
   "outputs": [],
   "source": []
  },
  {
   "cell_type": "code",
   "execution_count": null,
   "metadata": {},
   "outputs": [],
   "source": [
    "def addEmpRolesUtil(empId, resName, roleDict, formDict):\n",
    "    \n",
    "    for role in roleDict:\n",
    "        wage=Standardwages.query.filter(\n",
    "            Standardwages.role==role).with_entities(Standardwages.wage).first()[0]\n",
    "        \n",
    "        tipPercentage=Standardwages.query.filter(\n",
    "            Standardwages.role==role).with_entities(\n",
    "            Standardwages.tipPercentage).first()[0]\n",
    "\n",
    "        restaurantId=Restaurants.query.filter_by(\n",
    "            name=resName).with_entities(\n",
    "            Restaurants.id).first()[0]\n",
    "        \n",
    "        standardWageId=Standardwages.query.filter_by(\n",
    "            role=role).with_entities(Standardwages.id).first()[0]\n",
    "        \n",
    "        roleDict[role]=Employeeroles(role=role,\n",
    "            wage=wage,tipPercentage=tipPercentage,restaurantId=restaurantId,\n",
    "            createdBy=empId, standardWageId=standardWageId,\n",
    "            empId=empId)\n",
    "\n",
    "    roleList=list(roleDict.values())\n",
    "    return roleDict"
   ]
  },
  {
   "cell_type": "code",
   "execution_count": null,
   "metadata": {},
   "outputs": [],
   "source": []
  }
 ],
 "metadata": {
  "kernelspec": {
   "display_name": "Python 3",
   "language": "python",
   "name": "python3"
  },
  "language_info": {
   "codemirror_mode": {
    "name": "ipython",
    "version": 3
   },
   "file_extension": ".py",
   "mimetype": "text/x-python",
   "name": "python",
   "nbconvert_exporter": "python",
   "pygments_lexer": "ipython3",
   "version": "3.8.5"
  }
 },
 "nbformat": 4,
 "nbformat_minor": 4
}
