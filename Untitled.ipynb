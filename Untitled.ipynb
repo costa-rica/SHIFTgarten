{
 "cells": [
  {
   "cell_type": "code",
   "execution_count": 1,
   "metadata": {},
   "outputs": [
    {
     "name": "stderr",
     "output_type": "stream",
     "text": [
      "C:\\tools\\miniconda3\\envs\\dmrAppConda\\lib\\site-packages\\flask_sqlalchemy\\__init__.py:833: FSADeprecationWarning: SQLALCHEMY_TRACK_MODIFICATIONS adds significant overhead and will be disabled by default in the future.  Set it to True or False to suppress this warning.\n",
      "  warnings.warn(FSADeprecationWarning(\n"
     ]
    }
   ],
   "source": [
    "from dmrApp import create_app, db\n",
    "from dmrApp.models import Dmrs, Employees, Employeeroles, Post, Restaurants, Shifts, User, Standardwages\n",
    "import numpy as np\n",
    "from datetime import date, datetime\n",
    "from datetime import timedelta\n",
    "import datetime\n",
    "from sqlalchemy import func\n",
    "import pandas as pd\n",
    "import os\n",
    "proxyApp=create_app()\n",
    "ctx=proxyApp.app_context()\n",
    "ctx.push()"
   ]
  },
  {
   "cell_type": "code",
   "execution_count": 7,
   "metadata": {},
   "outputs": [
    {
     "data": {
      "text/plain": [
       "[Employee('10','Gibson','Hops N Shine')]"
      ]
     },
     "execution_count": 7,
     "metadata": {},
     "output_type": "execute_result"
    }
   ],
   "source": [
    "empName='Gibson'\n",
    "db.session.query(Employees).filter((Employees.name==empName) & (Employees.deactivatedBy==None)).all()"
   ]
  },
  {
   "cell_type": "code",
   "execution_count": null,
   "metadata": {},
   "outputs": [],
   "source": []
  },
  {
   "cell_type": "code",
   "execution_count": null,
   "metadata": {},
   "outputs": [],
   "source": []
  },
  {
   "cell_type": "code",
   "execution_count": null,
   "metadata": {},
   "outputs": [],
   "source": []
  },
  {
   "cell_type": "code",
   "execution_count": 73,
   "metadata": {},
   "outputs": [],
   "source": [
    "resId='3'\n",
    "# employeeRoleIds=Employeeroles.query\n",
    "employeeRoleData=Employeeroles.query"
   ]
  },
  {
   "cell_type": "code",
   "execution_count": 81,
   "metadata": {},
   "outputs": [
    {
     "name": "stdout",
     "output_type": "stream",
     "text": [
      "['Nick', 'Shayan', 'apprentice1', 'apprentice2', 'Zane', 'Icarus']\n"
     ]
    }
   ],
   "source": [
    "if int(resId) in [3,4,5,6]:\n",
    "    employeeRoleData=employeeRoleData.filter((Employeeroles.restaurantId>=3) & (Employeeroles.restaurantId<=6))\n",
    "    #remove deactivated employees from this list \n",
    "    employeeRoleEmpIdList=[i[0] for i in employeeRoleData.with_entities(Employeeroles.empId).distinct().all()]\n",
    "    #employeeRoleEmpIdList unique list of all empID's\n",
    "    \n",
    "    employeeDataFiltered=Employees.query.filter(Employees.id.in_(employeeRoleEmpIdList) & Employees.deactivatedBy==None).all()\n",
    "    empIdListFiltered=[i.id for i in employeeDataFiltered]\n",
    "    #empId's filtered\n",
    "    \n",
    "# #     use employeeIdList to get roles\n",
    "    employeeRoleList=Employeeroles.query.filter(Employeeroles.empId.in_(empIdListFiltered)).with_entities(\n",
    "        Employeeroles.role).distinct().all()\n",
    "    employeeRoleList=[i[0] for i in employeeRoleList]\n",
    "    \n",
    "# #     Get employee Names list\n",
    "    empNameList=Employees.query.filter(Employees.id.in_(empIdListFiltered)).with_entities(Employees.name).all()\n",
    "    empNameList=[i[0] for i in empNameList]\n",
    "    \n",
    "    print(empNameList)\n"
   ]
  },
  {
   "cell_type": "code",
   "execution_count": null,
   "metadata": {},
   "outputs": [],
   "source": []
  },
  {
   "cell_type": "code",
   "execution_count": null,
   "metadata": {},
   "outputs": [],
   "source": []
  },
  {
   "cell_type": "code",
   "execution_count": null,
   "metadata": {},
   "outputs": [],
   "source": []
  },
  {
   "cell_type": "code",
   "execution_count": 6,
   "metadata": {},
   "outputs": [
    {
     "data": {
      "text/plain": [
       "999999"
      ]
     },
     "execution_count": 6,
     "metadata": {},
     "output_type": "execute_result"
    }
   ],
   "source": [
    "maxEmpId=db.session.query(func.max(Employees.id)).first()[0]\n",
    "maxEmpId"
   ]
  },
  {
   "cell_type": "code",
   "execution_count": 16,
   "metadata": {},
   "outputs": [
    {
     "data": {
      "text/plain": [
       "True"
      ]
     },
     "execution_count": 16,
     "metadata": {},
     "output_type": "execute_result"
    }
   ],
   "source": [
    "checkAvail = maxEmpId-1\n",
    "flag = True\n",
    "flag\n",
    "    "
   ]
  },
  {
   "cell_type": "code",
   "execution_count": 22,
   "metadata": {},
   "outputs": [
    {
     "data": {
      "text/plain": [
       "999998"
      ]
     },
     "execution_count": 22,
     "metadata": {},
     "output_type": "execute_result"
    }
   ],
   "source": [
    "newDeactiveId=999999\n",
    "flag=True\n",
    "while flag:\n",
    "    if Employees.query.filter_by(id=newDeactiveId).first():\n",
    "        newDeactiveId = db.session.query(func.max(Employees.id)).first()[0]-1\n",
    "    else:\n",
    "        flag=False\n",
    "\n",
    "newDeactiveId"
   ]
  },
  {
   "cell_type": "code",
   "execution_count": null,
   "metadata": {},
   "outputs": [],
   "source": []
  },
  {
   "cell_type": "code",
   "execution_count": 3,
   "metadata": {},
   "outputs": [],
   "source": [
    "emp1=Employees.query.filter_by(id=empId).first()\n",
    "emp1.id=newDeactiveId\n",
    "# newEmp.deactivatedBy=1\n",
    "db.session.commit()"
   ]
  },
  {
   "cell_type": "code",
   "execution_count": 5,
   "metadata": {},
   "outputs": [],
   "source": [
    "emp1.id=999999\n",
    "db.session.commit()"
   ]
  },
  {
   "cell_type": "code",
   "execution_count": 16,
   "metadata": {},
   "outputs": [],
   "source": [
    "emp1Roles=Employeeroles.query.filter_by(empId=empId).all()\n",
    "for i in emp1Roles:\n",
    "    i.empId=newDeactiveId\n",
    "db.session.commit()"
   ]
  },
  {
   "cell_type": "code",
   "execution_count": 17,
   "metadata": {},
   "outputs": [],
   "source": [
    "emp1Shifts=Shifts.query.filter_by(empId=empId).all()\n",
    "for i in emp1Shifts:\n",
    "    i.empId=newDeactiveId\n",
    "db.session.commit()"
   ]
  },
  {
   "cell_type": "code",
   "execution_count": null,
   "metadata": {},
   "outputs": [],
   "source": [
    "Employees.query.filter_by(id=newDeactiveId).first()"
   ]
  },
  {
   "cell_type": "code",
   "execution_count": 24,
   "metadata": {},
   "outputs": [
    {
     "data": {
      "text/plain": [
       "Shift('7','None','empId: 1','Nick','Tysons Biergarten')"
      ]
     },
     "execution_count": 24,
     "metadata": {},
     "output_type": "execute_result"
    }
   ],
   "source": [
    "empId=1\n",
    "Shifts.query.filter_by(empId=empId).first()"
   ]
  },
  {
   "cell_type": "code",
   "execution_count": null,
   "metadata": {},
   "outputs": [],
   "source": []
  },
  {
   "cell_type": "code",
   "execution_count": 20,
   "metadata": {},
   "outputs": [],
   "source": [
    "newEmp=Employees.query.filter_by(id=newEmpId).first()\n",
    "newEmp.deactivatedBy=1\n",
    "db.session.commit()"
   ]
  },
  {
   "cell_type": "code",
   "execution_count": 4,
   "metadata": {},
   "outputs": [
    {
     "data": {
      "text/plain": [
       "Employee('999999','Athena_emp','Salamati Grill', deactivatedBy:'CostaRica)"
      ]
     },
     "execution_count": 4,
     "metadata": {},
     "output_type": "execute_result"
    }
   ],
   "source": [
    "newEmp=Employees.query.filter_by(id=newEmpId).first()\n",
    "newEmp"
   ]
  },
  {
   "cell_type": "code",
   "execution_count": 5,
   "metadata": {},
   "outputs": [
    {
     "ename": "NameError",
     "evalue": "name 'current_user' is not defined",
     "output_type": "error",
     "traceback": [
      "\u001b[1;31m---------------------------------------------------------------------------\u001b[0m",
      "\u001b[1;31mNameError\u001b[0m                                 Traceback (most recent call last)",
      "\u001b[1;32m<ipython-input-5-39a3bdceaf2a>\u001b[0m in \u001b[0;36m<module>\u001b[1;34m\u001b[0m\n\u001b[1;32m----> 1\u001b[1;33m \u001b[0mcurrent_user\u001b[0m\u001b[1;33m.\u001b[0m\u001b[0musername\u001b[0m\u001b[1;33m\u001b[0m\u001b[1;33m\u001b[0m\u001b[0m\n\u001b[0m",
      "\u001b[1;31mNameError\u001b[0m: name 'current_user' is not defined"
     ]
    }
   ],
   "source": [
    "current_user.username"
   ]
  },
  {
   "cell_type": "code",
   "execution_count": null,
   "metadata": {},
   "outputs": [],
   "source": []
  },
  {
   "cell_type": "code",
   "execution_count": null,
   "metadata": {},
   "outputs": [],
   "source": []
  },
  {
   "cell_type": "code",
   "execution_count": 34,
   "metadata": {},
   "outputs": [
    {
     "data": {
      "text/plain": [
       "'02-07-2021'"
      ]
     },
     "execution_count": 34,
     "metadata": {},
     "output_type": "execute_result"
    }
   ],
   "source": [
    "roleId=1\n",
    "\n",
    "checkShifts(roleId)"
   ]
  },
  {
   "cell_type": "code",
   "execution_count": 24,
   "metadata": {},
   "outputs": [
    {
     "data": {
      "text/plain": [
       "(None, None)"
      ]
     },
     "execution_count": 24,
     "metadata": {},
     "output_type": "execute_result"
    }
   ],
   "source": [
    "db.session.query(Shifts.shiftDate,func.max(Shifts.id)).filter_by(employeeRolesId=roleId).first()"
   ]
  },
  {
   "cell_type": "code",
   "execution_count": 33,
   "metadata": {},
   "outputs": [],
   "source": [
    "def checkShifts(roleId):\n",
    "    shiftDate=db.session.query(Shifts.shiftDate,func.max(Shifts.id)).filter_by(employeeRolesId=roleId).first()\n",
    "    if shiftDate==(None, None):\n",
    "        return None\n",
    "    else:\n",
    "        return shiftDate[0].strftime(\"%m-%d-%Y\")"
   ]
  },
  {
   "cell_type": "code",
   "execution_count": null,
   "metadata": {},
   "outputs": [],
   "source": []
  },
  {
   "cell_type": "code",
   "execution_count": 14,
   "metadata": {},
   "outputs": [],
   "source": [
    "shiftsData=Shifts.query.filter_by(employeeRolesId=roleId).all()"
   ]
  },
  {
   "cell_type": "code",
   "execution_count": 15,
   "metadata": {},
   "outputs": [
    {
     "data": {
      "text/plain": [
       "[Shift('2','None','empId: 2','Shayan','Tysons Biergarten'),\n",
       " Shift('6','None','empId: 2','Shayan','Tysons Biergarten'),\n",
       " Shift('9','None','empId: 2','Shayan','RollBar'),\n",
       " Shift('10','None','empId: 2','Shayan','RollBar'),\n",
       " Shift('15','','empId: 2','Shayan','Hops N Shine')]"
      ]
     },
     "execution_count": 15,
     "metadata": {},
     "output_type": "execute_result"
    }
   ],
   "source": [
    "shiftsData"
   ]
  },
  {
   "cell_type": "code",
   "execution_count": 18,
   "metadata": {},
   "outputs": [
    {
     "data": {
      "text/plain": [
       "(datetime.date(2021, 1, 5), 15)"
      ]
     },
     "execution_count": 18,
     "metadata": {},
     "output_type": "execute_result"
    }
   ],
   "source": [
    "db.session.query(Shifts.shiftDate,func.max(Shifts.id)).filter_by(employeeRolesId=roleId).first()"
   ]
  },
  {
   "cell_type": "code",
   "execution_count": null,
   "metadata": {},
   "outputs": [],
   "source": []
  },
  {
   "cell_type": "code",
   "execution_count": null,
   "metadata": {},
   "outputs": [],
   "source": []
  },
  {
   "cell_type": "code",
   "execution_count": 2,
   "metadata": {},
   "outputs": [],
   "source": [
    "empId='1'"
   ]
  },
  {
   "cell_type": "code",
   "execution_count": 3,
   "metadata": {},
   "outputs": [],
   "source": [
    "empRolesObj = Employeeroles.query.filter_by(empId=int(empId)).all()"
   ]
  },
  {
   "cell_type": "code",
   "execution_count": 11,
   "metadata": {},
   "outputs": [
    {
     "data": {
      "text/plain": [
       "[[1, 'bartender', 2.13, 1.0, 'Tysons Biergarten', None],\n",
       " [2, 'security', 12.0, 0.0, 'Tysons Biergarten', None]]"
      ]
     },
     "execution_count": 11,
     "metadata": {},
     "output_type": "execute_result"
    }
   ],
   "source": [
    "roleTableList = []\n",
    "for role in empRolesObj:\n",
    "    roleId= role.id\n",
    "    roleRole = role.role\n",
    "    roleWage = role.wage\n",
    "    roleTipPercentage = role.tipPercentage\n",
    "    roleRes = Restaurants.query.filter_by(id=role.restaurantId).first().name\n",
    "    roleNotes = role.notes\n",
    "    subList=[roleId, roleRole, roleWage, roleTipPercentage, roleRes, roleNotes]\n",
    "    roleTableList.append(subList)\n",
    "roleTableList"
   ]
  },
  {
   "cell_type": "code",
   "execution_count": 15,
   "metadata": {},
   "outputs": [
    {
     "data": {
      "text/html": [
       "<div>\n",
       "<style scoped>\n",
       "    .dataframe tbody tr th:only-of-type {\n",
       "        vertical-align: middle;\n",
       "    }\n",
       "\n",
       "    .dataframe tbody tr th {\n",
       "        vertical-align: top;\n",
       "    }\n",
       "\n",
       "    .dataframe thead th {\n",
       "        text-align: right;\n",
       "    }\n",
       "</style>\n",
       "<table border=\"1\" class=\"dataframe\">\n",
       "  <thead>\n",
       "    <tr style=\"text-align: right;\">\n",
       "      <th></th>\n",
       "      <th>Role</th>\n",
       "      <th>Wage Rate</th>\n",
       "      <th>Tip Percentage</th>\n",
       "      <th>Restaurant</th>\n",
       "      <th>Notes</th>\n",
       "    </tr>\n",
       "    <tr>\n",
       "      <th>Role ID</th>\n",
       "      <th></th>\n",
       "      <th></th>\n",
       "      <th></th>\n",
       "      <th></th>\n",
       "      <th></th>\n",
       "    </tr>\n",
       "  </thead>\n",
       "  <tbody>\n",
       "    <tr>\n",
       "      <th>1</th>\n",
       "      <td>bartender</td>\n",
       "      <td>2.13</td>\n",
       "      <td>1.0</td>\n",
       "      <td>Tysons Biergarten</td>\n",
       "      <td>None</td>\n",
       "    </tr>\n",
       "    <tr>\n",
       "      <th>2</th>\n",
       "      <td>security</td>\n",
       "      <td>12.00</td>\n",
       "      <td>0.0</td>\n",
       "      <td>Tysons Biergarten</td>\n",
       "      <td>None</td>\n",
       "    </tr>\n",
       "  </tbody>\n",
       "</table>\n",
       "</div>"
      ],
      "text/plain": [
       "              Role  Wage Rate  Tip Percentage         Restaurant Notes\n",
       "Role ID                                                               \n",
       "1        bartender       2.13             1.0  Tysons Biergarten  None\n",
       "2         security      12.00             0.0  Tysons Biergarten  None"
      ]
     },
     "execution_count": 15,
     "metadata": {},
     "output_type": "execute_result"
    }
   ],
   "source": [
    "# to a dataframe\n",
    "df = pd.DataFrame(columns=['Role ID','Role','Wage Rate','Tip Percentage','Restaurant', 'Notes'])\n",
    "roleTableList = []\n",
    "i=0\n",
    "for role in empRolesObj:\n",
    "    roleId= role.id\n",
    "    roleRole = role.role\n",
    "    roleWage = role.wage\n",
    "    roleTipPercentage = role.tipPercentage\n",
    "    roleRes = Restaurants.query.filter_by(id=role.restaurantId).first().name\n",
    "    roleNotes = role.notes\n",
    "    subList=[roleId, roleRole, roleWage, roleTipPercentage, roleRes, roleNotes]\n",
    "    df.loc[i]=subList\n",
    "    i+=1\n",
    "#     roleTableList.append(subList)\n",
    "df.set_index('Role ID', inplace=True)\n",
    "df"
   ]
  },
  {
   "cell_type": "code",
   "execution_count": 18,
   "metadata": {},
   "outputs": [
    {
     "data": {
      "text/plain": [
       "[{'Role': 'bartender',\n",
       "  'Wage Rate': 2.13,\n",
       "  'Tip Percentage': 1.0,\n",
       "  'Restaurant': 'Tysons Biergarten',\n",
       "  'Notes': None},\n",
       " {'Role': 'security',\n",
       "  'Wage Rate': 12.0,\n",
       "  'Tip Percentage': 0.0,\n",
       "  'Restaurant': 'Tysons Biergarten',\n",
       "  'Notes': None}]"
      ]
     },
     "execution_count": 18,
     "metadata": {},
     "output_type": "execute_result"
    }
   ],
   "source": [
    "tableData=df.to_dict('records')\n",
    "tableData"
   ]
  },
  {
   "cell_type": "code",
   "execution_count": 17,
   "metadata": {},
   "outputs": [
    {
     "data": {
      "text/plain": [
       "6"
      ]
     },
     "execution_count": 17,
     "metadata": {},
     "output_type": "execute_result"
    }
   ],
   "source": [
    "restaurantId = Restaurants.query.filter_by(name='Salamati Grill').with_entities(Restaurants.id).first()[0]\n",
    "restaurantId"
   ]
  },
  {
   "cell_type": "code",
   "execution_count": null,
   "metadata": {},
   "outputs": [],
   "source": []
  },
  {
   "cell_type": "code",
   "execution_count": null,
   "metadata": {},
   "outputs": [],
   "source": []
  },
  {
   "cell_type": "code",
   "execution_count": null,
   "metadata": {},
   "outputs": [],
   "source": []
  },
  {
   "cell_type": "code",
   "execution_count": null,
   "metadata": {},
   "outputs": [],
   "source": []
  },
  {
   "cell_type": "code",
   "execution_count": null,
   "metadata": {},
   "outputs": [],
   "source": []
  },
  {
   "cell_type": "code",
   "execution_count": 49,
   "metadata": {},
   "outputs": [],
   "source": [
    "dateFrom=''\n",
    "dateTo=''\n",
    "resId=''\n",
    "\n",
    "#def payrollReport(date...)"
   ]
  },
  {
   "cell_type": "code",
   "execution_count": 50,
   "metadata": {},
   "outputs": [],
   "source": [
    "shiftDf=pd.read_sql_table('shifts',db.engine)\n",
    "employeerolesDf=pd.read_sql_table('employeeroles',db.engine)\n",
    "restaurantsDf=pd.read_sql_table('restaurants',db.engine)\n",
    "\n",
    "#added new 27 January 2021\n",
    "if dateFrom=='':\n",
    "    dateFrom=date.today().strftime(\"%Y-%m-%d\")\n",
    "\n",
    "#Build dictionary of weeks with Start and end dates\n",
    "#get date ranges for tables\n",
    "weekStartDt= datetime.datetime.strptime(dateFrom,'%Y-%m-%d').date()\n",
    "weekEndDt=datetime.datetime.strptime(dateFrom,'%Y-%m-%d').date() + timedelta(days=6)\n",
    "weeksDict={}\n",
    "\n",
    "for i in range(1,2):\n",
    "    weeksDict[f'week{i}']=[weekStartDt,weekEndDt]\n",
    "    weekStartDt=weekEndDt + timedelta(days=1)\n",
    "    weekEndDt = weekEndDt + timedelta(days=7)\n",
    "    i+=1\n",
    "weeksDict[f'week{i}']=[weeksDict[f'week{i-1}'][0] + timedelta(days=7),weeksDict[f'week{i-1}'][1] + timedelta(days=7)]"
   ]
  },
  {
   "cell_type": "code",
   "execution_count": 61,
   "metadata": {
    "scrolled": true
   },
   "outputs": [
    {
     "data": {
      "text/plain": [
       "{'week1': [datetime.date(2021, 1, 27), datetime.date(2021, 2, 2)],\n",
       " 'week2': [datetime.date(2021, 2, 3), datetime.date(2021, 2, 9)]}"
      ]
     },
     "execution_count": 61,
     "metadata": {},
     "output_type": "execute_result"
    }
   ],
   "source": [
    "weeksDict"
   ]
  },
  {
   "cell_type": "code",
   "execution_count": 56,
   "metadata": {},
   "outputs": [],
   "source": [
    "#build dataframe for one week's payroll if it exists\n",
    "dfList=[]\n",
    "# i=1\n",
    "for x,y in weeksDict.items():\n",
    "    df=shiftDf[(shiftDf['shiftDate']>=str(y[0])) & (shiftDf['shiftDate']<=str(y[1]))]\n",
    "    if resId=='':\n",
    "        pass\n",
    "    elif resId>=3:\n",
    "        df=df[df['restaurantId']==resId]\n",
    "    elif resId==2:\n",
    "        df=df[(df['restaurantId']>=3)& (df['restaurantId']<=6)]\n",
    "    dfList.append(df)"
   ]
  },
  {
   "cell_type": "code",
   "execution_count": 57,
   "metadata": {},
   "outputs": [
    {
     "data": {
      "text/plain": [
       "2"
      ]
     },
     "execution_count": 57,
     "metadata": {},
     "output_type": "execute_result"
    }
   ],
   "source": [
    "len(dfList)"
   ]
  },
  {
   "cell_type": "code",
   "execution_count": 60,
   "metadata": {},
   "outputs": [
    {
     "data": {
      "text/plain": [
       "datetime.date(2021, 2, 3)"
      ]
     },
     "execution_count": 60,
     "metadata": {},
     "output_type": "execute_result"
    }
   ],
   "source": [
    "y[0]"
   ]
  },
  {
   "cell_type": "code",
   "execution_count": 52,
   "metadata": {},
   "outputs": [
    {
     "name": "stdout",
     "output_type": "stream",
     "text": [
      "***no Shifts***\n"
     ]
    }
   ],
   "source": [
    "\n",
    "\n",
    "    if len(df)>0:\n",
    "        df=df.groupby(['name','empId','employeeRolesId','restaurantId']).sum()\n",
    "        df=df[['hoursWorked','shiftTips','shiftTipsShipgarten','wages']].copy()\n",
    "        df.reset_index(inplace=True)\n",
    "        df['Tips']=np.where((df['restaurantId'] >=3) & (df['restaurantId']<=6),df['shiftTipsShipgarten'],df['shiftTips'])\n",
    "        df.set_index(['name','empId','employeeRolesId','restaurantId'], inplace=True)\n",
    "        df1=df[['hoursWorked','Tips','wages']].copy()\n",
    "        df1.columns=['Hours', 'Tips','Wages']\n",
    "        dfList.append(df1)\n",
    "    else:\n",
    "        noShiftsColumn=f'No shifts {str(y[0])} thru {str(y[1])}'\n",
    "\n",
    "if len(dfList)==0:\n",
    "    print('***no Shifts***')\n",
    "elif len(dfList)==1:\n",
    "    df2=dfList[0]\n",
    "else:\n",
    "    df2=pd.merge(dfList[0],dfList[1],how='outer', on=['name','empId','employeeRolesId','restaurantId'], \n",
    "         suffixes=(' Week1',' Week2')).fillna(0)\n",
    "    df2['Total Hours']=df2['Hours Week1']+df2['Hours Week2']\n",
    "    df2['Total Tips']=df2['Tips Week1']+df2['Tips Week2']\n",
    "    df2['Total Wages']=df2['Wages Week1']+df2['Wages Week2']"
   ]
  },
  {
   "cell_type": "code",
   "execution_count": 53,
   "metadata": {},
   "outputs": [
    {
     "data": {
      "text/html": [
       "<div>\n",
       "<style scoped>\n",
       "    .dataframe tbody tr th:only-of-type {\n",
       "        vertical-align: middle;\n",
       "    }\n",
       "\n",
       "    .dataframe tbody tr th {\n",
       "        vertical-align: top;\n",
       "    }\n",
       "\n",
       "    .dataframe thead th {\n",
       "        text-align: right;\n",
       "    }\n",
       "</style>\n",
       "<table border=\"1\" class=\"dataframe\">\n",
       "  <thead>\n",
       "    <tr style=\"text-align: right;\">\n",
       "      <th></th>\n",
       "      <th>id</th>\n",
       "      <th>shiftDate</th>\n",
       "      <th>name</th>\n",
       "      <th>schedTime</th>\n",
       "      <th>timeStart</th>\n",
       "      <th>timeOff</th>\n",
       "      <th>hoursWorked</th>\n",
       "      <th>shiftTips</th>\n",
       "      <th>shiftTipsShipgarten</th>\n",
       "      <th>wages</th>\n",
       "      <th>shiftsTimeStamp</th>\n",
       "      <th>empId</th>\n",
       "      <th>employeeRolesId</th>\n",
       "      <th>userId</th>\n",
       "      <th>restaurantId</th>\n",
       "      <th>restaurantGroupId</th>\n",
       "    </tr>\n",
       "  </thead>\n",
       "  <tbody>\n",
       "  </tbody>\n",
       "</table>\n",
       "</div>"
      ],
      "text/plain": [
       "Empty DataFrame\n",
       "Columns: [id, shiftDate, name, schedTime, timeStart, timeOff, hoursWorked, shiftTips, shiftTipsShipgarten, wages, shiftsTimeStamp, empId, employeeRolesId, userId, restaurantId, restaurantGroupId]\n",
       "Index: []"
      ]
     },
     "execution_count": 53,
     "metadata": {},
     "output_type": "execute_result"
    }
   ],
   "source": [
    "df.head()"
   ]
  },
  {
   "cell_type": "code",
   "execution_count": 35,
   "metadata": {},
   "outputs": [],
   "source": [
    "#get hourly rate from employee roles\n",
    "rolesDf=employeerolesDf[['id','role','wage']].copy()\n",
    "rolesDf.columns=['roleId','Role','Wage']\n",
    "df2.reset_index(inplace=True)\n",
    "df2.set_index('employeeRolesId')\n",
    "df3=pd.merge(df2,rolesDf,how='left',left_on='employeeRolesId',right_on='roleId')\n",
    "\n",
    "restaurantsDf.columns=['restaurantId','Restaurant Name']\n",
    "df4=pd.merge(df3,restaurantsDf,how='left',left_on='restaurantId',right_on='restaurantId')"
   ]
  },
  {
   "cell_type": "code",
   "execution_count": 36,
   "metadata": {},
   "outputs": [
    {
     "name": "stdout",
     "output_type": "stream",
     "text": [
      "payrollReport Completed Successfully\n"
     ]
    }
   ],
   "source": [
    "if len(df4.columns)==11:\n",
    "    colNames=['Name','Restaurant Name','Role','Hours','Wages','Tips']\n",
    "    payrollReportDf=df4[['name','Restaurant Name','Role','Hours','Wages','Tips']].copy()\n",
    "    payrollReportDf['Week Start']=weeksDict['week1'][0]\n",
    "    payrollReportDf['Shift Status']=noShiftsColumn\n",
    "    for i in payrollReportDf.iloc[:,3:-2]:\n",
    "        payrollReportDf[i]=payrollReportDf[i].apply(lambda x: round(x, 2))\n",
    "else:\n",
    "    colNames=['Name','Restaurant Name','Role','Hours Week1','Hours Week2','Total Hours','Wages Week1',\n",
    "                       'Wages Week2','Total Wages','Tips Week1','Tips Week2','Total Tips']\n",
    "    payrollReportDf=df4[['name','Restaurant Name','Role','Hours Week1','Hours Week2','Total Hours','Wages Week1',\n",
    "                       'Wages Week2','Total Wages','Tips Week1','Tips Week2','Total Tips']].copy()\n",
    "    payrollReportDf['Week1 Start']=weeksDict['week1'][0]\n",
    "    payrollReportDf['Week2 Start']=weeksDict['week2'][0]\n",
    "    for i in payrollReportDf.iloc[:,3:-2]:\n",
    "        payrollReportDf[i]=payrollReportDf[i].apply(lambda x: round(x, 2))\n",
    "payrollReportDf.rename(columns={'name':'Name'},inplace=True)\n",
    "\n",
    "\n",
    "# convert weeksDict to df\n",
    "dfWeeks=pd.DataFrame(weeksDict)\n",
    "print('payrollReport Completed Successfully')\n",
    "# return (payrollReportDf,colNames,dfWeeks)"
   ]
  },
  {
   "cell_type": "code",
   "execution_count": 37,
   "metadata": {},
   "outputs": [
    {
     "data": {
      "text/html": [
       "<div>\n",
       "<style scoped>\n",
       "    .dataframe tbody tr th:only-of-type {\n",
       "        vertical-align: middle;\n",
       "    }\n",
       "\n",
       "    .dataframe tbody tr th {\n",
       "        vertical-align: top;\n",
       "    }\n",
       "\n",
       "    .dataframe thead th {\n",
       "        text-align: right;\n",
       "    }\n",
       "</style>\n",
       "<table border=\"1\" class=\"dataframe\">\n",
       "  <thead>\n",
       "    <tr style=\"text-align: right;\">\n",
       "      <th></th>\n",
       "      <th>Name</th>\n",
       "      <th>Restaurant Name</th>\n",
       "      <th>Role</th>\n",
       "      <th>Hours Week1</th>\n",
       "      <th>Hours Week2</th>\n",
       "      <th>Total Hours</th>\n",
       "      <th>Wages Week1</th>\n",
       "      <th>Wages Week2</th>\n",
       "      <th>Total Wages</th>\n",
       "      <th>Tips Week1</th>\n",
       "      <th>Tips Week2</th>\n",
       "      <th>Total Tips</th>\n",
       "      <th>Week1 Start</th>\n",
       "      <th>Week2 Start</th>\n",
       "    </tr>\n",
       "  </thead>\n",
       "  <tbody>\n",
       "    <tr>\n",
       "      <th>0</th>\n",
       "      <td>Icarus</td>\n",
       "      <td>Hops N Shine</td>\n",
       "      <td>bartender</td>\n",
       "      <td>9.00</td>\n",
       "      <td>0.0</td>\n",
       "      <td>9.00</td>\n",
       "      <td>19.17</td>\n",
       "      <td>0.00</td>\n",
       "      <td>19.17</td>\n",
       "      <td>0.00</td>\n",
       "      <td>0.00</td>\n",
       "      <td>0.00</td>\n",
       "      <td>2021-01-01</td>\n",
       "      <td>2021-01-08</td>\n",
       "    </tr>\n",
       "    <tr>\n",
       "      <th>1</th>\n",
       "      <td>Nick</td>\n",
       "      <td>Tysons Biergarten</td>\n",
       "      <td>bartender</td>\n",
       "      <td>1.00</td>\n",
       "      <td>2.0</td>\n",
       "      <td>3.00</td>\n",
       "      <td>2.13</td>\n",
       "      <td>4.26</td>\n",
       "      <td>6.39</td>\n",
       "      <td>0.67</td>\n",
       "      <td>1.00</td>\n",
       "      <td>1.67</td>\n",
       "      <td>2021-01-01</td>\n",
       "      <td>2021-01-08</td>\n",
       "    </tr>\n",
       "    <tr>\n",
       "      <th>2</th>\n",
       "      <td>Nick</td>\n",
       "      <td>Hops N Shine</td>\n",
       "      <td>security</td>\n",
       "      <td>8.00</td>\n",
       "      <td>0.0</td>\n",
       "      <td>8.00</td>\n",
       "      <td>96.00</td>\n",
       "      <td>0.00</td>\n",
       "      <td>96.00</td>\n",
       "      <td>0.00</td>\n",
       "      <td>0.00</td>\n",
       "      <td>0.00</td>\n",
       "      <td>2021-01-01</td>\n",
       "      <td>2021-01-08</td>\n",
       "    </tr>\n",
       "    <tr>\n",
       "      <th>3</th>\n",
       "      <td>Shayan</td>\n",
       "      <td>Tysons Biergarten</td>\n",
       "      <td>bartender</td>\n",
       "      <td>2.68</td>\n",
       "      <td>3.0</td>\n",
       "      <td>5.68</td>\n",
       "      <td>5.72</td>\n",
       "      <td>6.39</td>\n",
       "      <td>12.11</td>\n",
       "      <td>0.94</td>\n",
       "      <td>0.78</td>\n",
       "      <td>1.73</td>\n",
       "      <td>2021-01-01</td>\n",
       "      <td>2021-01-08</td>\n",
       "    </tr>\n",
       "    <tr>\n",
       "      <th>4</th>\n",
       "      <td>Shayan</td>\n",
       "      <td>RollBar</td>\n",
       "      <td>bartender</td>\n",
       "      <td>3.00</td>\n",
       "      <td>0.0</td>\n",
       "      <td>3.00</td>\n",
       "      <td>6.39</td>\n",
       "      <td>0.00</td>\n",
       "      <td>6.39</td>\n",
       "      <td>1.06</td>\n",
       "      <td>0.00</td>\n",
       "      <td>1.06</td>\n",
       "      <td>2021-01-01</td>\n",
       "      <td>2021-01-08</td>\n",
       "    </tr>\n",
       "  </tbody>\n",
       "</table>\n",
       "</div>"
      ],
      "text/plain": [
       "     Name    Restaurant Name       Role  Hours Week1  Hours Week2  \\\n",
       "0  Icarus       Hops N Shine  bartender         9.00          0.0   \n",
       "1    Nick  Tysons Biergarten  bartender         1.00          2.0   \n",
       "2    Nick       Hops N Shine   security         8.00          0.0   \n",
       "3  Shayan  Tysons Biergarten  bartender         2.68          3.0   \n",
       "4  Shayan            RollBar  bartender         3.00          0.0   \n",
       "\n",
       "   Total Hours  Wages Week1  Wages Week2  Total Wages  Tips Week1  Tips Week2  \\\n",
       "0         9.00        19.17         0.00        19.17        0.00        0.00   \n",
       "1         3.00         2.13         4.26         6.39        0.67        1.00   \n",
       "2         8.00        96.00         0.00        96.00        0.00        0.00   \n",
       "3         5.68         5.72         6.39        12.11        0.94        0.78   \n",
       "4         3.00         6.39         0.00         6.39        1.06        0.00   \n",
       "\n",
       "   Total Tips Week1 Start Week2 Start  \n",
       "0        0.00  2021-01-01  2021-01-08  \n",
       "1        1.67  2021-01-01  2021-01-08  \n",
       "2        0.00  2021-01-01  2021-01-08  \n",
       "3        1.73  2021-01-01  2021-01-08  \n",
       "4        1.06  2021-01-01  2021-01-08  "
      ]
     },
     "execution_count": 37,
     "metadata": {},
     "output_type": "execute_result"
    }
   ],
   "source": [
    "payrollReportDf.head()"
   ]
  },
  {
   "cell_type": "code",
   "execution_count": null,
   "metadata": {},
   "outputs": [],
   "source": [
    "df=shiftDf[(shiftDf['shiftDate']>=str(y[0])) & (shiftDf['shiftDate']<=str(y[1])) & (shiftDf['restaurantId']==resId)]"
   ]
  },
  {
   "cell_type": "code",
   "execution_count": null,
   "metadata": {},
   "outputs": [],
   "source": []
  },
  {
   "cell_type": "code",
   "execution_count": 24,
   "metadata": {},
   "outputs": [],
   "source": [
    "dmrDateObj=date(2021,1,5)\n",
    "resIds=7"
   ]
  },
  {
   "cell_type": "code",
   "execution_count": null,
   "metadata": {},
   "outputs": [],
   "source": []
  },
  {
   "cell_type": "code",
   "execution_count": 1,
   "metadata": {},
   "outputs": [
    {
     "name": "stdout",
     "output_type": "stream",
     "text": [
      "25\n"
     ]
    }
   ],
   "source": [
    "someString='empId|25'\n",
    "_, empId=someString.split('|')\n",
    "print(empId)"
   ]
  },
  {
   "cell_type": "code",
   "execution_count": null,
   "metadata": {},
   "outputs": [],
   "source": []
  }
 ],
 "metadata": {
  "kernelspec": {
   "display_name": "Python 3",
   "language": "python",
   "name": "python3"
  },
  "language_info": {
   "codemirror_mode": {
    "name": "ipython",
    "version": 3
   },
   "file_extension": ".py",
   "mimetype": "text/x-python",
   "name": "python",
   "nbconvert_exporter": "python",
   "pygments_lexer": "ipython3",
   "version": "3.8.5"
  }
 },
 "nbformat": 4,
 "nbformat_minor": 4
}
